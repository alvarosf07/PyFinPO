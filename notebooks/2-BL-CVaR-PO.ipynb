{
 "cells": [
  {
   "cell_type": "markdown",
   "metadata": {},
   "source": [
    "# Predictive Black-Litterman CVaR Portfolio Optimization"
   ]
  },
  {
   "cell_type": "markdown",
   "metadata": {},
   "source": [
    "The objective of the present guide is to illustrate how to implement a predictive Black-Litterman CVaR portfolio optimization using the PyPO library. This methodology follows a similar structure to the one detailed in the file ``PyPO_UserGuide.ipynb``, and aims to provide a practical case study example which can be extended to other types of portfolio optimization models, objectives, constraints, input datasets and predictive models as well."
   ]
  },
  {
   "cell_type": "markdown",
   "metadata": {},
   "source": [
    "## Library Import"
   ]
  },
  {
   "cell_type": "code",
   "execution_count": 3,
   "metadata": {},
   "outputs": [],
   "source": [
    "import sys\n",
    "\n",
    "sys.path.append('/Users/alvarosanchez/Documents/Projects/personal-projects/pypot')"
   ]
  },
  {
   "cell_type": "markdown",
   "metadata": {},
   "source": [
    "## 0) Getting the data"
   ]
  },
  {
   "cell_type": "markdown",
   "metadata": {},
   "source": [
    "### Security Prices"
   ]
  },
  {
   "cell_type": "code",
   "execution_count": 1,
   "metadata": {},
   "outputs": [
    {
     "name": "stderr",
     "output_type": "stream",
     "text": [
      "[*********************100%***********************]  14 of 14 completed\n"
     ]
    },
    {
     "data": {
      "text/html": [
       "<div>\n",
       "<style scoped>\n",
       "    .dataframe tbody tr th:only-of-type {\n",
       "        vertical-align: middle;\n",
       "    }\n",
       "\n",
       "    .dataframe tbody tr th {\n",
       "        vertical-align: top;\n",
       "    }\n",
       "\n",
       "    .dataframe thead th {\n",
       "        text-align: right;\n",
       "    }\n",
       "</style>\n",
       "<table border=\"1\" class=\"dataframe\">\n",
       "  <thead>\n",
       "    <tr style=\"text-align: right;\">\n",
       "      <th>Ticker</th>\n",
       "      <th>AAPL</th>\n",
       "      <th>AMZN</th>\n",
       "      <th>C</th>\n",
       "      <th>GOOG</th>\n",
       "      <th>GS</th>\n",
       "      <th>JPM</th>\n",
       "      <th>META</th>\n",
       "      <th>MS</th>\n",
       "      <th>MSFT</th>\n",
       "      <th>NFLX</th>\n",
       "      <th>PFE</th>\n",
       "      <th>TSLA</th>\n",
       "      <th>UNH</th>\n",
       "      <th>XOM</th>\n",
       "    </tr>\n",
       "    <tr>\n",
       "      <th>Date</th>\n",
       "      <th></th>\n",
       "      <th></th>\n",
       "      <th></th>\n",
       "      <th></th>\n",
       "      <th></th>\n",
       "      <th></th>\n",
       "      <th></th>\n",
       "      <th></th>\n",
       "      <th></th>\n",
       "      <th></th>\n",
       "      <th></th>\n",
       "      <th></th>\n",
       "      <th></th>\n",
       "      <th></th>\n",
       "    </tr>\n",
       "  </thead>\n",
       "  <tbody>\n",
       "    <tr>\n",
       "      <th>2015-01-02 00:00:00+00:00</th>\n",
       "      <td>24.347178</td>\n",
       "      <td>15.426000</td>\n",
       "      <td>41.534027</td>\n",
       "      <td>26.104546</td>\n",
       "      <td>160.355652</td>\n",
       "      <td>47.709969</td>\n",
       "      <td>78.214500</td>\n",
       "      <td>29.519680</td>\n",
       "      <td>40.232853</td>\n",
       "      <td>49.848572</td>\n",
       "      <td>20.041168</td>\n",
       "      <td>14.620667</td>\n",
       "      <td>86.892952</td>\n",
       "      <td>60.042519</td>\n",
       "    </tr>\n",
       "    <tr>\n",
       "      <th>2015-01-05 00:00:00+00:00</th>\n",
       "      <td>23.661272</td>\n",
       "      <td>15.109500</td>\n",
       "      <td>40.225082</td>\n",
       "      <td>25.560379</td>\n",
       "      <td>155.348923</td>\n",
       "      <td>46.228821</td>\n",
       "      <td>76.958290</td>\n",
       "      <td>28.596960</td>\n",
       "      <td>39.862877</td>\n",
       "      <td>47.311428</td>\n",
       "      <td>19.932417</td>\n",
       "      <td>14.006000</td>\n",
       "      <td>85.461716</td>\n",
       "      <td>58.399635</td>\n",
       "    </tr>\n",
       "    <tr>\n",
       "      <th>2015-01-06 00:00:00+00:00</th>\n",
       "      <td>23.663500</td>\n",
       "      <td>14.764500</td>\n",
       "      <td>38.808968</td>\n",
       "      <td>24.967966</td>\n",
       "      <td>152.206299</td>\n",
       "      <td>45.030155</td>\n",
       "      <td>75.921417</td>\n",
       "      <td>27.773361</td>\n",
       "      <td>39.277798</td>\n",
       "      <td>46.501431</td>\n",
       "      <td>20.098742</td>\n",
       "      <td>14.085333</td>\n",
       "      <td>85.289246</td>\n",
       "      <td>58.089207</td>\n",
       "    </tr>\n",
       "    <tr>\n",
       "      <th>2015-01-07 00:00:00+00:00</th>\n",
       "      <td>23.995310</td>\n",
       "      <td>14.921000</td>\n",
       "      <td>39.168739</td>\n",
       "      <td>24.925188</td>\n",
       "      <td>154.474548</td>\n",
       "      <td>45.098869</td>\n",
       "      <td>75.921417</td>\n",
       "      <td>28.169905</td>\n",
       "      <td>39.776836</td>\n",
       "      <td>46.742859</td>\n",
       "      <td>20.373800</td>\n",
       "      <td>14.063333</td>\n",
       "      <td>86.160088</td>\n",
       "      <td>58.677792</td>\n",
       "    </tr>\n",
       "    <tr>\n",
       "      <th>2015-01-08 00:00:00+00:00</th>\n",
       "      <td>24.917269</td>\n",
       "      <td>15.023000</td>\n",
       "      <td>39.758152</td>\n",
       "      <td>25.003778</td>\n",
       "      <td>156.940842</td>\n",
       "      <td>46.106644</td>\n",
       "      <td>77.945320</td>\n",
       "      <td>28.589331</td>\n",
       "      <td>40.946995</td>\n",
       "      <td>47.779999</td>\n",
       "      <td>20.789593</td>\n",
       "      <td>14.041333</td>\n",
       "      <td>90.272789</td>\n",
       "      <td>59.654442</td>\n",
       "    </tr>\n",
       "    <tr>\n",
       "      <th>...</th>\n",
       "      <td>...</td>\n",
       "      <td>...</td>\n",
       "      <td>...</td>\n",
       "      <td>...</td>\n",
       "      <td>...</td>\n",
       "      <td>...</td>\n",
       "      <td>...</td>\n",
       "      <td>...</td>\n",
       "      <td>...</td>\n",
       "      <td>...</td>\n",
       "      <td>...</td>\n",
       "      <td>...</td>\n",
       "      <td>...</td>\n",
       "      <td>...</td>\n",
       "    </tr>\n",
       "    <tr>\n",
       "      <th>2024-11-11 00:00:00+00:00</th>\n",
       "      <td>224.229996</td>\n",
       "      <td>206.839996</td>\n",
       "      <td>69.800003</td>\n",
       "      <td>181.970001</td>\n",
       "      <td>602.340027</td>\n",
       "      <td>239.289993</td>\n",
       "      <td>583.169983</td>\n",
       "      <td>133.520004</td>\n",
       "      <td>418.010010</td>\n",
       "      <td>805.440002</td>\n",
       "      <td>26.240000</td>\n",
       "      <td>350.000000</td>\n",
       "      <td>625.250000</td>\n",
       "      <td>119.488152</td>\n",
       "    </tr>\n",
       "    <tr>\n",
       "      <th>2024-11-12 00:00:00+00:00</th>\n",
       "      <td>224.229996</td>\n",
       "      <td>208.910004</td>\n",
       "      <td>69.019997</td>\n",
       "      <td>183.320007</td>\n",
       "      <td>592.590027</td>\n",
       "      <td>239.559998</td>\n",
       "      <td>584.820007</td>\n",
       "      <td>132.309998</td>\n",
       "      <td>423.029999</td>\n",
       "      <td>819.500000</td>\n",
       "      <td>26.190001</td>\n",
       "      <td>328.489990</td>\n",
       "      <td>614.669983</td>\n",
       "      <td>119.369125</td>\n",
       "    </tr>\n",
       "    <tr>\n",
       "      <th>2024-11-13 00:00:00+00:00</th>\n",
       "      <td>225.119995</td>\n",
       "      <td>214.100006</td>\n",
       "      <td>68.889999</td>\n",
       "      <td>180.490005</td>\n",
       "      <td>594.219971</td>\n",
       "      <td>241.160004</td>\n",
       "      <td>580.000000</td>\n",
       "      <td>132.759995</td>\n",
       "      <td>425.200012</td>\n",
       "      <td>830.469971</td>\n",
       "      <td>26.719999</td>\n",
       "      <td>330.239990</td>\n",
       "      <td>605.869995</td>\n",
       "      <td>120.480003</td>\n",
       "    </tr>\n",
       "    <tr>\n",
       "      <th>2024-11-14 00:00:00+00:00</th>\n",
       "      <td>228.220001</td>\n",
       "      <td>211.479996</td>\n",
       "      <td>68.150002</td>\n",
       "      <td>177.350006</td>\n",
       "      <td>588.609985</td>\n",
       "      <td>241.869995</td>\n",
       "      <td>577.159973</td>\n",
       "      <td>132.429993</td>\n",
       "      <td>426.890015</td>\n",
       "      <td>837.260010</td>\n",
       "      <td>26.020000</td>\n",
       "      <td>311.179993</td>\n",
       "      <td>593.150024</td>\n",
       "      <td>120.559998</td>\n",
       "    </tr>\n",
       "    <tr>\n",
       "      <th>2024-11-15 00:00:00+00:00</th>\n",
       "      <td>225.000000</td>\n",
       "      <td>202.610001</td>\n",
       "      <td>68.760002</td>\n",
       "      <td>173.889999</td>\n",
       "      <td>593.539978</td>\n",
       "      <td>245.309998</td>\n",
       "      <td>554.080017</td>\n",
       "      <td>134.059998</td>\n",
       "      <td>415.000000</td>\n",
       "      <td>823.960022</td>\n",
       "      <td>24.799999</td>\n",
       "      <td>320.720001</td>\n",
       "      <td>592.229980</td>\n",
       "      <td>119.309998</td>\n",
       "    </tr>\n",
       "  </tbody>\n",
       "</table>\n",
       "<p>2486 rows × 14 columns</p>\n",
       "</div>"
      ],
      "text/plain": [
       "Ticker                           AAPL        AMZN          C        GOOG  \\\n",
       "Date                                                                       \n",
       "2015-01-02 00:00:00+00:00   24.347178   15.426000  41.534027   26.104546   \n",
       "2015-01-05 00:00:00+00:00   23.661272   15.109500  40.225082   25.560379   \n",
       "2015-01-06 00:00:00+00:00   23.663500   14.764500  38.808968   24.967966   \n",
       "2015-01-07 00:00:00+00:00   23.995310   14.921000  39.168739   24.925188   \n",
       "2015-01-08 00:00:00+00:00   24.917269   15.023000  39.758152   25.003778   \n",
       "...                               ...         ...        ...         ...   \n",
       "2024-11-11 00:00:00+00:00  224.229996  206.839996  69.800003  181.970001   \n",
       "2024-11-12 00:00:00+00:00  224.229996  208.910004  69.019997  183.320007   \n",
       "2024-11-13 00:00:00+00:00  225.119995  214.100006  68.889999  180.490005   \n",
       "2024-11-14 00:00:00+00:00  228.220001  211.479996  68.150002  177.350006   \n",
       "2024-11-15 00:00:00+00:00  225.000000  202.610001  68.760002  173.889999   \n",
       "\n",
       "Ticker                             GS         JPM        META          MS  \\\n",
       "Date                                                                        \n",
       "2015-01-02 00:00:00+00:00  160.355652   47.709969   78.214500   29.519680   \n",
       "2015-01-05 00:00:00+00:00  155.348923   46.228821   76.958290   28.596960   \n",
       "2015-01-06 00:00:00+00:00  152.206299   45.030155   75.921417   27.773361   \n",
       "2015-01-07 00:00:00+00:00  154.474548   45.098869   75.921417   28.169905   \n",
       "2015-01-08 00:00:00+00:00  156.940842   46.106644   77.945320   28.589331   \n",
       "...                               ...         ...         ...         ...   \n",
       "2024-11-11 00:00:00+00:00  602.340027  239.289993  583.169983  133.520004   \n",
       "2024-11-12 00:00:00+00:00  592.590027  239.559998  584.820007  132.309998   \n",
       "2024-11-13 00:00:00+00:00  594.219971  241.160004  580.000000  132.759995   \n",
       "2024-11-14 00:00:00+00:00  588.609985  241.869995  577.159973  132.429993   \n",
       "2024-11-15 00:00:00+00:00  593.539978  245.309998  554.080017  134.059998   \n",
       "\n",
       "Ticker                           MSFT        NFLX        PFE        TSLA  \\\n",
       "Date                                                                       \n",
       "2015-01-02 00:00:00+00:00   40.232853   49.848572  20.041168   14.620667   \n",
       "2015-01-05 00:00:00+00:00   39.862877   47.311428  19.932417   14.006000   \n",
       "2015-01-06 00:00:00+00:00   39.277798   46.501431  20.098742   14.085333   \n",
       "2015-01-07 00:00:00+00:00   39.776836   46.742859  20.373800   14.063333   \n",
       "2015-01-08 00:00:00+00:00   40.946995   47.779999  20.789593   14.041333   \n",
       "...                               ...         ...        ...         ...   \n",
       "2024-11-11 00:00:00+00:00  418.010010  805.440002  26.240000  350.000000   \n",
       "2024-11-12 00:00:00+00:00  423.029999  819.500000  26.190001  328.489990   \n",
       "2024-11-13 00:00:00+00:00  425.200012  830.469971  26.719999  330.239990   \n",
       "2024-11-14 00:00:00+00:00  426.890015  837.260010  26.020000  311.179993   \n",
       "2024-11-15 00:00:00+00:00  415.000000  823.960022  24.799999  320.720001   \n",
       "\n",
       "Ticker                            UNH         XOM  \n",
       "Date                                               \n",
       "2015-01-02 00:00:00+00:00   86.892952   60.042519  \n",
       "2015-01-05 00:00:00+00:00   85.461716   58.399635  \n",
       "2015-01-06 00:00:00+00:00   85.289246   58.089207  \n",
       "2015-01-07 00:00:00+00:00   86.160088   58.677792  \n",
       "2015-01-08 00:00:00+00:00   90.272789   59.654442  \n",
       "...                               ...         ...  \n",
       "2024-11-11 00:00:00+00:00  625.250000  119.488152  \n",
       "2024-11-12 00:00:00+00:00  614.669983  119.369125  \n",
       "2024-11-13 00:00:00+00:00  605.869995  120.480003  \n",
       "2024-11-14 00:00:00+00:00  593.150024  120.559998  \n",
       "2024-11-15 00:00:00+00:00  592.229980  119.309998  \n",
       "\n",
       "[2486 rows x 14 columns]"
      ]
     },
     "execution_count": 1,
     "metadata": {},
     "output_type": "execute_result"
    }
   ],
   "source": [
    "import yfinance as yf\n",
    "\n",
    "tickers = [\"AAPL\", \"META\", \"AMZN\", \"NFLX\", \"GOOG\", \"GS\", \"JPM\", \"MS\", \"C\", \"MSFT\", \"PFE\", \"TSLA\", \"UNH\", \"XOM\"]\n",
    "ohlc = yf.download(tickers, start=\"2015-01-01\")\n",
    "prices = ohlc[\"Adj Close\"].dropna(how=\"all\")\n",
    "prices"
   ]
  },
  {
   "cell_type": "markdown",
   "metadata": {},
   "source": [
    "### Market Prices (SPY)"
   ]
  },
  {
   "cell_type": "code",
   "execution_count": 23,
   "metadata": {},
   "outputs": [
    {
     "name": "stderr",
     "output_type": "stream",
     "text": [
      "[*********************100%***********************]  1 of 1 completed\n"
     ]
    },
    {
     "data": {
      "text/html": [
       "<div>\n",
       "<style scoped>\n",
       "    .dataframe tbody tr th:only-of-type {\n",
       "        vertical-align: middle;\n",
       "    }\n",
       "\n",
       "    .dataframe tbody tr th {\n",
       "        vertical-align: top;\n",
       "    }\n",
       "\n",
       "    .dataframe thead th {\n",
       "        text-align: right;\n",
       "    }\n",
       "</style>\n",
       "<table border=\"1\" class=\"dataframe\">\n",
       "  <thead>\n",
       "    <tr style=\"text-align: right;\">\n",
       "      <th>Ticker</th>\n",
       "      <th>SPY</th>\n",
       "    </tr>\n",
       "    <tr>\n",
       "      <th>Date</th>\n",
       "      <th></th>\n",
       "    </tr>\n",
       "  </thead>\n",
       "  <tbody>\n",
       "    <tr>\n",
       "      <th>2015-01-02 00:00:00+00:00</th>\n",
       "      <td>173.173767</td>\n",
       "    </tr>\n",
       "    <tr>\n",
       "      <th>2015-01-05 00:00:00+00:00</th>\n",
       "      <td>170.046341</td>\n",
       "    </tr>\n",
       "    <tr>\n",
       "      <th>2015-01-06 00:00:00+00:00</th>\n",
       "      <td>168.444641</td>\n",
       "    </tr>\n",
       "    <tr>\n",
       "      <th>2015-01-07 00:00:00+00:00</th>\n",
       "      <td>170.543671</td>\n",
       "    </tr>\n",
       "    <tr>\n",
       "      <th>2015-01-08 00:00:00+00:00</th>\n",
       "      <td>173.569962</td>\n",
       "    </tr>\n",
       "    <tr>\n",
       "      <th>...</th>\n",
       "      <td>...</td>\n",
       "    </tr>\n",
       "    <tr>\n",
       "      <th>2024-11-11 00:00:00+00:00</th>\n",
       "      <td>598.760010</td>\n",
       "    </tr>\n",
       "    <tr>\n",
       "      <th>2024-11-12 00:00:00+00:00</th>\n",
       "      <td>596.900024</td>\n",
       "    </tr>\n",
       "    <tr>\n",
       "      <th>2024-11-13 00:00:00+00:00</th>\n",
       "      <td>597.190002</td>\n",
       "    </tr>\n",
       "    <tr>\n",
       "      <th>2024-11-14 00:00:00+00:00</th>\n",
       "      <td>593.349976</td>\n",
       "    </tr>\n",
       "    <tr>\n",
       "      <th>2024-11-15 00:00:00+00:00</th>\n",
       "      <td>585.750000</td>\n",
       "    </tr>\n",
       "  </tbody>\n",
       "</table>\n",
       "<p>2486 rows × 1 columns</p>\n",
       "</div>"
      ],
      "text/plain": [
       "Ticker                            SPY\n",
       "Date                                 \n",
       "2015-01-02 00:00:00+00:00  173.173767\n",
       "2015-01-05 00:00:00+00:00  170.046341\n",
       "2015-01-06 00:00:00+00:00  168.444641\n",
       "2015-01-07 00:00:00+00:00  170.543671\n",
       "2015-01-08 00:00:00+00:00  173.569962\n",
       "...                               ...\n",
       "2024-11-11 00:00:00+00:00  598.760010\n",
       "2024-11-12 00:00:00+00:00  596.900024\n",
       "2024-11-13 00:00:00+00:00  597.190002\n",
       "2024-11-14 00:00:00+00:00  593.349976\n",
       "2024-11-15 00:00:00+00:00  585.750000\n",
       "\n",
       "[2486 rows x 1 columns]"
      ]
     },
     "execution_count": 23,
     "metadata": {},
     "output_type": "execute_result"
    }
   ],
   "source": [
    "market_prices = yf.download(\"SPY\", start=\"2015-01-01\")[\"Adj Close\"]\n",
    "market_prices"
   ]
  },
  {
   "cell_type": "markdown",
   "metadata": {},
   "source": [
    "### Security Market Caps"
   ]
  },
  {
   "cell_type": "code",
   "execution_count": 19,
   "metadata": {},
   "outputs": [
    {
     "data": {
      "text/plain": [
       "{'AAPL': 3401054945280,\n",
       " 'META': 1398769451008,\n",
       " 'AMZN': 2130444156928,\n",
       " 'NFLX': 352208289792,\n",
       " 'GOOG': 2119197392896,\n",
       " 'GS': 186318143488,\n",
       " 'JPM': 690631081984,\n",
       " 'MS': 215976017920,\n",
       " 'C': 130043043840,\n",
       " 'MSFT': 3085475250176,\n",
       " 'PFE': 140541345792,\n",
       " 'TSLA': 1029530451968,\n",
       " 'UNH': 545019789312,\n",
       " 'XOM': 524378177536}"
      ]
     },
     "execution_count": 19,
     "metadata": {},
     "output_type": "execute_result"
    }
   ],
   "source": [
    "mcaps = {}\n",
    "for t in tickers:\n",
    "    stock = yf.Ticker(t)\n",
    "    mcaps[t] = stock.info[\"marketCap\"]\n",
    "mcaps"
   ]
  },
  {
   "cell_type": "markdown",
   "metadata": {},
   "source": [
    "## 1) Input Estimates"
   ]
  },
  {
   "cell_type": "markdown",
   "metadata": {},
   "source": [
    "### 1.1) Prior Estimates"
   ]
  },
  {
   "cell_type": "markdown",
   "metadata": {},
   "source": [
    "We first compute the Covariance Matrix of the input dataset of prices. We chose the ``ledoit_wolf()`` Covariance Shrinkage method as estimator for the covariance matrix as is one of the most stable choices according to research [[1](https://pyportfolioopt.readthedocs.io/en/latest/RiskModels.html#shrinkage-estimators)]."
   ]
  },
  {
   "cell_type": "markdown",
   "metadata": {},
   "source": [
    "#### (Prior) Covariance Matrix Estimation"
   ]
  },
  {
   "cell_type": "code",
   "execution_count": 20,
   "metadata": {},
   "outputs": [
    {
     "data": {
      "text/plain": [
       "<Axes: >"
      ]
     },
     "execution_count": 20,
     "metadata": {},
     "output_type": "execute_result"
    },
    {
     "data": {
      "image/png": "[encoded data removed]",
      "text/plain": [
       "<Figure size 640x480 with 2 Axes>"
      ]
     },
     "metadata": {},
     "output_type": "display_data"
    }
   ],
   "source": [
    "from pypo.input_estimates import risk_models\n",
    "from pypo.visualization import po_plotting\n",
    "\n",
    "S = risk_models.CovarianceShrinkage(prices).ledoit_wolf()\n",
    "po_plotting.plot_covariance(S, plot_correlation=True)"
   ]
  },
  {
   "cell_type": "markdown",
   "metadata": {},
   "source": [
    "#### (Prior) Expected Returns Estimation"
   ]
  },
  {
   "cell_type": "markdown",
   "metadata": {},
   "source": [
    "We have several options available to estimate the expected returns (prior to any market views).\n",
    "\n",
    "- A first option would be to use any of the expected return models available in the PyPO library (mean historical return, exponentially weighted mean historical return, or capm). \n",
    "\n",
    "- However, if we don't have a reliable forecasting method for expected returns, a second option would be to Compute the prior estimate of returns implied by the market weights. In other words, given each asset's contribution to the risk of the market portfolio, we will calculate how much we are expecting to be compensated. For that, we just need to use the ``black_litterman.market_implied_prior_returns()`` method.\n",
    "\n",
    "In the absence of good forecasting models, let's take the second path and calculate the market implied expected returns. What we do is first calculate the market implied risk aversion parameter ($\\delta$), and then compute the prior estimate of returns using the risk aversion and the previously estimated covariance matrix."
   ]
  },
  {
   "cell_type": "code",
   "execution_count": 24,
   "metadata": {},
   "outputs": [
    {
     "data": {
      "text/plain": [
       "Ticker\n",
       "SPY    3.819064\n",
       "dtype: float64"
      ]
     },
     "execution_count": 24,
     "metadata": {},
     "output_type": "execute_result"
    }
   ],
   "source": [
    "from pypo.input_estimates.robust_models import black_litterman_rm\n",
    "\n",
    "delta_risk_aversion = black_litterman_rm.market_implied_risk_aversion(market_prices)\n",
    "delta_risk_aversion"
   ]
  },
  {
   "cell_type": "code",
   "execution_count": 27,
   "metadata": {},
   "outputs": [
    {
     "name": "stdout",
     "output_type": "stream",
     "text": [
      "Ticker\n",
      "AAPL   NaN\n",
      "AMZN   NaN\n",
      "C      NaN\n",
      "GOOG   NaN\n",
      "GS     NaN\n",
      "JPM    NaN\n",
      "META   NaN\n",
      "MS     NaN\n",
      "MSFT   NaN\n",
      "NFLX   NaN\n",
      "PFE    NaN\n",
      "SPY    NaN\n",
      "TSLA   NaN\n",
      "UNH    NaN\n",
      "XOM    NaN\n",
      "dtype: float64\n"
     ]
    },
    {
     "data": {
      "text/plain": [
       "<Axes: ylabel='Ticker'>"
      ]
     },
     "execution_count": 27,
     "metadata": {},
     "output_type": "execute_result"
    },
    {
     "data": {
      "image/png": "[encoded data removed]",
      "text/plain": [
       "<Figure size 1000x500 with 1 Axes>"
      ]
     },
     "metadata": {},
     "output_type": "display_data"
    }
   ],
   "source": [
    "market_prior = black_litterman_rm.market_implied_prior_returns(mcaps, delta_risk_aversion, S)\n",
    "print(market_prior)\n",
    "market_prior.plot.barh(figsize=(10,5))"
   ]
  },
  {
   "cell_type": "markdown",
   "metadata": {},
   "source": [
    "### 1.2) Views"
   ]
  },
  {
   "cell_type": "markdown",
   "metadata": {},
   "source": [
    "Now that we have the prior estimates for the covariance matrix and the expected returns, we can create the inputs to incorporate our market views into the model. There are 2 main inputs to provide here: i) our market views (either in relative or absolute terms), and ii) our confidence in the views."
   ]
  },
  {
   "cell_type": "markdown",
   "metadata": {},
   "source": [
    "#### Views Matrix (V)"
   ]
  },
  {
   "cell_type": "markdown",
   "metadata": {},
   "source": [
    "In the Black-Litterman model, the views can be expressed in **relative terms** via 2 matrices:\n",
    " - ``Q``-> the vector that specifies the magnitude of each view\n",
    " - ``P`` -> picking matrix, which maps the views (Q vector) to each of the assets they belong to"
   ]
  },
  {
   "cell_type": "markdown",
   "metadata": {},
   "source": [
    "Alternatively, we can also provide our views in **absolute terms** by providing a dictionary with a return estimate for each asset:"
   ]
  },
  {
   "cell_type": "code",
   "execution_count": null,
   "metadata": {},
   "outputs": [
    {
     "data": {
      "text/plain": [
       "14"
      ]
     },
     "execution_count": 66,
     "metadata": {},
     "output_type": "execute_result"
    }
   ],
   "source": [
    "viewdict = {\n",
    "    \"AAPL\": 0.05,\n",
    "    \"AMZN\": 0.1,\n",
    "    \"C\": 0.03,\n",
    "    \"GOOG\": 0.04,\n",
    "    \"GS\": 0.03,\n",
    "    \"JPM\": 0.05,\n",
    "    \"META\": 0.07,\n",
    "    \"MS\": 0.04,\n",
    "    \"MSFT\": 0.05,\n",
    "    \"NFLX\": -0.03,\n",
    "    \"PFE\": -0.01,\n",
    "    \"TSLA\": 0.01,\n",
    "    \"UNH\": 0.00,\n",
    "    \"XOM\": 0.02\n",
    "}\n",
    "len(viewdict)"
   ]
  },
  {
   "cell_type": "markdown",
   "metadata": {},
   "source": [
    "#### Uncentainty Matrix ($\\Omega$)"
   ]
  },
  {
   "cell_type": "markdown",
   "metadata": {},
   "source": [
    "Two ways are proposed to construct the uncertainty matrix, to express more or less confidence in the provided views."
   ]
  },
  {
   "cell_type": "markdown",
   "metadata": {},
   "source": [
    "##### A) Idzorek's method (% of confidence)"
   ]
  },
  {
   "cell_type": "markdown",
   "metadata": {},
   "source": [
    "The first one is using the Idzorek's method, which simply allows to specify a vector with the percentage of confidence on each view:"
   ]
  },
  {
   "cell_type": "code",
   "execution_count": 42,
   "metadata": {},
   "outputs": [
    {
     "data": {
      "text/plain": [
       "14"
      ]
     },
     "execution_count": 42,
     "metadata": {},
     "output_type": "execute_result"
    }
   ],
   "source": [
    "uncertainty_matrix = [\n",
    "    0.7,\n",
    "    0.6,\n",
    "    0.5,\n",
    "    0.8, # Quite confident in GOOG view\n",
    "    0.2,\n",
    "    0.5,\n",
    "    0.7,\n",
    "    0.5, \n",
    "    0.5,\n",
    "    0.5,\n",
    "    0.2,\n",
    "    0.1, # Not confident in TSLA view\n",
    "    0.3,\n",
    "    0.2\n",
    "]\n",
    "len(uncertainty_matrix)"
   ]
  },
  {
   "cell_type": "code",
   "execution_count": null,
   "metadata": {},
   "outputs": [
    {
     "ename": "AssertionError",
     "evalue": "pi must have dimensions Nx1",
     "output_type": "error",
     "traceback": [
      "\u001b[0;31m---------------------------------------------------------------------------\u001b[0m",
      "\u001b[0;31mAssertionError\u001b[0m                            Traceback (most recent call last)",
      "Cell \u001b[0;32mIn[44], line 2\u001b[0m\n\u001b[1;32m      1\u001b[0m \u001b[38;5;28;01mfrom\u001b[39;00m \u001b[38;5;21;01mpypo\u001b[39;00m\u001b[38;5;21;01m.\u001b[39;00m\u001b[38;5;21;01minput_estimates\u001b[39;00m\u001b[38;5;21;01m.\u001b[39;00m\u001b[38;5;21;01mrobust_models\u001b[39;00m \u001b[38;5;28;01mimport\u001b[39;00m BlackLittermanModel\n\u001b[0;32m----> 2\u001b[0m bl \u001b[38;5;241m=\u001b[39m \u001b[43mBlackLittermanModel\u001b[49m\u001b[43m(\u001b[49m\u001b[43mS\u001b[49m\u001b[43m,\u001b[49m\u001b[43m \u001b[49m\u001b[43mpi\u001b[49m\u001b[38;5;241;43m=\u001b[39;49m\u001b[43mmarket_prior\u001b[49m\u001b[43m,\u001b[49m\u001b[43m \u001b[49m\u001b[43mabsolute_views\u001b[49m\u001b[38;5;241;43m=\u001b[39;49m\u001b[43mviewdict\u001b[49m\u001b[43m,\u001b[49m\u001b[43m \u001b[49m\u001b[43momega\u001b[49m\u001b[38;5;241;43m=\u001b[39;49m\u001b[38;5;124;43m\"\u001b[39;49m\u001b[38;5;124;43midzorek\u001b[39;49m\u001b[38;5;124;43m\"\u001b[39;49m\u001b[43m,\u001b[49m\u001b[43m \u001b[49m\u001b[43mview_confidences\u001b[49m\u001b[38;5;241;43m=\u001b[39;49m\u001b[43muncertainty_matrix\u001b[49m\u001b[43m)\u001b[49m\n",
      "File \u001b[0;32m~/Documents/Projects/personal-projects/pypot/pypo/input_estimates/robust_models/black_litterman_rm.py:205\u001b[0m, in \u001b[0;36mBlackLittermanModel.__init__\u001b[0;34m(self, cov_matrix, pi, absolute_views, Q, P, omega, view_confidences, tau, risk_aversion, **kwargs)\u001b[0m\n\u001b[1;32m    203\u001b[0m \u001b[38;5;28mself\u001b[39m\u001b[38;5;241m.\u001b[39m_set_tau(tau)\n\u001b[1;32m    204\u001b[0m \u001b[38;5;66;03m# Make sure all dimensions work\u001b[39;00m\n\u001b[0;32m--> 205\u001b[0m \u001b[38;5;28;43mself\u001b[39;49m\u001b[38;5;241;43m.\u001b[39;49m\u001b[43m_check_attribute_dimensions\u001b[49m\u001b[43m(\u001b[49m\u001b[43m)\u001b[49m\n\u001b[1;32m    207\u001b[0m \u001b[38;5;28mself\u001b[39m\u001b[38;5;241m.\u001b[39m_set_omega(omega, view_confidences)\n\u001b[1;32m    209\u001b[0m \u001b[38;5;66;03m# Private intermediaries\u001b[39;00m\n",
      "File \u001b[0;32m~/Documents/Projects/personal-projects/pypot/pypo/input_estimates/robust_models/black_litterman_rm.py:349\u001b[0m, in \u001b[0;36mBlackLittermanModel._check_attribute_dimensions\u001b[0;34m(self)\u001b[0m\n\u001b[1;32m    347\u001b[0m N \u001b[38;5;241m=\u001b[39m \u001b[38;5;28mself\u001b[39m\u001b[38;5;241m.\u001b[39mn_assets\n\u001b[1;32m    348\u001b[0m K \u001b[38;5;241m=\u001b[39m \u001b[38;5;28mlen\u001b[39m(\u001b[38;5;28mself\u001b[39m\u001b[38;5;241m.\u001b[39mQ)\n\u001b[0;32m--> 349\u001b[0m \u001b[38;5;28;01massert\u001b[39;00m \u001b[38;5;28mself\u001b[39m\u001b[38;5;241m.\u001b[39mpi\u001b[38;5;241m.\u001b[39mshape \u001b[38;5;241m==\u001b[39m (N, \u001b[38;5;241m1\u001b[39m), \u001b[38;5;124m\"\u001b[39m\u001b[38;5;124mpi must have dimensions Nx1\u001b[39m\u001b[38;5;124m\"\u001b[39m\n\u001b[1;32m    350\u001b[0m \u001b[38;5;28;01massert\u001b[39;00m \u001b[38;5;28mself\u001b[39m\u001b[38;5;241m.\u001b[39mP\u001b[38;5;241m.\u001b[39mshape \u001b[38;5;241m==\u001b[39m (K, N), \u001b[38;5;124m\"\u001b[39m\u001b[38;5;124mP must have dimensions KxN\u001b[39m\u001b[38;5;124m\"\u001b[39m\n\u001b[1;32m    351\u001b[0m \u001b[38;5;28;01massert\u001b[39;00m \u001b[38;5;28mself\u001b[39m\u001b[38;5;241m.\u001b[39mcov_matrix\u001b[38;5;241m.\u001b[39mshape \u001b[38;5;241m==\u001b[39m (N, N), \u001b[38;5;124m\"\u001b[39m\u001b[38;5;124mcov_matrix must have shape NxN\u001b[39m\u001b[38;5;124m\"\u001b[39m\n",
      "\u001b[0;31mAssertionError\u001b[0m: pi must have dimensions Nx1"
     ]
    }
   ],
   "source": [
    "from pypo.input_estimates.robust_models import BlackLittermanModel\n",
    "\n",
    "bl = BlackLittermanModel(S, pi=market_prior, absolute_views=viewdict, omega=\"idzorek\", view_confidences=uncertainty_matrix)\n",
    "     "
   ]
  },
  {
   "cell_type": "code",
   "execution_count": 46,
   "metadata": {},
   "outputs": [
    {
     "ename": "NameError",
     "evalue": "name 'bl' is not defined",
     "output_type": "error",
     "traceback": [
      "\u001b[0;31m---------------------------------------------------------------------------\u001b[0m",
      "\u001b[0;31mNameError\u001b[0m                                 Traceback (most recent call last)",
      "Cell \u001b[0;32mIn[46], line 4\u001b[0m\n\u001b[1;32m      1\u001b[0m \u001b[38;5;28;01mimport\u001b[39;00m \u001b[38;5;21;01mmatplotlib\u001b[39;00m\u001b[38;5;21;01m.\u001b[39;00m\u001b[38;5;21;01mpyplot\u001b[39;00m \u001b[38;5;28;01mas\u001b[39;00m \u001b[38;5;21;01mplt\u001b[39;00m\n\u001b[1;32m      3\u001b[0m fig, ax \u001b[38;5;241m=\u001b[39m plt\u001b[38;5;241m.\u001b[39msubplots(figsize\u001b[38;5;241m=\u001b[39m(\u001b[38;5;241m7\u001b[39m,\u001b[38;5;241m7\u001b[39m))\n\u001b[0;32m----> 4\u001b[0m im \u001b[38;5;241m=\u001b[39m ax\u001b[38;5;241m.\u001b[39mimshow(\u001b[43mbl\u001b[49m\u001b[38;5;241m.\u001b[39momega)\n\u001b[1;32m      6\u001b[0m \u001b[38;5;66;03m# We want to show all ticks...\u001b[39;00m\n\u001b[1;32m      7\u001b[0m ax\u001b[38;5;241m.\u001b[39mset_xticks(np\u001b[38;5;241m.\u001b[39marange(\u001b[38;5;28mlen\u001b[39m(bl\u001b[38;5;241m.\u001b[39mtickers)))\n",
      "\u001b[0;31mNameError\u001b[0m: name 'bl' is not defined"
     ]
    },
    {
     "data": {
      "image/png": "[encoded data removed]",
      "text/plain": [
       "<Figure size 700x700 with 1 Axes>"
      ]
     },
     "metadata": {},
     "output_type": "display_data"
    }
   ],
   "source": [
    "import matplotlib.pyplot as plt\n",
    "\n",
    "fig, ax = plt.subplots(figsize=(7,7))\n",
    "im = ax.imshow(bl.omega)\n",
    "\n",
    "# We want to show all ticks...\n",
    "ax.set_xticks(np.arange(len(bl.tickers)))\n",
    "ax.set_yticks(np.arange(len(bl.tickers)))\n",
    "\n",
    "ax.set_xticklabels(bl.tickers)\n",
    "ax.set_yticklabels(bl.tickers)\n",
    "plt.show()"
   ]
  },
  {
   "cell_type": "code",
   "execution_count": 47,
   "metadata": {},
   "outputs": [
    {
     "ename": "NameError",
     "evalue": "name 'bl' is not defined",
     "output_type": "error",
     "traceback": [
      "\u001b[0;31m---------------------------------------------------------------------------\u001b[0m",
      "\u001b[0;31mNameError\u001b[0m                                 Traceback (most recent call last)",
      "Cell \u001b[0;32mIn[47], line 3\u001b[0m\n\u001b[1;32m      1\u001b[0m \u001b[38;5;28;01mimport\u001b[39;00m \u001b[38;5;21;01mnumpy\u001b[39;00m \u001b[38;5;28;01mas\u001b[39;00m \u001b[38;5;21;01mnp\u001b[39;00m\n\u001b[0;32m----> 3\u001b[0m np\u001b[38;5;241m.\u001b[39mdiag(\u001b[43mbl\u001b[49m\u001b[38;5;241m.\u001b[39momega)\n",
      "\u001b[0;31mNameError\u001b[0m: name 'bl' is not defined"
     ]
    }
   ],
   "source": [
    "import numpy as np\n",
    "\n",
    "np.diag(bl.omega)"
   ]
  },
  {
   "cell_type": "markdown",
   "metadata": {},
   "source": [
    "##### B) Confidence Interval Method"
   ]
  },
  {
   "cell_type": "markdown",
   "metadata": {},
   "source": [
    "An alternative to specifying a percentage of confidence (which can be somewhat arbitrary), would be to specify the 1 standard deviation price confidence interval for each view:"
   ]
  },
  {
   "cell_type": "code",
   "execution_count": 73,
   "metadata": {},
   "outputs": [
    {
     "data": {
      "text/plain": [
       "14"
      ]
     },
     "execution_count": 73,
     "metadata": {},
     "output_type": "execute_result"
    }
   ],
   "source": [
    "uncertainty_intervals = [\n",
    "    (0.03,0.07), #AAPL\n",
    "    (0.06,0.13), #AMZN\n",
    "    (0.01,0.05), #C\n",
    "    (0.03,0.09), #GOOG\n",
    "    (0.00,0.05), #GS\n",
    "    (0.04,0.06), #JPM\n",
    "    (0.01,0.09), #META\n",
    "    (0.02,0.07), #MS\n",
    "    (0.01,0.09), #MSFT\n",
    "    (-0.04,0.01), #NFLX\n",
    "    (-0.03,0.03), #PFE\n",
    "    (-0.02,0.03), #TSLA\n",
    "    (-0.05,0.05), #UNH\n",
    "    (0.0,0.03) #XOM\n",
    "]\n",
    "len(uncertainty_intervals)"
   ]
  },
  {
   "cell_type": "code",
   "execution_count": 74,
   "metadata": {},
   "outputs": [
    {
     "name": "stdout",
     "output_type": "stream",
     "text": [
      "[0.0004000000000000002, 0.0012250000000000002, 0.0004, 0.0009, 0.0006250000000000001, 9.999999999999996e-05, 0.0016, 0.0006250000000000001, 0.0016, 0.0006250000000000001, 0.0009, 0.0006250000000000001, 0.0025000000000000005, 0.000225]\n"
     ]
    }
   ],
   "source": [
    "variances = []\n",
    "for lb, ub in uncertainty_intervals:\n",
    "    sigma = (ub - lb)/2\n",
    "    variances.append(sigma ** 2)\n",
    "\n",
    "print(variances)\n",
    "omega = np.diag(variances)"
   ]
  },
  {
   "cell_type": "code",
   "execution_count": 75,
   "metadata": {},
   "outputs": [
    {
     "data": {
      "image/png": "[encoded data removed]",
      "text/plain": [
       "<Figure size 700x700 with 1 Axes>"
      ]
     },
     "metadata": {},
     "output_type": "display_data"
    }
   ],
   "source": [
    "import matplotlib.pyplot as plt\n",
    "\n",
    "fig, ax = plt.subplots(figsize=(7,7))\n",
    "im = ax.imshow(omega)\n",
    "\n",
    "# We want to show all ticks...\n",
    "ax.set_xticks(np.arange(len(viewdict)))\n",
    "ax.set_yticks(np.arange(len(viewdict)))\n",
    "\n",
    "ax.set_xticklabels(viewdict.keys())\n",
    "ax.set_yticklabels(viewdict.keys())\n",
    "plt.show()"
   ]
  },
  {
   "cell_type": "markdown",
   "metadata": {},
   "source": [
    "### 1.3) Posterior Estimates"
   ]
  },
  {
   "cell_type": "markdown",
   "metadata": {},
   "source": [
    "Having computed the previous inputs (market cap, covariance matrix, risk aversion, views and uncertainty), we can plug them in the Black-Litterman model and generate an posterior estimate for returns and covariance matrix:"
   ]
  },
  {
   "cell_type": "code",
   "execution_count": 76,
   "metadata": {},
   "outputs": [
    {
     "ename": "ValueError",
     "evalue": "The truth value of a Series is ambiguous. Use a.empty, a.bool(), a.item(), a.any() or a.all().",
     "output_type": "error",
     "traceback": [
      "\u001b[0;31m---------------------------------------------------------------------------\u001b[0m",
      "\u001b[0;31mValueError\u001b[0m                                Traceback (most recent call last)",
      "\u001b[0;32m/var/folders/25/k4drb6td4l588c66_vr5ycxw0000gn/T/ipykernel_23561/3098936335.py\u001b[0m in \u001b[0;36m?\u001b[0;34m()\u001b[0m\n\u001b[0;32m----> 1\u001b[0;31m \u001b[0mbl\u001b[0m \u001b[0;34m=\u001b[0m \u001b[0mBlackLittermanModel\u001b[0m\u001b[0;34m(\u001b[0m\u001b[0mS\u001b[0m\u001b[0;34m,\u001b[0m \u001b[0mpi\u001b[0m\u001b[0;34m=\u001b[0m\u001b[0;34m\"market\"\u001b[0m\u001b[0;34m,\u001b[0m \u001b[0mmarket_caps\u001b[0m\u001b[0;34m=\u001b[0m\u001b[0mmcaps\u001b[0m\u001b[0;34m,\u001b[0m \u001b[0mrisk_aversion\u001b[0m\u001b[0;34m=\u001b[0m\u001b[0mdelta_risk_aversion\u001b[0m\u001b[0;34m,\u001b[0m \u001b[0mabsolute_views\u001b[0m\u001b[0;34m=\u001b[0m\u001b[0mviewdict\u001b[0m\u001b[0;34m,\u001b[0m \u001b[0momega\u001b[0m\u001b[0;34m=\u001b[0m\u001b[0momega\u001b[0m\u001b[0;34m)\u001b[0m\u001b[0;34m\u001b[0m\u001b[0;34m\u001b[0m\u001b[0m\n\u001b[0m",
      "\u001b[0;32m~/Documents/Projects/personal-projects/pypot/pypo/input_estimates/robust_models/black_litterman_rm.py\u001b[0m in \u001b[0;36m?\u001b[0;34m(self, cov_matrix, pi, absolute_views, Q, P, omega, view_confidences, tau, risk_aversion, **kwargs)\u001b[0m\n\u001b[1;32m    197\u001b[0m         \u001b[0;32mif\u001b[0m \u001b[0mabsolute_views\u001b[0m \u001b[0;32mis\u001b[0m \u001b[0;32mnot\u001b[0m \u001b[0;32mNone\u001b[0m\u001b[0;34m:\u001b[0m\u001b[0;34m\u001b[0m\u001b[0;34m\u001b[0m\u001b[0m\n\u001b[1;32m    198\u001b[0m             \u001b[0mself\u001b[0m\u001b[0;34m.\u001b[0m\u001b[0mQ\u001b[0m\u001b[0;34m,\u001b[0m \u001b[0mself\u001b[0m\u001b[0;34m.\u001b[0m\u001b[0mP\u001b[0m \u001b[0;34m=\u001b[0m \u001b[0mself\u001b[0m\u001b[0;34m.\u001b[0m\u001b[0m_parse_views\u001b[0m\u001b[0;34m(\u001b[0m\u001b[0mabsolute_views\u001b[0m\u001b[0;34m)\u001b[0m\u001b[0;34m\u001b[0m\u001b[0;34m\u001b[0m\u001b[0m\n\u001b[1;32m    199\u001b[0m         \u001b[0;32melse\u001b[0m\u001b[0;34m:\u001b[0m\u001b[0;34m\u001b[0m\u001b[0;34m\u001b[0m\u001b[0m\n\u001b[1;32m    200\u001b[0m             \u001b[0mself\u001b[0m\u001b[0;34m.\u001b[0m\u001b[0m_set_Q_P\u001b[0m\u001b[0;34m(\u001b[0m\u001b[0mQ\u001b[0m\u001b[0;34m,\u001b[0m \u001b[0mP\u001b[0m\u001b[0;34m)\u001b[0m\u001b[0;34m\u001b[0m\u001b[0;34m\u001b[0m\u001b[0m\n\u001b[0;32m--> 201\u001b[0;31m         \u001b[0mself\u001b[0m\u001b[0;34m.\u001b[0m\u001b[0m_set_risk_aversion\u001b[0m\u001b[0;34m(\u001b[0m\u001b[0mrisk_aversion\u001b[0m\u001b[0;34m)\u001b[0m\u001b[0;34m\u001b[0m\u001b[0;34m\u001b[0m\u001b[0m\n\u001b[0m\u001b[1;32m    202\u001b[0m         \u001b[0mself\u001b[0m\u001b[0;34m.\u001b[0m\u001b[0m_set_pi\u001b[0m\u001b[0;34m(\u001b[0m\u001b[0mpi\u001b[0m\u001b[0;34m,\u001b[0m \u001b[0;34m**\u001b[0m\u001b[0mkwargs\u001b[0m\u001b[0;34m)\u001b[0m\u001b[0;34m\u001b[0m\u001b[0;34m\u001b[0m\u001b[0m\n\u001b[1;32m    203\u001b[0m         \u001b[0mself\u001b[0m\u001b[0;34m.\u001b[0m\u001b[0m_set_tau\u001b[0m\u001b[0;34m(\u001b[0m\u001b[0mtau\u001b[0m\u001b[0;34m)\u001b[0m\u001b[0;34m\u001b[0m\u001b[0;34m\u001b[0m\u001b[0m\n\u001b[1;32m    204\u001b[0m         \u001b[0;31m# Make sure all dimensions work\u001b[0m\u001b[0;34m\u001b[0m\u001b[0;34m\u001b[0m\u001b[0m\n",
      "\u001b[0;32m~/Documents/Projects/personal-projects/pypot/pypo/input_estimates/robust_models/black_litterman_rm.py\u001b[0m in \u001b[0;36m?\u001b[0;34m(self, risk_aversion)\u001b[0m\n\u001b[1;32m    294\u001b[0m     \u001b[0;32mdef\u001b[0m \u001b[0m_set_risk_aversion\u001b[0m\u001b[0;34m(\u001b[0m\u001b[0mself\u001b[0m\u001b[0;34m,\u001b[0m \u001b[0mrisk_aversion\u001b[0m\u001b[0;34m)\u001b[0m\u001b[0;34m:\u001b[0m\u001b[0;34m\u001b[0m\u001b[0;34m\u001b[0m\u001b[0m\n\u001b[0;32m--> 295\u001b[0;31m         \u001b[0;32mif\u001b[0m \u001b[0mrisk_aversion\u001b[0m \u001b[0;34m<=\u001b[0m \u001b[0;36m0\u001b[0m\u001b[0;34m:\u001b[0m\u001b[0;34m\u001b[0m\u001b[0;34m\u001b[0m\u001b[0m\n\u001b[0m\u001b[1;32m    296\u001b[0m             \u001b[0;32mraise\u001b[0m \u001b[0mValueError\u001b[0m\u001b[0;34m(\u001b[0m\u001b[0;34m\"risk_aversion should be a positive float\"\u001b[0m\u001b[0;34m)\u001b[0m\u001b[0;34m\u001b[0m\u001b[0;34m\u001b[0m\u001b[0m\n\u001b[1;32m    297\u001b[0m         \u001b[0mself\u001b[0m\u001b[0;34m.\u001b[0m\u001b[0mrisk_aversion\u001b[0m \u001b[0;34m=\u001b[0m \u001b[0mrisk_aversion\u001b[0m\u001b[0;34m\u001b[0m\u001b[0;34m\u001b[0m\u001b[0m\n",
      "\u001b[0;32m~/Documents/Projects/personal-projects/pypot/.venv/lib/python3.12/site-packages/pandas/core/generic.py\u001b[0m in \u001b[0;36m?\u001b[0;34m(self)\u001b[0m\n\u001b[1;32m   1575\u001b[0m     \u001b[0;34m@\u001b[0m\u001b[0mfinal\u001b[0m\u001b[0;34m\u001b[0m\u001b[0;34m\u001b[0m\u001b[0m\n\u001b[1;32m   1576\u001b[0m     \u001b[0;32mdef\u001b[0m \u001b[0m__nonzero__\u001b[0m\u001b[0;34m(\u001b[0m\u001b[0mself\u001b[0m\u001b[0;34m)\u001b[0m \u001b[0;34m->\u001b[0m \u001b[0mNoReturn\u001b[0m\u001b[0;34m:\u001b[0m\u001b[0;34m\u001b[0m\u001b[0;34m\u001b[0m\u001b[0m\n\u001b[0;32m-> 1577\u001b[0;31m         raise ValueError(\n\u001b[0m\u001b[1;32m   1578\u001b[0m             \u001b[0;34mf\"\u001b[0m\u001b[0;34mThe truth value of a \u001b[0m\u001b[0;34m{\u001b[0m\u001b[0mtype\u001b[0m\u001b[0;34m(\u001b[0m\u001b[0mself\u001b[0m\u001b[0;34m)\u001b[0m\u001b[0;34m.\u001b[0m\u001b[0m__name__\u001b[0m\u001b[0;34m}\u001b[0m\u001b[0;34m is ambiguous. \u001b[0m\u001b[0;34m\"\u001b[0m\u001b[0;34m\u001b[0m\u001b[0;34m\u001b[0m\u001b[0m\n\u001b[1;32m   1579\u001b[0m             \u001b[0;34m\"Use a.empty, a.bool(), a.item(), a.any() or a.all().\"\u001b[0m\u001b[0;34m\u001b[0m\u001b[0;34m\u001b[0m\u001b[0m\n\u001b[1;32m   1580\u001b[0m         \u001b[0;34m)\u001b[0m\u001b[0;34m\u001b[0m\u001b[0;34m\u001b[0m\u001b[0m\n",
      "\u001b[0;31mValueError\u001b[0m: The truth value of a Series is ambiguous. Use a.empty, a.bool(), a.item(), a.any() or a.all()."
     ]
    }
   ],
   "source": [
    "bl = BlackLittermanModel(S, pi=\"market\", market_caps=mcaps, risk_aversion=delta_risk_aversion, absolute_views=viewdict, omega=omega)"
   ]
  },
  {
   "cell_type": "markdown",
   "metadata": {},
   "source": [
    "#### Posterior Estimate of Returns"
   ]
  },
  {
   "cell_type": "code",
   "execution_count": 77,
   "metadata": {},
   "outputs": [
    {
     "ename": "NameError",
     "evalue": "name 'bl' is not defined",
     "output_type": "error",
     "traceback": [
      "\u001b[0;31m---------------------------------------------------------------------------\u001b[0m",
      "\u001b[0;31mNameError\u001b[0m                                 Traceback (most recent call last)",
      "Cell \u001b[0;32mIn[77], line 1\u001b[0m\n\u001b[0;32m----> 1\u001b[0m mu_bl \u001b[38;5;241m=\u001b[39m \u001b[43mbl\u001b[49m\u001b[38;5;241m.\u001b[39mbl_returns()\n\u001b[1;32m      2\u001b[0m mu_bl\n",
      "\u001b[0;31mNameError\u001b[0m: name 'bl' is not defined"
     ]
    }
   ],
   "source": [
    "mu_bl = bl.bl_returns()\n",
    "mu_bl"
   ]
  },
  {
   "cell_type": "markdown",
   "metadata": {},
   "source": []
  },
  {
   "cell_type": "code",
   "execution_count": null,
   "metadata": {},
   "outputs": [],
   "source": [
    "import pandas as pd\n",
    "\n",
    "mu_df = pd.DataFrame([market_prior, mu_bl, pd.Series(viewdict)], index=[\"Prior\", \"Posterior\", \"Views\"]).T\n",
    "mu_df"
   ]
  },
  {
   "cell_type": "code",
   "execution_count": null,
   "metadata": {},
   "outputs": [],
   "source": [
    "mu_df.plot.bar(figsize=(12,8))"
   ]
  },
  {
   "cell_type": "markdown",
   "metadata": {},
   "source": [
    "We can observe that the posterior typically falls between the prior and the views. This reinforces the idea that the Black-Litterman (BL) method operates as a Bayesian weighted average of the prior and the views, with the weights influenced by the level of confidence."
   ]
  },
  {
   "cell_type": "markdown",
   "metadata": {},
   "source": [
    "#### Posterior Covariance Estimate"
   ]
  },
  {
   "cell_type": "code",
   "execution_count": null,
   "metadata": {},
   "outputs": [],
   "source": [
    "S_bl = bl.bl_cov()\n",
    "po_plotting.plot_covariance(S_bl)"
   ]
  },
  {
   "cell_type": "markdown",
   "metadata": {},
   "source": [
    "## 2) Portfolio Mean-CVaR Optimization"
   ]
  },
  {
   "cell_type": "markdown",
   "metadata": {},
   "source": [
    "Once the Black-Litterman input estimates have been calculated, we are in a position to compute the actual portfolio optimization."
   ]
  },
  {
   "cell_type": "code",
   "execution_count": null,
   "metadata": {},
   "outputs": [],
   "source": [
    "from pypo.portfolio_optimization import po_models, po_objective_functions, po_optimizers"
   ]
  },
  {
   "cell_type": "markdown",
   "metadata": {},
   "source": [
    "### 2.1) Portfolio Optimization Model"
   ]
  },
  {
   "cell_type": "markdown",
   "metadata": {},
   "source": [
    "The selected portfolio optimization model to combine with Black-Litterman has been Mean-CVaR optimization. The reason is that according to research, choosing Conditional Value at Risk (CVaR) portfolio optimization over mean-variance portfolio optimization offers several advantages, particularly in the context of risk management and the nature of financial returns:\n",
    "- **Capturing on Asymmetry of Returns**\n",
    "    - Financial returns often exhibit asymmetry, where losses are typically more severe than gains. CVaR accounts for this asymmetry by focusing on the average of the worst-case scenarios, thus providing a clearer picture of potential losses compared to mean-variance optimization, which assumes a normal distribution of returns. This characteristic allows for better risk assessment in portfolios that may not conform to traditional assumptions.\n",
    "\n",
    "- **Capturing Tail Risk**\n",
    "    - CVaR specifically addresses tail risk, i.e. the risk of extreme losses that occur in the lower tail of the return distribution. Unlike mean-variance optimization, which primarily considers variance as a measure of risk, CVaR provides a more comprehensive view by estimating the expected loss given that a loss has exceeded a certain threshold (Value at Risk, or VaR). This makes CVaR particularly valuable for investors concerned about significant downturns.\n",
    "\n",
    "- **Robustness to Non-normal Distributions**\n",
    "    - While mean-variance optimization relies on the assumption of normally distributed returns, CVaR does not have this limitation. It can be applied to a variety of return distributions, including those that are skewed or have fat tails, making it more robust in real-world applications where asset returns often deviate from normality.\n",
    "\n",
    "- **Linear Programming Compatibility**\n",
    "    - CVaR can be formulated using linear programming techniques, which simplifies the optimization process and allows for handling larger portfolios and more complex constraints efficiently. This is beneficial for practitioners who need to optimize portfolios with multiple assets and varying risk profiles.\n",
    "\n",
    "- **Enhanced Risk Measure**\n",
    "    - CVaR is considered a coherent risk measure because it satisfies properties such as subadditivity and positive homogeneity. This means that diversifying a portfolio should not increase its risk, aligning with intuitive principles of risk management. In contrast, mean-variance optimization may lead to counterintuitive results in certain scenarios."
   ]
  },
  {
   "cell_type": "code",
   "execution_count": null,
   "metadata": {},
   "outputs": [],
   "source": [
    "bl_mcvar_po = po_models.MeanCVaRPO(mu_bl, S_bl)"
   ]
  },
  {
   "cell_type": "markdown",
   "metadata": {},
   "source": [
    "### 2.2) Portfolio Optimization Objectives & Constraints"
   ]
  },
  {
   "cell_type": "markdown",
   "metadata": {},
   "source": [
    "To make the problem more realistic, we have also incorporated portfolio regularization as objective (forcing some degree of diversification by avoiding many zero weights), and we have added esg scores constraints to make sure our portfolio meets specific ESG requirements."
   ]
  },
  {
   "cell_type": "code",
   "execution_count": null,
   "metadata": {},
   "outputs": [],
   "source": [
    "bl_mcvar_po.add_objective(po_objective_functions.L2_reg)"
   ]
  },
  {
   "cell_type": "code",
   "execution_count": null,
   "metadata": {},
   "outputs": [],
   "source": [
    "esg_scores = [0.3, 0.1, 0.5, 0.1, 0.4, 0.1, 0.9, 0.20, 0.1, 0.4, 0.1, 0.5, 0.9, 0.2]\n",
    "portfolio_min_score = 0.5\n",
    "\n",
    "bl_mcvar_po.add_constraint(lambda w: esg_scores @ w >= portfolio_min_score)"
   ]
  },
  {
   "cell_type": "markdown",
   "metadata": {},
   "source": [
    "### 2.3) Portfolio Optimization Objective Function & Solver"
   ]
  },
  {
   "cell_type": "markdown",
   "metadata": {},
   "source": [
    "Once the optimization problem is defined, we just need to call the method solver ``.max_sharpe()`` to calculate the optimal portfolio weights that maximize the sharpe ratio (ratio return to risk), in the context of Mean-CVaR optimization:"
   ]
  },
  {
   "cell_type": "code",
   "execution_count": null,
   "metadata": {},
   "outputs": [],
   "source": [
    "bl_mcvar_po.max_sharpe()"
   ]
  },
  {
   "cell_type": "markdown",
   "metadata": {},
   "source": [
    "## 3) Portfolio Performance"
   ]
  },
  {
   "cell_type": "markdown",
   "metadata": {},
   "source": [
    "### 3.1) Portfolio (Tidy) Weights"
   ]
  },
  {
   "cell_type": "code",
   "execution_count": null,
   "metadata": {},
   "outputs": [],
   "source": [
    "weights = bl_mcvar_po.clean_weights()\n",
    "weights"
   ]
  },
  {
   "cell_type": "code",
   "execution_count": null,
   "metadata": {},
   "outputs": [],
   "source": [
    "import pandas as pd\n",
    "\n",
    "pd.Series(weights).plot.pie(figsize=(10,10))"
   ]
  },
  {
   "cell_type": "markdown",
   "metadata": {},
   "source": [
    "### 3.2) Portfolio Performance"
   ]
  },
  {
   "cell_type": "code",
   "execution_count": null,
   "metadata": {},
   "outputs": [],
   "source": [
    "bl_mcvar_po.portfolio_performance()"
   ]
  },
  {
   "cell_type": "markdown",
   "metadata": {},
   "source": [
    "### 3.3) Portfolio Discrete Allocation"
   ]
  },
  {
   "cell_type": "code",
   "execution_count": null,
   "metadata": {},
   "outputs": [],
   "source": [
    "from pypo.utils import DiscreteAllocation\n",
    "\n",
    "da = DiscreteAllocation(weights, prices.iloc[-1], total_portfolio_value=20000)\n",
    "alloc, leftover = da.lp_portfolio()\n",
    "print(f\"Leftover: ${leftover:.2f}\")\n",
    "alloc"
   ]
  }
 ],
 "metadata": {
  "kernelspec": {
   "display_name": ".venv",
   "language": "python",
   "name": "python3"
  },
  "language_info": {
   "codemirror_mode": {
    "name": "ipython",
    "version": 3
   },
   "file_extension": ".py",
   "mimetype": "text/x-python",
   "name": "python",
   "nbconvert_exporter": "python",
   "pygments_lexer": "ipython3",
   "version": "3.12.7"
  }
 },
 "nbformat": 4,
 "nbformat_minor": 2
}
