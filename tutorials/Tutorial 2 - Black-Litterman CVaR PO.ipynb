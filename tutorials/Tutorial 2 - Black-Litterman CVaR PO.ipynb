{
 "cells": [
  {
   "cell_type": "markdown",
   "metadata": {},
   "source": [
    "# Predictive Black-Litterman CVaR Portfolio Optimization"
   ]
  },
  {
   "cell_type": "markdown",
   "metadata": {},
   "source": [
    "The objective of the present guide is to illustrate how to implement a predictive Black-Litterman CVaR portfolio optimization using the PyFinPO library. This methodology follows a similar structure to the one detailed in [Tutorial 1 - PyFinPO User Guide](Tutorial%201%20-%20PyFinPO%20User%20Guide.ipynb), and aims to provide a practical case study example which can be extended to other types of portfolio optimization models, objectives, constraints, input datasets and predictive models as well."
   ]
  },
  {
   "cell_type": "markdown",
   "metadata": {},
   "source": [
    "## Library Import"
   ]
  },
  {
   "cell_type": "code",
   "execution_count": 11,
   "metadata": {},
   "outputs": [],
   "source": [
    "import sys\n",
    "\n",
    "sys.path.append('/Users/alvarosanchez/Documents/Projects/personal-projects/pyfinpo')"
   ]
  },
  {
   "cell_type": "markdown",
   "metadata": {},
   "source": [
    "## 0) Getting the data"
   ]
  },
  {
   "cell_type": "markdown",
   "metadata": {},
   "source": [
    "### Security Prices"
   ]
  },
  {
   "cell_type": "code",
   "execution_count": 12,
   "metadata": {},
   "outputs": [
    {
     "name": "stderr",
     "output_type": "stream",
     "text": [
      "[*********************100%***********************]  14 of 14 completed\n"
     ]
    },
    {
     "data": {
      "text/html": [
       "<div>\n",
       "<style scoped>\n",
       "    .dataframe tbody tr th:only-of-type {\n",
       "        vertical-align: middle;\n",
       "    }\n",
       "\n",
       "    .dataframe tbody tr th {\n",
       "        vertical-align: top;\n",
       "    }\n",
       "\n",
       "    .dataframe thead th {\n",
       "        text-align: right;\n",
       "    }\n",
       "</style>\n",
       "<table border=\"1\" class=\"dataframe\">\n",
       "  <thead>\n",
       "    <tr style=\"text-align: right;\">\n",
       "      <th>Ticker</th>\n",
       "      <th>AAPL</th>\n",
       "      <th>AMZN</th>\n",
       "      <th>C</th>\n",
       "      <th>GOOG</th>\n",
       "      <th>GS</th>\n",
       "      <th>JPM</th>\n",
       "      <th>META</th>\n",
       "      <th>MS</th>\n",
       "      <th>MSFT</th>\n",
       "      <th>NFLX</th>\n",
       "      <th>PFE</th>\n",
       "      <th>TSLA</th>\n",
       "      <th>UNH</th>\n",
       "      <th>XOM</th>\n",
       "    </tr>\n",
       "    <tr>\n",
       "      <th>Date</th>\n",
       "      <th></th>\n",
       "      <th></th>\n",
       "      <th></th>\n",
       "      <th></th>\n",
       "      <th></th>\n",
       "      <th></th>\n",
       "      <th></th>\n",
       "      <th></th>\n",
       "      <th></th>\n",
       "      <th></th>\n",
       "      <th></th>\n",
       "      <th></th>\n",
       "      <th></th>\n",
       "      <th></th>\n",
       "    </tr>\n",
       "  </thead>\n",
       "  <tbody>\n",
       "    <tr>\n",
       "      <th>2015-01-02 00:00:00+00:00</th>\n",
       "      <td>24.347172</td>\n",
       "      <td>15.426000</td>\n",
       "      <td>41.534031</td>\n",
       "      <td>26.104546</td>\n",
       "      <td>160.355621</td>\n",
       "      <td>47.709976</td>\n",
       "      <td>78.214500</td>\n",
       "      <td>29.519684</td>\n",
       "      <td>40.152481</td>\n",
       "      <td>49.848572</td>\n",
       "      <td>20.041164</td>\n",
       "      <td>14.620667</td>\n",
       "      <td>86.892982</td>\n",
       "      <td>60.042534</td>\n",
       "    </tr>\n",
       "    <tr>\n",
       "      <th>2015-01-05 00:00:00+00:00</th>\n",
       "      <td>23.661276</td>\n",
       "      <td>15.109500</td>\n",
       "      <td>40.225079</td>\n",
       "      <td>25.560379</td>\n",
       "      <td>155.348892</td>\n",
       "      <td>46.228802</td>\n",
       "      <td>76.958290</td>\n",
       "      <td>28.596958</td>\n",
       "      <td>39.783253</td>\n",
       "      <td>47.311428</td>\n",
       "      <td>19.932419</td>\n",
       "      <td>14.006000</td>\n",
       "      <td>85.461700</td>\n",
       "      <td>58.399662</td>\n",
       "    </tr>\n",
       "    <tr>\n",
       "      <th>2015-01-06 00:00:00+00:00</th>\n",
       "      <td>23.663502</td>\n",
       "      <td>14.764500</td>\n",
       "      <td>38.808975</td>\n",
       "      <td>24.967966</td>\n",
       "      <td>152.206284</td>\n",
       "      <td>45.030140</td>\n",
       "      <td>75.921410</td>\n",
       "      <td>27.773369</td>\n",
       "      <td>39.199337</td>\n",
       "      <td>46.501431</td>\n",
       "      <td>20.098738</td>\n",
       "      <td>14.085333</td>\n",
       "      <td>85.289268</td>\n",
       "      <td>58.089199</td>\n",
       "    </tr>\n",
       "    <tr>\n",
       "      <th>2015-01-07 00:00:00+00:00</th>\n",
       "      <td>23.995319</td>\n",
       "      <td>14.921000</td>\n",
       "      <td>39.168747</td>\n",
       "      <td>24.925188</td>\n",
       "      <td>154.474533</td>\n",
       "      <td>45.098858</td>\n",
       "      <td>75.921410</td>\n",
       "      <td>28.169897</td>\n",
       "      <td>39.697369</td>\n",
       "      <td>46.742859</td>\n",
       "      <td>20.373796</td>\n",
       "      <td>14.063333</td>\n",
       "      <td>86.160095</td>\n",
       "      <td>58.677780</td>\n",
       "    </tr>\n",
       "    <tr>\n",
       "      <th>2015-01-08 00:00:00+00:00</th>\n",
       "      <td>24.917265</td>\n",
       "      <td>15.023000</td>\n",
       "      <td>39.758152</td>\n",
       "      <td>25.003778</td>\n",
       "      <td>156.940826</td>\n",
       "      <td>46.106659</td>\n",
       "      <td>77.945312</td>\n",
       "      <td>28.589329</td>\n",
       "      <td>40.865192</td>\n",
       "      <td>47.779999</td>\n",
       "      <td>20.789593</td>\n",
       "      <td>14.041333</td>\n",
       "      <td>90.272812</td>\n",
       "      <td>59.654465</td>\n",
       "    </tr>\n",
       "    <tr>\n",
       "      <th>...</th>\n",
       "      <td>...</td>\n",
       "      <td>...</td>\n",
       "      <td>...</td>\n",
       "      <td>...</td>\n",
       "      <td>...</td>\n",
       "      <td>...</td>\n",
       "      <td>...</td>\n",
       "      <td>...</td>\n",
       "      <td>...</td>\n",
       "      <td>...</td>\n",
       "      <td>...</td>\n",
       "      <td>...</td>\n",
       "      <td>...</td>\n",
       "      <td>...</td>\n",
       "    </tr>\n",
       "    <tr>\n",
       "      <th>2024-11-18 00:00:00+00:00</th>\n",
       "      <td>228.020004</td>\n",
       "      <td>201.699997</td>\n",
       "      <td>69.000000</td>\n",
       "      <td>176.800003</td>\n",
       "      <td>587.989990</td>\n",
       "      <td>245.029999</td>\n",
       "      <td>554.400024</td>\n",
       "      <td>133.779999</td>\n",
       "      <td>414.929474</td>\n",
       "      <td>847.049988</td>\n",
       "      <td>24.860001</td>\n",
       "      <td>338.739990</td>\n",
       "      <td>589.650024</td>\n",
       "      <td>120.309998</td>\n",
       "    </tr>\n",
       "    <tr>\n",
       "      <th>2024-11-19 00:00:00+00:00</th>\n",
       "      <td>228.279999</td>\n",
       "      <td>204.610001</td>\n",
       "      <td>68.599998</td>\n",
       "      <td>179.580002</td>\n",
       "      <td>581.380005</td>\n",
       "      <td>243.089996</td>\n",
       "      <td>561.090027</td>\n",
       "      <td>132.240005</td>\n",
       "      <td>416.955414</td>\n",
       "      <td>871.320007</td>\n",
       "      <td>25.100000</td>\n",
       "      <td>346.000000</td>\n",
       "      <td>577.000000</td>\n",
       "      <td>118.629997</td>\n",
       "    </tr>\n",
       "    <tr>\n",
       "      <th>2024-11-20 00:00:00+00:00</th>\n",
       "      <td>229.000000</td>\n",
       "      <td>202.880005</td>\n",
       "      <td>68.279999</td>\n",
       "      <td>177.330002</td>\n",
       "      <td>581.929993</td>\n",
       "      <td>240.779999</td>\n",
       "      <td>565.520020</td>\n",
       "      <td>131.690002</td>\n",
       "      <td>414.659973</td>\n",
       "      <td>883.849976</td>\n",
       "      <td>24.940001</td>\n",
       "      <td>342.029999</td>\n",
       "      <td>600.500000</td>\n",
       "      <td>120.320000</td>\n",
       "    </tr>\n",
       "    <tr>\n",
       "      <th>2024-11-21 00:00:00+00:00</th>\n",
       "      <td>228.520004</td>\n",
       "      <td>198.380005</td>\n",
       "      <td>68.949997</td>\n",
       "      <td>169.240005</td>\n",
       "      <td>596.109985</td>\n",
       "      <td>244.759995</td>\n",
       "      <td>563.090027</td>\n",
       "      <td>134.990005</td>\n",
       "      <td>412.869995</td>\n",
       "      <td>897.479980</td>\n",
       "      <td>25.129999</td>\n",
       "      <td>339.640015</td>\n",
       "      <td>597.489990</td>\n",
       "      <td>121.930000</td>\n",
       "    </tr>\n",
       "    <tr>\n",
       "      <th>2024-11-22 00:00:00+00:00</th>\n",
       "      <td>229.869995</td>\n",
       "      <td>197.119995</td>\n",
       "      <td>69.839996</td>\n",
       "      <td>166.570007</td>\n",
       "      <td>602.780029</td>\n",
       "      <td>248.550003</td>\n",
       "      <td>559.140015</td>\n",
       "      <td>134.690002</td>\n",
       "      <td>417.000000</td>\n",
       "      <td>897.789978</td>\n",
       "      <td>25.650000</td>\n",
       "      <td>352.559998</td>\n",
       "      <td>590.869995</td>\n",
       "      <td>121.790001</td>\n",
       "    </tr>\n",
       "  </tbody>\n",
       "</table>\n",
       "<p>2491 rows × 14 columns</p>\n",
       "</div>"
      ],
      "text/plain": [
       "Ticker                           AAPL        AMZN          C        GOOG  \\\n",
       "Date                                                                       \n",
       "2015-01-02 00:00:00+00:00   24.347172   15.426000  41.534031   26.104546   \n",
       "2015-01-05 00:00:00+00:00   23.661276   15.109500  40.225079   25.560379   \n",
       "2015-01-06 00:00:00+00:00   23.663502   14.764500  38.808975   24.967966   \n",
       "2015-01-07 00:00:00+00:00   23.995319   14.921000  39.168747   24.925188   \n",
       "2015-01-08 00:00:00+00:00   24.917265   15.023000  39.758152   25.003778   \n",
       "...                               ...         ...        ...         ...   \n",
       "2024-11-18 00:00:00+00:00  228.020004  201.699997  69.000000  176.800003   \n",
       "2024-11-19 00:00:00+00:00  228.279999  204.610001  68.599998  179.580002   \n",
       "2024-11-20 00:00:00+00:00  229.000000  202.880005  68.279999  177.330002   \n",
       "2024-11-21 00:00:00+00:00  228.520004  198.380005  68.949997  169.240005   \n",
       "2024-11-22 00:00:00+00:00  229.869995  197.119995  69.839996  166.570007   \n",
       "\n",
       "Ticker                             GS         JPM        META          MS  \\\n",
       "Date                                                                        \n",
       "2015-01-02 00:00:00+00:00  160.355621   47.709976   78.214500   29.519684   \n",
       "2015-01-05 00:00:00+00:00  155.348892   46.228802   76.958290   28.596958   \n",
       "2015-01-06 00:00:00+00:00  152.206284   45.030140   75.921410   27.773369   \n",
       "2015-01-07 00:00:00+00:00  154.474533   45.098858   75.921410   28.169897   \n",
       "2015-01-08 00:00:00+00:00  156.940826   46.106659   77.945312   28.589329   \n",
       "...                               ...         ...         ...         ...   \n",
       "2024-11-18 00:00:00+00:00  587.989990  245.029999  554.400024  133.779999   \n",
       "2024-11-19 00:00:00+00:00  581.380005  243.089996  561.090027  132.240005   \n",
       "2024-11-20 00:00:00+00:00  581.929993  240.779999  565.520020  131.690002   \n",
       "2024-11-21 00:00:00+00:00  596.109985  244.759995  563.090027  134.990005   \n",
       "2024-11-22 00:00:00+00:00  602.780029  248.550003  559.140015  134.690002   \n",
       "\n",
       "Ticker                           MSFT        NFLX        PFE        TSLA  \\\n",
       "Date                                                                       \n",
       "2015-01-02 00:00:00+00:00   40.152481   49.848572  20.041164   14.620667   \n",
       "2015-01-05 00:00:00+00:00   39.783253   47.311428  19.932419   14.006000   \n",
       "2015-01-06 00:00:00+00:00   39.199337   46.501431  20.098738   14.085333   \n",
       "2015-01-07 00:00:00+00:00   39.697369   46.742859  20.373796   14.063333   \n",
       "2015-01-08 00:00:00+00:00   40.865192   47.779999  20.789593   14.041333   \n",
       "...                               ...         ...        ...         ...   \n",
       "2024-11-18 00:00:00+00:00  414.929474  847.049988  24.860001  338.739990   \n",
       "2024-11-19 00:00:00+00:00  416.955414  871.320007  25.100000  346.000000   \n",
       "2024-11-20 00:00:00+00:00  414.659973  883.849976  24.940001  342.029999   \n",
       "2024-11-21 00:00:00+00:00  412.869995  897.479980  25.129999  339.640015   \n",
       "2024-11-22 00:00:00+00:00  417.000000  897.789978  25.650000  352.559998   \n",
       "\n",
       "Ticker                            UNH         XOM  \n",
       "Date                                               \n",
       "2015-01-02 00:00:00+00:00   86.892982   60.042534  \n",
       "2015-01-05 00:00:00+00:00   85.461700   58.399662  \n",
       "2015-01-06 00:00:00+00:00   85.289268   58.089199  \n",
       "2015-01-07 00:00:00+00:00   86.160095   58.677780  \n",
       "2015-01-08 00:00:00+00:00   90.272812   59.654465  \n",
       "...                               ...         ...  \n",
       "2024-11-18 00:00:00+00:00  589.650024  120.309998  \n",
       "2024-11-19 00:00:00+00:00  577.000000  118.629997  \n",
       "2024-11-20 00:00:00+00:00  600.500000  120.320000  \n",
       "2024-11-21 00:00:00+00:00  597.489990  121.930000  \n",
       "2024-11-22 00:00:00+00:00  590.869995  121.790001  \n",
       "\n",
       "[2491 rows x 14 columns]"
      ]
     },
     "execution_count": 12,
     "metadata": {},
     "output_type": "execute_result"
    }
   ],
   "source": [
    "import yfinance as yf\n",
    "\n",
    "tickers = [\"AAPL\", \"META\", \"AMZN\", \"NFLX\", \"GOOG\", \"GS\", \"JPM\", \"MS\", \"C\", \"MSFT\", \"PFE\", \"TSLA\", \"UNH\", \"XOM\"]\n",
    "ohlc = yf.download(tickers, start=\"2015-01-01\")\n",
    "prices = ohlc[\"Adj Close\"].dropna(how=\"all\")\n",
    "prices"
   ]
  },
  {
   "cell_type": "markdown",
   "metadata": {},
   "source": [
    "### Market Prices (SPY)"
   ]
  },
  {
   "cell_type": "code",
   "execution_count": 13,
   "metadata": {},
   "outputs": [
    {
     "name": "stderr",
     "output_type": "stream",
     "text": [
      "[*********************100%***********************]  1 of 1 completed\n"
     ]
    },
    {
     "data": {
      "text/html": [
       "<div>\n",
       "<style scoped>\n",
       "    .dataframe tbody tr th:only-of-type {\n",
       "        vertical-align: middle;\n",
       "    }\n",
       "\n",
       "    .dataframe tbody tr th {\n",
       "        vertical-align: top;\n",
       "    }\n",
       "\n",
       "    .dataframe thead th {\n",
       "        text-align: right;\n",
       "    }\n",
       "</style>\n",
       "<table border=\"1\" class=\"dataframe\">\n",
       "  <thead>\n",
       "    <tr style=\"text-align: right;\">\n",
       "      <th>Ticker</th>\n",
       "      <th>SPY</th>\n",
       "    </tr>\n",
       "    <tr>\n",
       "      <th>Date</th>\n",
       "      <th></th>\n",
       "    </tr>\n",
       "  </thead>\n",
       "  <tbody>\n",
       "    <tr>\n",
       "      <th>2015-01-02 00:00:00+00:00</th>\n",
       "      <td>173.173752</td>\n",
       "    </tr>\n",
       "    <tr>\n",
       "      <th>2015-01-05 00:00:00+00:00</th>\n",
       "      <td>170.046310</td>\n",
       "    </tr>\n",
       "    <tr>\n",
       "      <th>2015-01-06 00:00:00+00:00</th>\n",
       "      <td>168.444641</td>\n",
       "    </tr>\n",
       "    <tr>\n",
       "      <th>2015-01-07 00:00:00+00:00</th>\n",
       "      <td>170.543640</td>\n",
       "    </tr>\n",
       "    <tr>\n",
       "      <th>2015-01-08 00:00:00+00:00</th>\n",
       "      <td>173.569977</td>\n",
       "    </tr>\n",
       "    <tr>\n",
       "      <th>...</th>\n",
       "      <td>...</td>\n",
       "    </tr>\n",
       "    <tr>\n",
       "      <th>2024-11-18 00:00:00+00:00</th>\n",
       "      <td>588.150024</td>\n",
       "    </tr>\n",
       "    <tr>\n",
       "      <th>2024-11-19 00:00:00+00:00</th>\n",
       "      <td>590.299988</td>\n",
       "    </tr>\n",
       "    <tr>\n",
       "      <th>2024-11-20 00:00:00+00:00</th>\n",
       "      <td>590.500000</td>\n",
       "    </tr>\n",
       "    <tr>\n",
       "      <th>2024-11-21 00:00:00+00:00</th>\n",
       "      <td>593.669983</td>\n",
       "    </tr>\n",
       "    <tr>\n",
       "      <th>2024-11-22 00:00:00+00:00</th>\n",
       "      <td>595.510010</td>\n",
       "    </tr>\n",
       "  </tbody>\n",
       "</table>\n",
       "<p>2491 rows × 1 columns</p>\n",
       "</div>"
      ],
      "text/plain": [
       "Ticker                            SPY\n",
       "Date                                 \n",
       "2015-01-02 00:00:00+00:00  173.173752\n",
       "2015-01-05 00:00:00+00:00  170.046310\n",
       "2015-01-06 00:00:00+00:00  168.444641\n",
       "2015-01-07 00:00:00+00:00  170.543640\n",
       "2015-01-08 00:00:00+00:00  173.569977\n",
       "...                               ...\n",
       "2024-11-18 00:00:00+00:00  588.150024\n",
       "2024-11-19 00:00:00+00:00  590.299988\n",
       "2024-11-20 00:00:00+00:00  590.500000\n",
       "2024-11-21 00:00:00+00:00  593.669983\n",
       "2024-11-22 00:00:00+00:00  595.510010\n",
       "\n",
       "[2491 rows x 1 columns]"
      ]
     },
     "execution_count": 13,
     "metadata": {},
     "output_type": "execute_result"
    }
   ],
   "source": [
    "market_prices = yf.download(\"SPY\", start=\"2015-01-01\")[\"Adj Close\"]\n",
    "market_prices"
   ]
  },
  {
   "cell_type": "markdown",
   "metadata": {},
   "source": [
    "### Security Market Caps"
   ]
  },
  {
   "cell_type": "code",
   "execution_count": 14,
   "metadata": {},
   "outputs": [
    {
     "data": {
      "text/plain": [
       "{'AAPL': 3474668650496,\n",
       " 'META': 1411543334912,\n",
       " 'AMZN': 2072716771328,\n",
       " 'NFLX': 383767478272,\n",
       " 'GOOG': 2026840522752,\n",
       " 'GS': 189218684928,\n",
       " 'JPM': 699752775680,\n",
       " 'MS': 216990973952,\n",
       " 'C': 132085596160,\n",
       " 'MSFT': 3100344844288,\n",
       " 'PFE': 145358290944,\n",
       " 'TSLA': 1131738693632,\n",
       " 'UNH': 543768215552,\n",
       " 'XOM': 535277993984}"
      ]
     },
     "execution_count": 14,
     "metadata": {},
     "output_type": "execute_result"
    }
   ],
   "source": [
    "mcaps = {}\n",
    "for t in tickers:\n",
    "    stock = yf.Ticker(t)\n",
    "    mcaps[t] = stock.info[\"marketCap\"]\n",
    "mcaps"
   ]
  },
  {
   "cell_type": "markdown",
   "metadata": {},
   "source": [
    "## 1) Input Estimates"
   ]
  },
  {
   "cell_type": "markdown",
   "metadata": {},
   "source": [
    "### 1.1) Prior Estimates"
   ]
  },
  {
   "cell_type": "markdown",
   "metadata": {},
   "source": [
    "We first compute the Covariance Matrix of the input dataset of prices. We chose the ``ledoit_wolf()`` Covariance Shrinkage method as estimator for the covariance matrix as is one of the most stable choices according to research [[1](https://pyportfolioopt.readthedocs.io/en/latest/RiskModels.html#shrinkage-estimators)]."
   ]
  },
  {
   "cell_type": "markdown",
   "metadata": {},
   "source": [
    "#### (Prior) Covariance Matrix Estimation"
   ]
  },
  {
   "cell_type": "code",
   "execution_count": 15,
   "metadata": {},
   "outputs": [
    {
     "data": {
      "text/plain": [
       "<Axes: >"
      ]
     },
     "execution_count": 15,
     "metadata": {},
     "output_type": "execute_result"
    },
    {
     "data": {
      "image/png": "[encoded data removed]",
      "text/plain": [
       "<Figure size 640x480 with 2 Axes>"
      ]
     },
     "metadata": {},
     "output_type": "display_data"
    }
   ],
   "source": [
    "from pyfinpo.input_estimates import risk_models\n",
    "from pyfinpo.visualization import po_plotting\n",
    "\n",
    "S = risk_models.CovarianceShrinkage(prices).ledoit_wolf()\n",
    "po_plotting.plot_covariance(S, plot_correlation=True)"
   ]
  },
  {
   "cell_type": "markdown",
   "metadata": {},
   "source": [
    "#### (Prior) Expected Returns Estimation"
   ]
  },
  {
   "cell_type": "markdown",
   "metadata": {},
   "source": [
    "We have several options available to estimate the expected returns (prior to any market views).\n",
    "\n",
    "- A first option would be to use any of the expected return models available in the PyPO library (mean historical return, exponentially weighted mean historical return, or capm). \n",
    "\n",
    "- However, if we don't have a reliable forecasting method for expected returns, a second option would be to Compute the prior estimate of returns implied by the market weights. In other words, given each asset's contribution to the risk of the market portfolio, we will calculate how much we are expecting to be compensated. For that, we just need to use the ``black_litterman.market_implied_prior_returns()`` method.\n",
    "\n",
    "In the absence of good forecasting models, let's take the second path and calculate the market implied expected returns. What we do is first calculate the market implied risk aversion parameter ($\\delta$), and then compute the prior estimate of returns using the risk aversion and the previously estimated covariance matrix."
   ]
  },
  {
   "cell_type": "code",
   "execution_count": 17,
   "metadata": {},
   "outputs": [
    {
     "data": {
      "text/plain": [
       "np.float64(3.8708874576936725)"
      ]
     },
     "execution_count": 17,
     "metadata": {},
     "output_type": "execute_result"
    }
   ],
   "source": [
    "from pyfinpo.input_estimates.robust_models import black_litterman_rm\n",
    "\n",
    "delta_risk_aversion = black_litterman_rm.market_implied_risk_aversion(market_prices)['SPY']\n",
    "delta_risk_aversion"
   ]
  },
  {
   "cell_type": "code",
   "execution_count": 18,
   "metadata": {},
   "outputs": [
    {
     "name": "stdout",
     "output_type": "stream",
     "text": [
      "Ticker\n",
      "AAPL    0.237604\n",
      "AMZN    0.254665\n",
      "C       0.186131\n",
      "GOOG    0.232107\n",
      "GS      0.175279\n",
      "JPM     0.156508\n",
      "META    0.269401\n",
      "MS      0.191101\n",
      "MSFT    0.235194\n",
      "NFLX    0.248715\n",
      "PFE     0.094726\n",
      "TSLA    0.326731\n",
      "UNH     0.132513\n",
      "XOM     0.117449\n",
      "dtype: float64\n"
     ]
    },
    {
     "data": {
      "text/plain": [
       "<Axes: ylabel='Ticker'>"
      ]
     },
     "execution_count": 18,
     "metadata": {},
     "output_type": "execute_result"
    },
    {
     "data": {
      "image/png": "[encoded data removed]",
      "text/plain": [
       "<Figure size 1000x500 with 1 Axes>"
      ]
     },
     "metadata": {},
     "output_type": "display_data"
    }
   ],
   "source": [
    "market_prior = black_litterman_rm.market_implied_prior_returns(mcaps, delta_risk_aversion, S)\n",
    "print(market_prior)\n",
    "market_prior.plot.barh(figsize=(10,5))"
   ]
  },
  {
   "cell_type": "markdown",
   "metadata": {},
   "source": [
    "### 1.2) Views"
   ]
  },
  {
   "cell_type": "markdown",
   "metadata": {},
   "source": [
    "Now that we have the prior estimates for the covariance matrix and the expected returns, we can create the inputs to incorporate our market views into the model. There are 2 main inputs to provide here: i) our market views (either in relative or absolute terms), and ii) our confidence in the views."
   ]
  },
  {
   "cell_type": "markdown",
   "metadata": {},
   "source": [
    "#### Views Matrix (V)"
   ]
  },
  {
   "cell_type": "markdown",
   "metadata": {},
   "source": [
    "In the Black-Litterman model, the views can be expressed in **relative terms** via 2 matrices:\n",
    " - ``Q``-> the vector that specifies the magnitude of each view\n",
    " - ``P`` -> picking matrix, which maps the views (Q vector) to each of the assets they belong to"
   ]
  },
  {
   "cell_type": "markdown",
   "metadata": {},
   "source": [
    "Alternatively, we can also provide our views in **absolute terms** by providing a dictionary with a return estimate for each asset:"
   ]
  },
  {
   "cell_type": "code",
   "execution_count": 19,
   "metadata": {},
   "outputs": [
    {
     "data": {
      "text/plain": [
       "14"
      ]
     },
     "execution_count": 19,
     "metadata": {},
     "output_type": "execute_result"
    }
   ],
   "source": [
    "viewdict = {\n",
    "    \"AAPL\": 0.05,\n",
    "    \"AMZN\": 0.1,\n",
    "    \"C\": 0.03,\n",
    "    \"GOOG\": 0.04,\n",
    "    \"GS\": 0.03,\n",
    "    \"JPM\": 0.05,\n",
    "    \"META\": 0.07,\n",
    "    \"MS\": 0.04,\n",
    "    \"MSFT\": 0.05,\n",
    "    \"NFLX\": -0.03,\n",
    "    \"PFE\": -0.01,\n",
    "    \"TSLA\": 0.01,\n",
    "    \"UNH\": 0.00,\n",
    "    \"XOM\": 0.02\n",
    "}\n",
    "len(viewdict)"
   ]
  },
  {
   "cell_type": "markdown",
   "metadata": {},
   "source": [
    "#### Uncentainty Matrix ($\\Omega$)"
   ]
  },
  {
   "cell_type": "markdown",
   "metadata": {},
   "source": [
    "Two ways are proposed to construct the uncertainty matrix, to express more or less confidence in the provided views."
   ]
  },
  {
   "cell_type": "markdown",
   "metadata": {},
   "source": [
    "##### A) Idzorek's method (% of confidence)"
   ]
  },
  {
   "cell_type": "markdown",
   "metadata": {},
   "source": [
    "The first one is using the Idzorek's method, which simply allows to specify a vector with the percentage of confidence on each view:"
   ]
  },
  {
   "cell_type": "code",
   "execution_count": 20,
   "metadata": {},
   "outputs": [
    {
     "data": {
      "text/plain": [
       "14"
      ]
     },
     "execution_count": 20,
     "metadata": {},
     "output_type": "execute_result"
    }
   ],
   "source": [
    "uncertainty_matrix = [\n",
    "    0.7,\n",
    "    0.6,\n",
    "    0.5,\n",
    "    0.8, # Quite confident in GOOG view\n",
    "    0.2,\n",
    "    0.5,\n",
    "    0.7,\n",
    "    0.5, \n",
    "    0.5,\n",
    "    0.5,\n",
    "    0.2,\n",
    "    0.1, # Not confident in TSLA view\n",
    "    0.3,\n",
    "    0.2\n",
    "]\n",
    "len(uncertainty_matrix)"
   ]
  },
  {
   "cell_type": "code",
   "execution_count": 21,
   "metadata": {},
   "outputs": [],
   "source": [
    "from pyfinpo.input_estimates.robust_models import BlackLittermanModel\n",
    "\n",
    "bl = BlackLittermanModel(S, pi=market_prior, absolute_views=viewdict, omega=\"idzorek\", view_confidences=uncertainty_matrix)\n",
    "     "
   ]
  },
  {
   "cell_type": "code",
   "execution_count": 23,
   "metadata": {},
   "outputs": [
    {
     "data": {
      "image/png": "[encoded data removed]",
      "text/plain": [
       "<Figure size 700x700 with 1 Axes>"
      ]
     },
     "metadata": {},
     "output_type": "display_data"
    }
   ],
   "source": [
    "import numpy as np\n",
    "import matplotlib.pyplot as plt\n",
    "\n",
    "fig, ax = plt.subplots(figsize=(7,7))\n",
    "im = ax.imshow(bl.omega)\n",
    "\n",
    "# We want to show all ticks...\n",
    "ax.set_xticks(np.arange(len(bl.tickers)))\n",
    "ax.set_yticks(np.arange(len(bl.tickers)))\n",
    "\n",
    "ax.set_xticklabels(bl.tickers)\n",
    "ax.set_yticklabels(bl.tickers)\n",
    "plt.show()"
   ]
  },
  {
   "cell_type": "code",
   "execution_count": 24,
   "metadata": {},
   "outputs": [
    {
     "data": {
      "text/plain": [
       "array([0.00175397, 0.00359194, 0.00540976, 0.00101568, 0.01676258,\n",
       "       0.00378553, 0.00301863, 0.00494484, 0.00371858, 0.00953906,\n",
       "       0.01089167, 0.14569693, 0.00792013, 0.01560363])"
      ]
     },
     "execution_count": 24,
     "metadata": {},
     "output_type": "execute_result"
    }
   ],
   "source": [
    "np.diag(bl.omega)"
   ]
  },
  {
   "cell_type": "markdown",
   "metadata": {},
   "source": [
    "##### B) Confidence Interval Method"
   ]
  },
  {
   "cell_type": "markdown",
   "metadata": {},
   "source": [
    "An alternative to specifying a percentage of confidence (which can be somewhat arbitrary), would be to specify the 1 standard deviation price confidence interval for each view:"
   ]
  },
  {
   "cell_type": "code",
   "execution_count": 25,
   "metadata": {},
   "outputs": [
    {
     "data": {
      "text/plain": [
       "14"
      ]
     },
     "execution_count": 25,
     "metadata": {},
     "output_type": "execute_result"
    }
   ],
   "source": [
    "uncertainty_intervals = [\n",
    "    (0.03,0.07), #AAPL\n",
    "    (0.06,0.13), #AMZN\n",
    "    (0.01,0.05), #C\n",
    "    (0.03,0.09), #GOOG\n",
    "    (0.00,0.05), #GS\n",
    "    (0.04,0.06), #JPM\n",
    "    (0.01,0.09), #META\n",
    "    (0.02,0.07), #MS\n",
    "    (0.01,0.09), #MSFT\n",
    "    (-0.04,0.01), #NFLX\n",
    "    (-0.03,0.03), #PFE\n",
    "    (-0.02,0.03), #TSLA\n",
    "    (-0.05,0.05), #UNH\n",
    "    (0.0,0.03) #XOM\n",
    "]\n",
    "len(uncertainty_intervals)"
   ]
  },
  {
   "cell_type": "code",
   "execution_count": 26,
   "metadata": {},
   "outputs": [
    {
     "name": "stdout",
     "output_type": "stream",
     "text": [
      "[0.0004000000000000002, 0.0012250000000000002, 0.0004, 0.0009, 0.0006250000000000001, 9.999999999999996e-05, 0.0016, 0.0006250000000000001, 0.0016, 0.0006250000000000001, 0.0009, 0.0006250000000000001, 0.0025000000000000005, 0.000225]\n"
     ]
    }
   ],
   "source": [
    "variances = []\n",
    "for lb, ub in uncertainty_intervals:\n",
    "    sigma = (ub - lb)/2\n",
    "    variances.append(sigma ** 2)\n",
    "\n",
    "print(variances)\n",
    "omega = np.diag(variances)"
   ]
  },
  {
   "cell_type": "code",
   "execution_count": 27,
   "metadata": {},
   "outputs": [
    {
     "data": {
      "image/png": "[encoded data removed]",
      "text/plain": [
       "<Figure size 700x700 with 1 Axes>"
      ]
     },
     "metadata": {},
     "output_type": "display_data"
    }
   ],
   "source": [
    "import matplotlib.pyplot as plt\n",
    "\n",
    "fig, ax = plt.subplots(figsize=(7,7))\n",
    "im = ax.imshow(omega)\n",
    "\n",
    "# We want to show all ticks...\n",
    "ax.set_xticks(np.arange(len(viewdict)))\n",
    "ax.set_yticks(np.arange(len(viewdict)))\n",
    "\n",
    "ax.set_xticklabels(viewdict.keys())\n",
    "ax.set_yticklabels(viewdict.keys())\n",
    "plt.show()"
   ]
  },
  {
   "cell_type": "markdown",
   "metadata": {},
   "source": [
    "### 1.3) Posterior Estimates"
   ]
  },
  {
   "cell_type": "markdown",
   "metadata": {},
   "source": [
    "Having computed the previous inputs (market cap, covariance matrix, risk aversion, views and uncertainty), we can plug them in the Black-Litterman model and generate an posterior estimate for returns and covariance matrix:"
   ]
  },
  {
   "cell_type": "code",
   "execution_count": 28,
   "metadata": {},
   "outputs": [],
   "source": [
    "bl = BlackLittermanModel(S, pi=\"market\", market_caps=mcaps, risk_aversion=delta_risk_aversion, absolute_views=viewdict, omega=omega)"
   ]
  },
  {
   "cell_type": "markdown",
   "metadata": {},
   "source": [
    "#### Posterior Estimate of Returns"
   ]
  },
  {
   "cell_type": "code",
   "execution_count": 29,
   "metadata": {},
   "outputs": [
    {
     "data": {
      "text/plain": [
       "Ticker\n",
       "AAPL    0.054283\n",
       "AMZN    0.089008\n",
       "C       0.033966\n",
       "GOOG    0.050973\n",
       "GS      0.034269\n",
       "JPM     0.047861\n",
       "META    0.073306\n",
       "MS      0.041407\n",
       "MSFT    0.060222\n",
       "NFLX   -0.020987\n",
       "PFE    -0.000629\n",
       "TSLA    0.015475\n",
       "UNH     0.013363\n",
       "XOM     0.020531\n",
       "dtype: float64"
      ]
     },
     "execution_count": 29,
     "metadata": {},
     "output_type": "execute_result"
    }
   ],
   "source": [
    "mu_bl = bl.bl_returns()\n",
    "mu_bl"
   ]
  },
  {
   "cell_type": "code",
   "execution_count": 30,
   "metadata": {},
   "outputs": [
    {
     "data": {
      "text/html": [
       "<div>\n",
       "<style scoped>\n",
       "    .dataframe tbody tr th:only-of-type {\n",
       "        vertical-align: middle;\n",
       "    }\n",
       "\n",
       "    .dataframe tbody tr th {\n",
       "        vertical-align: top;\n",
       "    }\n",
       "\n",
       "    .dataframe thead th {\n",
       "        text-align: right;\n",
       "    }\n",
       "</style>\n",
       "<table border=\"1\" class=\"dataframe\">\n",
       "  <thead>\n",
       "    <tr style=\"text-align: right;\">\n",
       "      <th></th>\n",
       "      <th>Prior</th>\n",
       "      <th>Posterior</th>\n",
       "      <th>Views</th>\n",
       "    </tr>\n",
       "  </thead>\n",
       "  <tbody>\n",
       "    <tr>\n",
       "      <th>AAPL</th>\n",
       "      <td>0.237604</td>\n",
       "      <td>0.054283</td>\n",
       "      <td>0.05</td>\n",
       "    </tr>\n",
       "    <tr>\n",
       "      <th>AMZN</th>\n",
       "      <td>0.254665</td>\n",
       "      <td>0.089008</td>\n",
       "      <td>0.10</td>\n",
       "    </tr>\n",
       "    <tr>\n",
       "      <th>C</th>\n",
       "      <td>0.186131</td>\n",
       "      <td>0.033966</td>\n",
       "      <td>0.03</td>\n",
       "    </tr>\n",
       "    <tr>\n",
       "      <th>GOOG</th>\n",
       "      <td>0.232107</td>\n",
       "      <td>0.050973</td>\n",
       "      <td>0.04</td>\n",
       "    </tr>\n",
       "    <tr>\n",
       "      <th>GS</th>\n",
       "      <td>0.175279</td>\n",
       "      <td>0.034269</td>\n",
       "      <td>0.03</td>\n",
       "    </tr>\n",
       "    <tr>\n",
       "      <th>JPM</th>\n",
       "      <td>0.156508</td>\n",
       "      <td>0.047861</td>\n",
       "      <td>0.05</td>\n",
       "    </tr>\n",
       "    <tr>\n",
       "      <th>META</th>\n",
       "      <td>0.269401</td>\n",
       "      <td>0.073306</td>\n",
       "      <td>0.07</td>\n",
       "    </tr>\n",
       "    <tr>\n",
       "      <th>MS</th>\n",
       "      <td>0.191101</td>\n",
       "      <td>0.041407</td>\n",
       "      <td>0.04</td>\n",
       "    </tr>\n",
       "    <tr>\n",
       "      <th>MSFT</th>\n",
       "      <td>0.235194</td>\n",
       "      <td>0.060222</td>\n",
       "      <td>0.05</td>\n",
       "    </tr>\n",
       "    <tr>\n",
       "      <th>NFLX</th>\n",
       "      <td>0.248715</td>\n",
       "      <td>-0.020987</td>\n",
       "      <td>-0.03</td>\n",
       "    </tr>\n",
       "    <tr>\n",
       "      <th>PFE</th>\n",
       "      <td>0.094726</td>\n",
       "      <td>-0.000629</td>\n",
       "      <td>-0.01</td>\n",
       "    </tr>\n",
       "    <tr>\n",
       "      <th>TSLA</th>\n",
       "      <td>0.326731</td>\n",
       "      <td>0.015475</td>\n",
       "      <td>0.01</td>\n",
       "    </tr>\n",
       "    <tr>\n",
       "      <th>UNH</th>\n",
       "      <td>0.132513</td>\n",
       "      <td>0.013363</td>\n",
       "      <td>0.00</td>\n",
       "    </tr>\n",
       "    <tr>\n",
       "      <th>XOM</th>\n",
       "      <td>0.117449</td>\n",
       "      <td>0.020531</td>\n",
       "      <td>0.02</td>\n",
       "    </tr>\n",
       "  </tbody>\n",
       "</table>\n",
       "</div>"
      ],
      "text/plain": [
       "         Prior  Posterior  Views\n",
       "AAPL  0.237604   0.054283   0.05\n",
       "AMZN  0.254665   0.089008   0.10\n",
       "C     0.186131   0.033966   0.03\n",
       "GOOG  0.232107   0.050973   0.04\n",
       "GS    0.175279   0.034269   0.03\n",
       "JPM   0.156508   0.047861   0.05\n",
       "META  0.269401   0.073306   0.07\n",
       "MS    0.191101   0.041407   0.04\n",
       "MSFT  0.235194   0.060222   0.05\n",
       "NFLX  0.248715  -0.020987  -0.03\n",
       "PFE   0.094726  -0.000629  -0.01\n",
       "TSLA  0.326731   0.015475   0.01\n",
       "UNH   0.132513   0.013363   0.00\n",
       "XOM   0.117449   0.020531   0.02"
      ]
     },
     "execution_count": 30,
     "metadata": {},
     "output_type": "execute_result"
    }
   ],
   "source": [
    "import pandas as pd\n",
    "\n",
    "mu_df = pd.DataFrame([market_prior, mu_bl, pd.Series(viewdict)], index=[\"Prior\", \"Posterior\", \"Views\"]).T\n",
    "mu_df"
   ]
  },
  {
   "cell_type": "code",
   "execution_count": 31,
   "metadata": {},
   "outputs": [
    {
     "data": {
      "text/plain": [
       "<Axes: >"
      ]
     },
     "execution_count": 31,
     "metadata": {},
     "output_type": "execute_result"
    },
    {
     "data": {
      "image/png": "[encoded data removed]",
      "text/plain": [
       "<Figure size 1200x800 with 1 Axes>"
      ]
     },
     "metadata": {},
     "output_type": "display_data"
    }
   ],
   "source": [
    "mu_df.plot.bar(figsize=(12,8))"
   ]
  },
  {
   "cell_type": "markdown",
   "metadata": {},
   "source": [
    "We can observe that the posterior typically falls between the prior and the views. This reinforces the idea that the Black-Litterman (BL) method operates as a Bayesian weighted average of the prior and the views, with the weights influenced by the level of confidence."
   ]
  },
  {
   "cell_type": "markdown",
   "metadata": {},
   "source": [
    "#### Posterior Covariance Estimate"
   ]
  },
  {
   "cell_type": "code",
   "execution_count": 32,
   "metadata": {},
   "outputs": [
    {
     "data": {
      "text/plain": [
       "<Axes: >"
      ]
     },
     "execution_count": 32,
     "metadata": {},
     "output_type": "execute_result"
    },
    {
     "data": {
      "image/png": "[encoded data removed]",
      "text/plain": [
       "<Figure size 640x480 with 2 Axes>"
      ]
     },
     "metadata": {},
     "output_type": "display_data"
    }
   ],
   "source": [
    "S_bl = bl.bl_cov()\n",
    "po_plotting.plot_covariance(S_bl)"
   ]
  },
  {
   "cell_type": "markdown",
   "metadata": {},
   "source": [
    "## 2) Portfolio Mean-CVaR Optimization"
   ]
  },
  {
   "cell_type": "markdown",
   "metadata": {},
   "source": [
    "Once the Black-Litterman input estimates have been calculated, we are in a position to compute the actual portfolio optimization."
   ]
  },
  {
   "cell_type": "code",
   "execution_count": 33,
   "metadata": {},
   "outputs": [],
   "source": [
    "from pyfinpo.portfolio_optimization import po_models, po_objective_functions, po_optimizers"
   ]
  },
  {
   "cell_type": "markdown",
   "metadata": {},
   "source": [
    "### 2.1) Portfolio Optimization Model"
   ]
  },
  {
   "cell_type": "markdown",
   "metadata": {},
   "source": [
    "The selected portfolio optimization model to combine with Black-Litterman has been Mean-CVaR optimization. The reason is that according to research, choosing Conditional Value at Risk (CVaR) portfolio optimization over mean-variance portfolio optimization offers several advantages, particularly in the context of risk management and the nature of financial returns:\n",
    "- **Capturing on Asymmetry of Returns**\n",
    "    - Financial returns often exhibit asymmetry, where losses are typically more severe than gains. CVaR accounts for this asymmetry by focusing on the average of the worst-case scenarios, thus providing a clearer picture of potential losses compared to mean-variance optimization, which assumes a normal distribution of returns. This characteristic allows for better risk assessment in portfolios that may not conform to traditional assumptions.\n",
    "\n",
    "- **Capturing Tail Risk**\n",
    "    - CVaR specifically addresses tail risk, i.e. the risk of extreme losses that occur in the lower tail of the return distribution. Unlike mean-variance optimization, which primarily considers variance as a measure of risk, CVaR provides a more comprehensive view by estimating the expected loss given that a loss has exceeded a certain threshold (Value at Risk, or VaR). This makes CVaR particularly valuable for investors concerned about significant downturns.\n",
    "\n",
    "- **Robustness to Non-normal Distributions**\n",
    "    - While mean-variance optimization relies on the assumption of normally distributed returns, CVaR does not have this limitation. It can be applied to a variety of return distributions, including those that are skewed or have fat tails, making it more robust in real-world applications where asset returns often deviate from normality.\n",
    "\n",
    "- **Linear Programming Compatibility**\n",
    "    - CVaR can be formulated using linear programming techniques, which simplifies the optimization process and allows for handling larger portfolios and more complex constraints efficiently. This is beneficial for practitioners who need to optimize portfolios with multiple assets and varying risk profiles.\n",
    "\n",
    "- **Enhanced Risk Measure**\n",
    "    - CVaR is considered a coherent risk measure because it satisfies properties such as subadditivity and positive homogeneity. This means that diversifying a portfolio should not increase its risk, aligning with intuitive principles of risk management. In contrast, mean-variance optimization may lead to counterintuitive results in certain scenarios."
   ]
  },
  {
   "cell_type": "code",
   "execution_count": 34,
   "metadata": {},
   "outputs": [],
   "source": [
    "bl_mcvar_po = po_models.MeanCVaRPO(mu_bl, S_bl)"
   ]
  },
  {
   "cell_type": "markdown",
   "metadata": {},
   "source": [
    "### 2.2) Portfolio Optimization Objectives & Constraints"
   ]
  },
  {
   "cell_type": "markdown",
   "metadata": {},
   "source": [
    "To make the problem more realistic, we have also incorporated portfolio regularization as objective (forcing some degree of diversification by avoiding many zero weights), and we have added esg scores constraints to make sure our portfolio meets specific ESG requirements."
   ]
  },
  {
   "cell_type": "code",
   "execution_count": 35,
   "metadata": {},
   "outputs": [],
   "source": [
    "bl_mcvar_po.add_objective(po_objective_functions.L2_reg)"
   ]
  },
  {
   "cell_type": "code",
   "execution_count": 36,
   "metadata": {},
   "outputs": [],
   "source": [
    "esg_scores = [0.3, 0.1, 0.5, 0.1, 0.4, 0.1, 0.9, 0.20, 0.1, 0.4, 0.1, 0.5, 0.9, 0.2]\n",
    "portfolio_min_score = 0.5\n",
    "\n",
    "bl_mcvar_po.add_constraint(lambda w: esg_scores @ w >= portfolio_min_score)"
   ]
  },
  {
   "cell_type": "markdown",
   "metadata": {},
   "source": [
    "### 2.3) Portfolio Optimization Objective Function & Solver"
   ]
  },
  {
   "cell_type": "markdown",
   "metadata": {},
   "source": [
    "Once the optimization problem is defined, we just need to call the method solver ``.max_sharpe()`` to calculate the optimal portfolio weights that maximize the sharpe ratio (ratio return to risk), in the context of Mean-CVaR optimization:"
   ]
  },
  {
   "cell_type": "code",
   "execution_count": 39,
   "metadata": {},
   "outputs": [
    {
     "data": {
      "text/plain": [
       "OrderedDict([('AAPL', np.float64(0.0630694465968775)),\n",
       "             ('AMZN', np.float64(0.0294712529862122)),\n",
       "             ('C', np.float64(0.0976299567410198)),\n",
       "             ('GOOG', np.float64(0.0309287116856891)),\n",
       "             ('GS', np.float64(0.0800538870545933)),\n",
       "             ('JPM', np.float64(0.0331618670751414)),\n",
       "             ('META', np.float64(0.1577149223985937)),\n",
       "             ('MS', np.float64(0.0502202826567939)),\n",
       "             ('MSFT', np.float64(0.0323031248146157)),\n",
       "             ('NFLX', np.float64(0.0768872464021416)),\n",
       "             ('PFE', np.float64(0.0492039035368131)),\n",
       "             ('TSLA', np.float64(0.0921790139503894)),\n",
       "             ('UNH', np.float64(0.1606693968176769)),\n",
       "             ('XOM', np.float64(0.046506987283442))])"
      ]
     },
     "execution_count": 39,
     "metadata": {},
     "output_type": "execute_result"
    }
   ],
   "source": [
    "bl_mcvar_po.min_cvar()"
   ]
  },
  {
   "cell_type": "markdown",
   "metadata": {},
   "source": [
    "## 3) Portfolio Performance"
   ]
  },
  {
   "cell_type": "code",
   "execution_count": 45,
   "metadata": {},
   "outputs": [
    {
     "name": "stdout",
     "output_type": "stream",
     "text": [
      "Expected annual return: 3.4%\n",
      "Conditional Value at Risk: -2.19%\n"
     ]
    },
    {
     "data": {
      "text/plain": [
       "(np.float64(0.03373988855744729), np.float64(-0.021900845785880457))"
      ]
     },
     "execution_count": 45,
     "metadata": {},
     "output_type": "execute_result"
    }
   ],
   "source": [
    "bl_mcvar_po.portfolio_performance(verbose=True)"
   ]
  },
  {
   "cell_type": "markdown",
   "metadata": {},
   "source": [
    "## 4) Portfolio Post-Processing"
   ]
  },
  {
   "cell_type": "markdown",
   "metadata": {},
   "source": [
    "### 4.1) Portfolio (Tidy) Weights"
   ]
  },
  {
   "cell_type": "code",
   "execution_count": 42,
   "metadata": {},
   "outputs": [
    {
     "data": {
      "text/plain": [
       "OrderedDict([('AAPL', np.float64(0.06307)),\n",
       "             ('AMZN', np.float64(0.02947)),\n",
       "             ('C', np.float64(0.09763)),\n",
       "             ('GOOG', np.float64(0.03093)),\n",
       "             ('GS', np.float64(0.08005)),\n",
       "             ('JPM', np.float64(0.03316)),\n",
       "             ('META', np.float64(0.15771)),\n",
       "             ('MS', np.float64(0.05022)),\n",
       "             ('MSFT', np.float64(0.0323)),\n",
       "             ('NFLX', np.float64(0.07689)),\n",
       "             ('PFE', np.float64(0.0492)),\n",
       "             ('TSLA', np.float64(0.09218)),\n",
       "             ('UNH', np.float64(0.16067)),\n",
       "             ('XOM', np.float64(0.04651))])"
      ]
     },
     "execution_count": 42,
     "metadata": {},
     "output_type": "execute_result"
    }
   ],
   "source": [
    "weights = bl_mcvar_po.clean_weights()\n",
    "weights"
   ]
  },
  {
   "cell_type": "code",
   "execution_count": 43,
   "metadata": {},
   "outputs": [
    {
     "data": {
      "text/plain": [
       "<Axes: >"
      ]
     },
     "execution_count": 43,
     "metadata": {},
     "output_type": "execute_result"
    },
    {
     "data": {
      "image/png": "[encoded data removed]",
      "text/plain": [
       "<Figure size 1000x1000 with 1 Axes>"
      ]
     },
     "metadata": {},
     "output_type": "display_data"
    }
   ],
   "source": [
    "import pandas as pd\n",
    "\n",
    "pd.Series(weights).plot.pie(figsize=(10,10))"
   ]
  },
  {
   "cell_type": "markdown",
   "metadata": {},
   "source": [
    "### 4.2) Portfolio Discrete Allocation"
   ]
  },
  {
   "cell_type": "code",
   "execution_count": 44,
   "metadata": {},
   "outputs": [
    {
     "name": "stdout",
     "output_type": "stream",
     "text": [
      "Leftover: $23.57\n"
     ]
    },
    {
     "name": "stderr",
     "output_type": "stream",
     "text": [
      "/Users/alvarosanchez/Documents/Projects/personal-projects/pyfinpo/.venv/lib/python3.12/site-packages/cvxpy/problems/problem.py:1407: UserWarning: Solution may be inaccurate. Try another solver, adjusting the solver settings, or solve with verbose=True for more information.\n",
      "  warnings.warn(\n"
     ]
    },
    {
     "data": {
      "text/plain": [
       "{'AAPL': np.int64(5),\n",
       " 'AMZN': np.int64(3),\n",
       " 'C': np.int64(28),\n",
       " 'GOOG': np.int64(4),\n",
       " 'GS': np.int64(3),\n",
       " 'JPM': np.int64(3),\n",
       " 'META': np.int64(5),\n",
       " 'MS': np.int64(7),\n",
       " 'MSFT': np.int64(2),\n",
       " 'NFLX': np.int64(2),\n",
       " 'PFE': np.int64(39),\n",
       " 'TSLA': np.int64(5),\n",
       " 'UNH': np.int64(5),\n",
       " 'XOM': np.int64(8)}"
      ]
     },
     "execution_count": 44,
     "metadata": {},
     "output_type": "execute_result"
    }
   ],
   "source": [
    "from pyfinpo.utils import DiscreteAllocation\n",
    "\n",
    "da = DiscreteAllocation(weights, prices.iloc[-1], total_portfolio_value=20000)\n",
    "alloc, leftover = da.lp_portfolio()\n",
    "print(f\"Leftover: ${leftover:.2f}\")\n",
    "alloc"
   ]
  }
 ],
 "metadata": {
  "kernelspec": {
   "display_name": ".venv",
   "language": "python",
   "name": "python3"
  },
  "language_info": {
   "codemirror_mode": {
    "name": "ipython",
    "version": 3
   },
   "file_extension": ".py",
   "mimetype": "text/x-python",
   "name": "python",
   "nbconvert_exporter": "python",
   "pygments_lexer": "ipython3",
   "version": "3.12.7"
  }
 },
 "nbformat": 4,
 "nbformat_minor": 2
}
