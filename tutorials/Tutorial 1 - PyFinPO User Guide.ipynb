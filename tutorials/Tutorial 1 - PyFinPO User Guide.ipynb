{
 "cells": [
  {
   "cell_type": "markdown",
   "metadata": {},
   "source": [
    "# PyFinPO - User Guide"
   ]
  },
  {
   "cell_type": "markdown",
   "metadata": {},
   "source": [
    "The present notebook provides a practical guide of some of the basic functionalities of PyPO, and how to use the library to perform portfolio optimization on a given set of provided inputs."
   ]
  },
  {
   "cell_type": "markdown",
   "metadata": {},
   "source": [
    "# Overview of Portfolio Optimization in PyFinPO"
   ]
  },
  {
   "cell_type": "markdown",
   "metadata": {},
   "source": [
    "Portfolio Optimization is a complex problem, which we will try to address following the methodology depicted in the below Figure.\n",
    "\n"
   ]
  },
  {
   "cell_type": "markdown",
   "metadata": {},
   "source": [
    "The steps that we're going to cover are the following:  \n",
    "<br>\n",
    "\n",
    "0) [Source Data](#0-source-data)  \n",
    "<br>\n",
    "1) [Input Estimates](#1-input-estimates)\n",
    "\n",
    "    - 1.1) [Expected Return Models](#11-expected-return-models)\n",
    "\n",
    "    - 1.2) [Risk Models](#12-risk-models)\n",
    "    \n",
    "    - 1.3) [Robust Models](#13-robust-models)  \n",
    "<br>\n",
    "2) [Portfolio Optimization](#2-portfolio-optimization)\n",
    "\n",
    "    - 2.1) [Portfolio Optimization Model](#21-portfolio-optimization-model)\n",
    "\n",
    "    - 2.2) [Portfolio Optimization Objective Function](#22-portfolio-objective-function)\n",
    "\n",
    "    - 2.3) [Portfolio (Custom) Optimization Objectives](#23-portfolio-custom-optimization-objectives)\n",
    "\n",
    "    - 2.4) [Portfolio Constraints](#24-portfolio-optimization-constraints)\n",
    "\n",
    "    - 2.5) [Portfolio Optimization Period](#25-portfolio-optimization-period)\n",
    "\n",
    "    - 2.6) [Portfolio Optimization Solver](#26-portfolio-optimization-solver-optimizer)  \n",
    "<br>\n",
    "3) [Portfolio Performance](#3-portfolio-performance) \n",
    "\n",
    "    - 3.1) [Portfolio Tidy Weights](#31-see-portfolio-tidy-weights)\n",
    "\n",
    "    - 3.2) [Portfolio Performance](#32-portfolio-optimization-performance)\n",
    "\n",
    "    - 3.3) [Portfolio Discrete Allocation](#33-portfolio-discrete-allocation)\n"
   ]
  },
  {
   "cell_type": "markdown",
   "metadata": {},
   "source": [
    "## 0) Source Data"
   ]
  },
  {
   "cell_type": "markdown",
   "metadata": {},
   "source": [
    "### Basic Imports"
   ]
  },
  {
   "cell_type": "markdown",
   "metadata": {},
   "source": [
    "Although in each of the blocks the necessary imports will be declared again, this is an overview of all the imports that we will use throughout this guide:"
   ]
  },
  {
   "cell_type": "code",
   "execution_count": 6,
   "metadata": {},
   "outputs": [],
   "source": [
    "import sys\n",
    "\n",
    "import numpy as np\n",
    "import pandas as pd\n",
    "import matplotlib.pyplot as plt\n",
    "import yfinance as yf\n",
    "\n",
    "sys.path.append('/Users/alvarosanchez/Documents/Projects/personal-projects/pypot')\n",
    "from pypo.input_estimates import expected_return_models\n",
    "from pypo.input_estimates import risk_models\n",
    "from pypo.input_estimates.robust_models import black_litterman_rm, BlackLittermanModel\n",
    "from pypo.portfolio_optimization import po_models\n",
    "from pypo.portfolio_performance import portfolio_performance\n",
    "from pypo.utils import DiscreteAllocation, get_latest_prices\n",
    "from pypo.visualization import po_plotting"
   ]
  },
  {
   "cell_type": "markdown",
   "metadata": {},
   "source": [
    "### Getting Data"
   ]
  },
  {
   "cell_type": "code",
   "execution_count": 7,
   "metadata": {},
   "outputs": [
    {
     "name": "stderr",
     "output_type": "stream",
     "text": [
      "[*********************100%***********************]  14 of 14 completed\n"
     ]
    }
   ],
   "source": [
    "import yfinance as yf\n",
    "\n",
    "tickers = [\"AAPL\", \"META\", \"AMZN\", \"NFLX\", \"GOOG\", \"GS\", \"JPM\", \"MS\", \"C\", \"MSFT\", \"PFE\", \"TSLA\", \"UNH\", \"XOM\"]\n",
    "ohlc = yf.download(tickers, start=\"2000-01-01\")\n",
    "prices = ohlc[\"Adj Close\"].dropna(how=\"all\")"
   ]
  },
  {
   "cell_type": "code",
   "execution_count": 3,
   "metadata": {},
   "outputs": [
    {
     "data": {
      "text/html": [
       "<div>\n",
       "<style scoped>\n",
       "    .dataframe tbody tr th:only-of-type {\n",
       "        vertical-align: middle;\n",
       "    }\n",
       "\n",
       "    .dataframe tbody tr th {\n",
       "        vertical-align: top;\n",
       "    }\n",
       "\n",
       "    .dataframe thead th {\n",
       "        text-align: right;\n",
       "    }\n",
       "</style>\n",
       "<table border=\"1\" class=\"dataframe\">\n",
       "  <thead>\n",
       "    <tr style=\"text-align: right;\">\n",
       "      <th>Ticker</th>\n",
       "      <th>AAPL</th>\n",
       "      <th>AMZN</th>\n",
       "      <th>C</th>\n",
       "      <th>GOOG</th>\n",
       "      <th>GS</th>\n",
       "      <th>JPM</th>\n",
       "      <th>META</th>\n",
       "      <th>MS</th>\n",
       "      <th>MSFT</th>\n",
       "      <th>NFLX</th>\n",
       "      <th>PFE</th>\n",
       "      <th>TSLA</th>\n",
       "      <th>UNH</th>\n",
       "      <th>XOM</th>\n",
       "    </tr>\n",
       "    <tr>\n",
       "      <th>Date</th>\n",
       "      <th></th>\n",
       "      <th></th>\n",
       "      <th></th>\n",
       "      <th></th>\n",
       "      <th></th>\n",
       "      <th></th>\n",
       "      <th></th>\n",
       "      <th></th>\n",
       "      <th></th>\n",
       "      <th></th>\n",
       "      <th></th>\n",
       "      <th></th>\n",
       "      <th></th>\n",
       "      <th></th>\n",
       "    </tr>\n",
       "  </thead>\n",
       "  <tbody>\n",
       "    <tr>\n",
       "      <th>2000-01-03 00:00:00+00:00</th>\n",
       "      <td>0.843076</td>\n",
       "      <td>4.468750</td>\n",
       "      <td>213.532455</td>\n",
       "      <td>NaN</td>\n",
       "      <td>62.921883</td>\n",
       "      <td>23.501028</td>\n",
       "      <td>NaN</td>\n",
       "      <td>33.783863</td>\n",
       "      <td>35.935841</td>\n",
       "      <td>NaN</td>\n",
       "      <td>12.493900</td>\n",
       "      <td>NaN</td>\n",
       "      <td>5.358777</td>\n",
       "      <td>17.888824</td>\n",
       "    </tr>\n",
       "    <tr>\n",
       "      <th>2000-01-04 00:00:00+00:00</th>\n",
       "      <td>0.771997</td>\n",
       "      <td>4.096875</td>\n",
       "      <td>200.438416</td>\n",
       "      <td>NaN</td>\n",
       "      <td>58.958641</td>\n",
       "      <td>22.985376</td>\n",
       "      <td>NaN</td>\n",
       "      <td>31.281359</td>\n",
       "      <td>34.721939</td>\n",
       "      <td>NaN</td>\n",
       "      <td>12.028438</td>\n",
       "      <td>NaN</td>\n",
       "      <td>5.290235</td>\n",
       "      <td>17.546175</td>\n",
       "    </tr>\n",
       "    <tr>\n",
       "      <th>2000-01-05 00:00:00+00:00</th>\n",
       "      <td>0.783293</td>\n",
       "      <td>3.487500</td>\n",
       "      <td>208.496323</td>\n",
       "      <td>NaN</td>\n",
       "      <td>56.197750</td>\n",
       "      <td>22.843479</td>\n",
       "      <td>NaN</td>\n",
       "      <td>30.139587</td>\n",
       "      <td>35.088043</td>\n",
       "      <td>NaN</td>\n",
       "      <td>12.224419</td>\n",
       "      <td>NaN</td>\n",
       "      <td>5.277773</td>\n",
       "      <td>18.502726</td>\n",
       "    </tr>\n",
       "    <tr>\n",
       "      <th>2000-01-06 00:00:00+00:00</th>\n",
       "      <td>0.715508</td>\n",
       "      <td>3.278125</td>\n",
       "      <td>218.568481</td>\n",
       "      <td>NaN</td>\n",
       "      <td>58.602390</td>\n",
       "      <td>23.167799</td>\n",
       "      <td>NaN</td>\n",
       "      <td>30.718281</td>\n",
       "      <td>33.912666</td>\n",
       "      <td>NaN</td>\n",
       "      <td>12.665384</td>\n",
       "      <td>NaN</td>\n",
       "      <td>5.470937</td>\n",
       "      <td>19.459270</td>\n",
       "    </tr>\n",
       "    <tr>\n",
       "      <th>2000-01-07 00:00:00+00:00</th>\n",
       "      <td>0.749402</td>\n",
       "      <td>3.478125</td>\n",
       "      <td>217.561279</td>\n",
       "      <td>NaN</td>\n",
       "      <td>58.825062</td>\n",
       "      <td>23.593451</td>\n",
       "      <td>NaN</td>\n",
       "      <td>31.672363</td>\n",
       "      <td>34.355835</td>\n",
       "      <td>NaN</td>\n",
       "      <td>13.522807</td>\n",
       "      <td>NaN</td>\n",
       "      <td>6.112745</td>\n",
       "      <td>19.402164</td>\n",
       "    </tr>\n",
       "    <tr>\n",
       "      <th>...</th>\n",
       "      <td>...</td>\n",
       "      <td>...</td>\n",
       "      <td>...</td>\n",
       "      <td>...</td>\n",
       "      <td>...</td>\n",
       "      <td>...</td>\n",
       "      <td>...</td>\n",
       "      <td>...</td>\n",
       "      <td>...</td>\n",
       "      <td>...</td>\n",
       "      <td>...</td>\n",
       "      <td>...</td>\n",
       "      <td>...</td>\n",
       "      <td>...</td>\n",
       "    </tr>\n",
       "    <tr>\n",
       "      <th>2024-11-11 00:00:00+00:00</th>\n",
       "      <td>224.229996</td>\n",
       "      <td>206.839996</td>\n",
       "      <td>69.800003</td>\n",
       "      <td>181.970001</td>\n",
       "      <td>602.340027</td>\n",
       "      <td>239.289993</td>\n",
       "      <td>583.169983</td>\n",
       "      <td>133.520004</td>\n",
       "      <td>418.010010</td>\n",
       "      <td>805.440002</td>\n",
       "      <td>26.240000</td>\n",
       "      <td>350.000000</td>\n",
       "      <td>625.250000</td>\n",
       "      <td>119.488152</td>\n",
       "    </tr>\n",
       "    <tr>\n",
       "      <th>2024-11-12 00:00:00+00:00</th>\n",
       "      <td>224.229996</td>\n",
       "      <td>208.910004</td>\n",
       "      <td>69.019997</td>\n",
       "      <td>183.320007</td>\n",
       "      <td>592.590027</td>\n",
       "      <td>239.559998</td>\n",
       "      <td>584.820007</td>\n",
       "      <td>132.309998</td>\n",
       "      <td>423.029999</td>\n",
       "      <td>819.500000</td>\n",
       "      <td>26.190001</td>\n",
       "      <td>328.489990</td>\n",
       "      <td>614.669983</td>\n",
       "      <td>119.369125</td>\n",
       "    </tr>\n",
       "    <tr>\n",
       "      <th>2024-11-13 00:00:00+00:00</th>\n",
       "      <td>225.119995</td>\n",
       "      <td>214.100006</td>\n",
       "      <td>68.889999</td>\n",
       "      <td>180.490005</td>\n",
       "      <td>594.219971</td>\n",
       "      <td>241.160004</td>\n",
       "      <td>580.000000</td>\n",
       "      <td>132.759995</td>\n",
       "      <td>425.200012</td>\n",
       "      <td>830.469971</td>\n",
       "      <td>26.719999</td>\n",
       "      <td>330.239990</td>\n",
       "      <td>605.869995</td>\n",
       "      <td>120.480003</td>\n",
       "    </tr>\n",
       "    <tr>\n",
       "      <th>2024-11-14 00:00:00+00:00</th>\n",
       "      <td>228.220001</td>\n",
       "      <td>211.479996</td>\n",
       "      <td>68.150002</td>\n",
       "      <td>177.350006</td>\n",
       "      <td>588.609985</td>\n",
       "      <td>241.869995</td>\n",
       "      <td>577.159973</td>\n",
       "      <td>132.429993</td>\n",
       "      <td>426.890015</td>\n",
       "      <td>837.260010</td>\n",
       "      <td>26.020000</td>\n",
       "      <td>311.179993</td>\n",
       "      <td>593.150024</td>\n",
       "      <td>120.559998</td>\n",
       "    </tr>\n",
       "    <tr>\n",
       "      <th>2024-11-15 00:00:00+00:00</th>\n",
       "      <td>225.000000</td>\n",
       "      <td>202.610001</td>\n",
       "      <td>68.760002</td>\n",
       "      <td>173.889999</td>\n",
       "      <td>593.539978</td>\n",
       "      <td>245.309998</td>\n",
       "      <td>554.080017</td>\n",
       "      <td>134.059998</td>\n",
       "      <td>415.000000</td>\n",
       "      <td>823.960022</td>\n",
       "      <td>24.799999</td>\n",
       "      <td>320.720001</td>\n",
       "      <td>592.229980</td>\n",
       "      <td>119.309998</td>\n",
       "    </tr>\n",
       "  </tbody>\n",
       "</table>\n",
       "<p>6259 rows × 14 columns</p>\n",
       "</div>"
      ],
      "text/plain": [
       "Ticker                           AAPL        AMZN           C        GOOG  \\\n",
       "Date                                                                        \n",
       "2000-01-03 00:00:00+00:00    0.843076    4.468750  213.532455         NaN   \n",
       "2000-01-04 00:00:00+00:00    0.771997    4.096875  200.438416         NaN   \n",
       "2000-01-05 00:00:00+00:00    0.783293    3.487500  208.496323         NaN   \n",
       "2000-01-06 00:00:00+00:00    0.715508    3.278125  218.568481         NaN   \n",
       "2000-01-07 00:00:00+00:00    0.749402    3.478125  217.561279         NaN   \n",
       "...                               ...         ...         ...         ...   \n",
       "2024-11-11 00:00:00+00:00  224.229996  206.839996   69.800003  181.970001   \n",
       "2024-11-12 00:00:00+00:00  224.229996  208.910004   69.019997  183.320007   \n",
       "2024-11-13 00:00:00+00:00  225.119995  214.100006   68.889999  180.490005   \n",
       "2024-11-14 00:00:00+00:00  228.220001  211.479996   68.150002  177.350006   \n",
       "2024-11-15 00:00:00+00:00  225.000000  202.610001   68.760002  173.889999   \n",
       "\n",
       "Ticker                             GS         JPM        META          MS  \\\n",
       "Date                                                                        \n",
       "2000-01-03 00:00:00+00:00   62.921883   23.501028         NaN   33.783863   \n",
       "2000-01-04 00:00:00+00:00   58.958641   22.985376         NaN   31.281359   \n",
       "2000-01-05 00:00:00+00:00   56.197750   22.843479         NaN   30.139587   \n",
       "2000-01-06 00:00:00+00:00   58.602390   23.167799         NaN   30.718281   \n",
       "2000-01-07 00:00:00+00:00   58.825062   23.593451         NaN   31.672363   \n",
       "...                               ...         ...         ...         ...   \n",
       "2024-11-11 00:00:00+00:00  602.340027  239.289993  583.169983  133.520004   \n",
       "2024-11-12 00:00:00+00:00  592.590027  239.559998  584.820007  132.309998   \n",
       "2024-11-13 00:00:00+00:00  594.219971  241.160004  580.000000  132.759995   \n",
       "2024-11-14 00:00:00+00:00  588.609985  241.869995  577.159973  132.429993   \n",
       "2024-11-15 00:00:00+00:00  593.539978  245.309998  554.080017  134.059998   \n",
       "\n",
       "Ticker                           MSFT        NFLX        PFE        TSLA  \\\n",
       "Date                                                                       \n",
       "2000-01-03 00:00:00+00:00   35.935841         NaN  12.493900         NaN   \n",
       "2000-01-04 00:00:00+00:00   34.721939         NaN  12.028438         NaN   \n",
       "2000-01-05 00:00:00+00:00   35.088043         NaN  12.224419         NaN   \n",
       "2000-01-06 00:00:00+00:00   33.912666         NaN  12.665384         NaN   \n",
       "2000-01-07 00:00:00+00:00   34.355835         NaN  13.522807         NaN   \n",
       "...                               ...         ...        ...         ...   \n",
       "2024-11-11 00:00:00+00:00  418.010010  805.440002  26.240000  350.000000   \n",
       "2024-11-12 00:00:00+00:00  423.029999  819.500000  26.190001  328.489990   \n",
       "2024-11-13 00:00:00+00:00  425.200012  830.469971  26.719999  330.239990   \n",
       "2024-11-14 00:00:00+00:00  426.890015  837.260010  26.020000  311.179993   \n",
       "2024-11-15 00:00:00+00:00  415.000000  823.960022  24.799999  320.720001   \n",
       "\n",
       "Ticker                            UNH         XOM  \n",
       "Date                                               \n",
       "2000-01-03 00:00:00+00:00    5.358777   17.888824  \n",
       "2000-01-04 00:00:00+00:00    5.290235   17.546175  \n",
       "2000-01-05 00:00:00+00:00    5.277773   18.502726  \n",
       "2000-01-06 00:00:00+00:00    5.470937   19.459270  \n",
       "2000-01-07 00:00:00+00:00    6.112745   19.402164  \n",
       "...                               ...         ...  \n",
       "2024-11-11 00:00:00+00:00  625.250000  119.488152  \n",
       "2024-11-12 00:00:00+00:00  614.669983  119.369125  \n",
       "2024-11-13 00:00:00+00:00  605.869995  120.480003  \n",
       "2024-11-14 00:00:00+00:00  593.150024  120.559998  \n",
       "2024-11-15 00:00:00+00:00  592.229980  119.309998  \n",
       "\n",
       "[6259 rows x 14 columns]"
      ]
     },
     "execution_count": 3,
     "metadata": {},
     "output_type": "execute_result"
    }
   ],
   "source": [
    "prices"
   ]
  },
  {
   "cell_type": "markdown",
   "metadata": {},
   "source": [
    "### Splitting Data in 2 datasets (past and future)"
   ]
  },
  {
   "cell_type": "code",
   "execution_count": 8,
   "metadata": {},
   "outputs": [
    {
     "data": {
      "text/html": [
       "<div>\n",
       "<style scoped>\n",
       "    .dataframe tbody tr th:only-of-type {\n",
       "        vertical-align: middle;\n",
       "    }\n",
       "\n",
       "    .dataframe tbody tr th {\n",
       "        vertical-align: top;\n",
       "    }\n",
       "\n",
       "    .dataframe thead th {\n",
       "        text-align: right;\n",
       "    }\n",
       "</style>\n",
       "<table border=\"1\" class=\"dataframe\">\n",
       "  <thead>\n",
       "    <tr style=\"text-align: right;\">\n",
       "      <th>Ticker</th>\n",
       "      <th>AAPL</th>\n",
       "      <th>AMZN</th>\n",
       "      <th>C</th>\n",
       "      <th>GOOG</th>\n",
       "      <th>GS</th>\n",
       "      <th>JPM</th>\n",
       "      <th>META</th>\n",
       "      <th>MS</th>\n",
       "      <th>MSFT</th>\n",
       "      <th>NFLX</th>\n",
       "      <th>PFE</th>\n",
       "      <th>TSLA</th>\n",
       "      <th>UNH</th>\n",
       "      <th>XOM</th>\n",
       "    </tr>\n",
       "    <tr>\n",
       "      <th>Date</th>\n",
       "      <th></th>\n",
       "      <th></th>\n",
       "      <th></th>\n",
       "      <th></th>\n",
       "      <th></th>\n",
       "      <th></th>\n",
       "      <th></th>\n",
       "      <th></th>\n",
       "      <th></th>\n",
       "      <th></th>\n",
       "      <th></th>\n",
       "      <th></th>\n",
       "      <th></th>\n",
       "      <th></th>\n",
       "    </tr>\n",
       "  </thead>\n",
       "  <tbody>\n",
       "    <tr>\n",
       "      <th>2020-01-02 00:00:00+00:00</th>\n",
       "      <td>72.796021</td>\n",
       "      <td>94.900497</td>\n",
       "      <td>67.122940</td>\n",
       "      <td>68.201012</td>\n",
       "      <td>208.356293</td>\n",
       "      <td>122.104591</td>\n",
       "      <td>209.150269</td>\n",
       "      <td>44.275696</td>\n",
       "      <td>153.938217</td>\n",
       "      <td>329.809998</td>\n",
       "      <td>29.978146</td>\n",
       "      <td>28.684000</td>\n",
       "      <td>272.817535</td>\n",
       "      <td>55.631195</td>\n",
       "    </tr>\n",
       "    <tr>\n",
       "      <th>2020-01-03 00:00:00+00:00</th>\n",
       "      <td>72.088280</td>\n",
       "      <td>93.748497</td>\n",
       "      <td>65.858643</td>\n",
       "      <td>67.866325</td>\n",
       "      <td>205.919907</td>\n",
       "      <td>120.493256</td>\n",
       "      <td>208.043610</td>\n",
       "      <td>43.561024</td>\n",
       "      <td>152.021393</td>\n",
       "      <td>325.899994</td>\n",
       "      <td>29.817297</td>\n",
       "      <td>29.534000</td>\n",
       "      <td>270.056641</td>\n",
       "      <td>55.183933</td>\n",
       "    </tr>\n",
       "    <tr>\n",
       "      <th>2020-01-06 00:00:00+00:00</th>\n",
       "      <td>72.662712</td>\n",
       "      <td>95.143997</td>\n",
       "      <td>65.652061</td>\n",
       "      <td>69.539726</td>\n",
       "      <td>208.027313</td>\n",
       "      <td>120.397438</td>\n",
       "      <td>211.961823</td>\n",
       "      <td>43.407867</td>\n",
       "      <td>152.414368</td>\n",
       "      <td>335.829987</td>\n",
       "      <td>29.779013</td>\n",
       "      <td>30.102667</td>\n",
       "      <td>271.931396</td>\n",
       "      <td>55.607643</td>\n",
       "    </tr>\n",
       "    <tr>\n",
       "      <th>2020-01-07 00:00:00+00:00</th>\n",
       "      <td>72.320984</td>\n",
       "      <td>95.343002</td>\n",
       "      <td>65.081902</td>\n",
       "      <td>69.496330</td>\n",
       "      <td>209.396667</td>\n",
       "      <td>118.350632</td>\n",
       "      <td>212.420425</td>\n",
       "      <td>43.322792</td>\n",
       "      <td>151.024658</td>\n",
       "      <td>330.750000</td>\n",
       "      <td>29.679432</td>\n",
       "      <td>31.270666</td>\n",
       "      <td>270.289886</td>\n",
       "      <td>55.152534</td>\n",
       "    </tr>\n",
       "    <tr>\n",
       "      <th>2020-01-08 00:00:00+00:00</th>\n",
       "      <td>73.484337</td>\n",
       "      <td>94.598503</td>\n",
       "      <td>65.577690</td>\n",
       "      <td>70.043991</td>\n",
       "      <td>211.415115</td>\n",
       "      <td>119.273888</td>\n",
       "      <td>214.573944</td>\n",
       "      <td>43.875813</td>\n",
       "      <td>153.430298</td>\n",
       "      <td>339.260010</td>\n",
       "      <td>29.916864</td>\n",
       "      <td>32.809334</td>\n",
       "      <td>275.988708</td>\n",
       "      <td>54.320816</td>\n",
       "    </tr>\n",
       "    <tr>\n",
       "      <th>...</th>\n",
       "      <td>...</td>\n",
       "      <td>...</td>\n",
       "      <td>...</td>\n",
       "      <td>...</td>\n",
       "      <td>...</td>\n",
       "      <td>...</td>\n",
       "      <td>...</td>\n",
       "      <td>...</td>\n",
       "      <td>...</td>\n",
       "      <td>...</td>\n",
       "      <td>...</td>\n",
       "      <td>...</td>\n",
       "      <td>...</td>\n",
       "      <td>...</td>\n",
       "    </tr>\n",
       "    <tr>\n",
       "      <th>2024-11-11 00:00:00+00:00</th>\n",
       "      <td>224.229996</td>\n",
       "      <td>206.839996</td>\n",
       "      <td>69.800003</td>\n",
       "      <td>181.970001</td>\n",
       "      <td>602.340027</td>\n",
       "      <td>239.289993</td>\n",
       "      <td>583.169983</td>\n",
       "      <td>133.520004</td>\n",
       "      <td>418.010010</td>\n",
       "      <td>805.440002</td>\n",
       "      <td>26.240000</td>\n",
       "      <td>350.000000</td>\n",
       "      <td>625.250000</td>\n",
       "      <td>119.488152</td>\n",
       "    </tr>\n",
       "    <tr>\n",
       "      <th>2024-11-12 00:00:00+00:00</th>\n",
       "      <td>224.229996</td>\n",
       "      <td>208.910004</td>\n",
       "      <td>69.019997</td>\n",
       "      <td>183.320007</td>\n",
       "      <td>592.590027</td>\n",
       "      <td>239.559998</td>\n",
       "      <td>584.820007</td>\n",
       "      <td>132.309998</td>\n",
       "      <td>423.029999</td>\n",
       "      <td>819.500000</td>\n",
       "      <td>26.190001</td>\n",
       "      <td>328.489990</td>\n",
       "      <td>614.669983</td>\n",
       "      <td>119.369125</td>\n",
       "    </tr>\n",
       "    <tr>\n",
       "      <th>2024-11-13 00:00:00+00:00</th>\n",
       "      <td>225.119995</td>\n",
       "      <td>214.100006</td>\n",
       "      <td>68.889999</td>\n",
       "      <td>180.490005</td>\n",
       "      <td>594.219971</td>\n",
       "      <td>241.160004</td>\n",
       "      <td>580.000000</td>\n",
       "      <td>132.759995</td>\n",
       "      <td>425.200012</td>\n",
       "      <td>830.469971</td>\n",
       "      <td>26.719999</td>\n",
       "      <td>330.239990</td>\n",
       "      <td>605.869995</td>\n",
       "      <td>120.480003</td>\n",
       "    </tr>\n",
       "    <tr>\n",
       "      <th>2024-11-14 00:00:00+00:00</th>\n",
       "      <td>228.220001</td>\n",
       "      <td>211.479996</td>\n",
       "      <td>68.150002</td>\n",
       "      <td>177.350006</td>\n",
       "      <td>588.609985</td>\n",
       "      <td>241.869995</td>\n",
       "      <td>577.159973</td>\n",
       "      <td>132.429993</td>\n",
       "      <td>426.890015</td>\n",
       "      <td>837.260010</td>\n",
       "      <td>26.020000</td>\n",
       "      <td>311.179993</td>\n",
       "      <td>593.150024</td>\n",
       "      <td>120.559998</td>\n",
       "    </tr>\n",
       "    <tr>\n",
       "      <th>2024-11-15 00:00:00+00:00</th>\n",
       "      <td>225.000000</td>\n",
       "      <td>202.610001</td>\n",
       "      <td>68.760002</td>\n",
       "      <td>173.889999</td>\n",
       "      <td>593.539978</td>\n",
       "      <td>245.309998</td>\n",
       "      <td>554.080017</td>\n",
       "      <td>134.059998</td>\n",
       "      <td>415.000000</td>\n",
       "      <td>823.960022</td>\n",
       "      <td>24.799999</td>\n",
       "      <td>320.720001</td>\n",
       "      <td>592.229980</td>\n",
       "      <td>119.309998</td>\n",
       "    </tr>\n",
       "  </tbody>\n",
       "</table>\n",
       "<p>1228 rows × 14 columns</p>\n",
       "</div>"
      ],
      "text/plain": [
       "Ticker                           AAPL        AMZN          C        GOOG  \\\n",
       "Date                                                                       \n",
       "2020-01-02 00:00:00+00:00   72.796021   94.900497  67.122940   68.201012   \n",
       "2020-01-03 00:00:00+00:00   72.088280   93.748497  65.858643   67.866325   \n",
       "2020-01-06 00:00:00+00:00   72.662712   95.143997  65.652061   69.539726   \n",
       "2020-01-07 00:00:00+00:00   72.320984   95.343002  65.081902   69.496330   \n",
       "2020-01-08 00:00:00+00:00   73.484337   94.598503  65.577690   70.043991   \n",
       "...                               ...         ...        ...         ...   \n",
       "2024-11-11 00:00:00+00:00  224.229996  206.839996  69.800003  181.970001   \n",
       "2024-11-12 00:00:00+00:00  224.229996  208.910004  69.019997  183.320007   \n",
       "2024-11-13 00:00:00+00:00  225.119995  214.100006  68.889999  180.490005   \n",
       "2024-11-14 00:00:00+00:00  228.220001  211.479996  68.150002  177.350006   \n",
       "2024-11-15 00:00:00+00:00  225.000000  202.610001  68.760002  173.889999   \n",
       "\n",
       "Ticker                             GS         JPM        META          MS  \\\n",
       "Date                                                                        \n",
       "2020-01-02 00:00:00+00:00  208.356293  122.104591  209.150269   44.275696   \n",
       "2020-01-03 00:00:00+00:00  205.919907  120.493256  208.043610   43.561024   \n",
       "2020-01-06 00:00:00+00:00  208.027313  120.397438  211.961823   43.407867   \n",
       "2020-01-07 00:00:00+00:00  209.396667  118.350632  212.420425   43.322792   \n",
       "2020-01-08 00:00:00+00:00  211.415115  119.273888  214.573944   43.875813   \n",
       "...                               ...         ...         ...         ...   \n",
       "2024-11-11 00:00:00+00:00  602.340027  239.289993  583.169983  133.520004   \n",
       "2024-11-12 00:00:00+00:00  592.590027  239.559998  584.820007  132.309998   \n",
       "2024-11-13 00:00:00+00:00  594.219971  241.160004  580.000000  132.759995   \n",
       "2024-11-14 00:00:00+00:00  588.609985  241.869995  577.159973  132.429993   \n",
       "2024-11-15 00:00:00+00:00  593.539978  245.309998  554.080017  134.059998   \n",
       "\n",
       "Ticker                           MSFT        NFLX        PFE        TSLA  \\\n",
       "Date                                                                       \n",
       "2020-01-02 00:00:00+00:00  153.938217  329.809998  29.978146   28.684000   \n",
       "2020-01-03 00:00:00+00:00  152.021393  325.899994  29.817297   29.534000   \n",
       "2020-01-06 00:00:00+00:00  152.414368  335.829987  29.779013   30.102667   \n",
       "2020-01-07 00:00:00+00:00  151.024658  330.750000  29.679432   31.270666   \n",
       "2020-01-08 00:00:00+00:00  153.430298  339.260010  29.916864   32.809334   \n",
       "...                               ...         ...        ...         ...   \n",
       "2024-11-11 00:00:00+00:00  418.010010  805.440002  26.240000  350.000000   \n",
       "2024-11-12 00:00:00+00:00  423.029999  819.500000  26.190001  328.489990   \n",
       "2024-11-13 00:00:00+00:00  425.200012  830.469971  26.719999  330.239990   \n",
       "2024-11-14 00:00:00+00:00  426.890015  837.260010  26.020000  311.179993   \n",
       "2024-11-15 00:00:00+00:00  415.000000  823.960022  24.799999  320.720001   \n",
       "\n",
       "Ticker                            UNH         XOM  \n",
       "Date                                               \n",
       "2020-01-02 00:00:00+00:00  272.817535   55.631195  \n",
       "2020-01-03 00:00:00+00:00  270.056641   55.183933  \n",
       "2020-01-06 00:00:00+00:00  271.931396   55.607643  \n",
       "2020-01-07 00:00:00+00:00  270.289886   55.152534  \n",
       "2020-01-08 00:00:00+00:00  275.988708   54.320816  \n",
       "...                               ...         ...  \n",
       "2024-11-11 00:00:00+00:00  625.250000  119.488152  \n",
       "2024-11-12 00:00:00+00:00  614.669983  119.369125  \n",
       "2024-11-13 00:00:00+00:00  605.869995  120.480003  \n",
       "2024-11-14 00:00:00+00:00  593.150024  120.559998  \n",
       "2024-11-15 00:00:00+00:00  592.229980  119.309998  \n",
       "\n",
       "[1228 rows x 14 columns]"
      ]
     },
     "execution_count": 8,
     "metadata": {},
     "output_type": "execute_result"
    }
   ],
   "source": [
    "prices_past = prices.iloc[:5031]\n",
    "prices_future = prices.iloc[5031:]\n",
    "\n",
    "prices_past\n",
    "prices_future"
   ]
  },
  {
   "cell_type": "markdown",
   "metadata": {},
   "source": [
    "## 1) Input Estimates"
   ]
  },
  {
   "cell_type": "markdown",
   "metadata": {},
   "source": [
    "Once the data relative to all the universe of securities has been sourced (either closing prices or in daily returns format), we need to provide estimates of the parameters that we want to maximize/minimize in the portfolio optimization."
   ]
  },
  {
   "cell_type": "markdown",
   "metadata": {},
   "source": [
    "The specific parameters to be optimized will depend on the portfolio optimization model and objective function of choice (which we will cover later on). However, almost all portfolio optimization models use a metric of return and a metric of risk as optimization paraters. Therefore, it is a safe assumption that most portfolio optimization models will need estimates for 2 main types of inputs:\n",
    "\n",
    "- An estimate for the expected returns of the investment universe\n",
    "- An estimate for the riskiness of each asset in the investment universe. The measure of risk chosen can vary depending on the portfolio optimization model, but most common measures can be calculated from the covariance matrix (which measures variance of returns between all of the assets the investment universe)."
   ]
  },
  {
   "cell_type": "markdown",
   "metadata": {},
   "source": [
    "### 1.1) Expected Return Models"
   ]
  },
  {
   "cell_type": "markdown",
   "metadata": {},
   "source": [
    "Providing good estimates of asset returns is one of the most important parts of the portfolio optimization process. The objective here is, based on the historical data of prices/returns of all the investable assets, to estimate the future expected return for each of them during the investment horizon that is subject to optimization."
   ]
  },
  {
   "cell_type": "markdown",
   "metadata": {},
   "source": [
    "A good portfolio optimization requires of a good proprietary method to properly forecast expected returns as accurately as possible. PyPO library provides 3 basic models (sourced from [PyPortOpt](https://pyportfolioopt.readthedocs.io/en/latest/ExpectedReturns.html)) to forecast expected returns:\n",
    " - ``mh_rm`` -> Mean Historical Return Model \n",
    " - ``ewmh_rm`` -> Exponentially Weighted Mean Historical Return Model \n",
    " - ``capm_rm`` -> Capital Asset Pricing Model \n",
    "\n",
    "*Note: Future extensions of the PyPO library will focus on expanding the expected return predictive models to include main models suggested in research such as Time-Series Forecasting (ARIMA, GARCH...), Vector Autoregressive Models, or more advanced Machine Learning forecasting models.*"
   ]
  },
  {
   "cell_type": "markdown",
   "metadata": {},
   "source": [
    "We can implement the aforementioned expected return models as follows:"
   ]
  },
  {
   "cell_type": "code",
   "execution_count": 3,
   "metadata": {},
   "outputs": [],
   "source": [
    "import sys\n",
    "\n",
    "sys.path.append('/Users/alvarosanchez/Documents/Projects/personal-projects/pypot')"
   ]
  },
  {
   "cell_type": "code",
   "execution_count": 9,
   "metadata": {},
   "outputs": [],
   "source": [
    "from pypo.input_estimates import expected_return_models\n",
    "\n",
    "mhr = expected_return_models.mh_rm(prices)\n",
    "ewmhr = expected_return_models.ewmh_rm(prices)\n",
    "capmr = expected_return_models.capm_rm(prices)"
   ]
  },
  {
   "cell_type": "markdown",
   "metadata": {},
   "source": [
    "We can also compare how each of these models predicted the returns of the ``future_prices`` dataset, based only on the ``past_prices`` input dataset:"
   ]
  },
  {
   "cell_type": "code",
   "execution_count": 7,
   "metadata": {},
   "outputs": [
    {
     "data": {
      "image/png": "[encoded data removed]",
      "text/plain": [
       "<Figure size 1500x1000 with 4 Axes>"
      ]
     },
     "metadata": {},
     "output_type": "display_data"
    }
   ],
   "source": [
    "import matplotlib.pyplot as plt\n",
    "\n",
    "mu_future = expected_return_models.mh_rm(prices_future)\n",
    "\n",
    "return_methods = [\n",
    "    \"mh_rm\",\n",
    "    \"ewmh_rm\",\n",
    "    \"capm_rm\",\n",
    "    ]\n",
    "\n",
    "fig, axs = plt.subplots( 1, len(return_methods)+1,sharey=True, figsize=(15,10))\n",
    "\n",
    "axs[0].set_title(\"Future Mean Return\")\n",
    "mu_future.plot.barh(ax=axs[0])\n",
    "\n",
    "for i, method in enumerate(return_methods):\n",
    "    mu = expected_return_models.compute_expected_return(prices_past, method=method)\n",
    "    axs[i+1].set_title(method)\n",
    "    mu.plot.barh(ax=axs[i+1])"
   ]
  },
  {
   "cell_type": "markdown",
   "metadata": {},
   "source": [
    "### 1.2) Risk Models"
   ]
  },
  {
   "cell_type": "markdown",
   "metadata": {},
   "source": [
    "Same as with the return models, we will also need to provide a risk model as input for the portfolio optimization. In this case, and although many different risk metrics can be chosen as objective for optimization, most portfolio optimization models will only need as input for risk an estimate for the covariance matrix of all the assets in the investment universe."
   ]
  },
  {
   "cell_type": "markdown",
   "metadata": {},
   "source": [
    "As exposed in [[1](https://pyportfolioopt.readthedocs.io/en/latest/RiskModels.html)], risk models are often more important than expected return models because historical variance is generally a much more persistent statistic than mean historical returns. In fact, research by [Kritzman et al. (2010)](https://www.jstor.org/stable/27809177) suggests that minimum variance portfolios, formed by optimising without providing expected returns, actually perform much better out of sample."
   ]
  },
  {
   "cell_type": "markdown",
   "metadata": {},
   "source": [
    "In order to estimate the covariance matrix, several estimators are proposed in the PyPO library (sourced from [PyPortOpt](https://pyportfolioopt.readthedocs.io/en/latest/RiskModels.html)):\n",
    "- ``sample_cov`` - Sample Covariance Estimation\n",
    "- ``semi_cov`` - SemiCovariance Estimation\n",
    "- ``ew_cov`` - Exponentially Weighted Covariance Estimation\n",
    "- ``CovarianceShrinkage`` - Provide more robust estimations of the covariance matrix"
   ]
  },
  {
   "cell_type": "markdown",
   "metadata": {},
   "source": [
    "We can implement the aforementioned expected return models as follows:"
   ]
  },
  {
   "cell_type": "code",
   "execution_count": 10,
   "metadata": {},
   "outputs": [],
   "source": [
    "from pypo.input_estimates import risk_models\n",
    "\n",
    "future_cov = risk_models.sample_cov(prices_future)"
   ]
  },
  {
   "cell_type": "code",
   "execution_count": 11,
   "metadata": {},
   "outputs": [],
   "source": [
    "sample_cov = risk_models.sample_cov(prices_past)\n",
    "semi_cov = risk_models.semi_cov(prices_past)\n",
    "ew_cov = risk_models.ew_cov(prices_past)\n",
    "ledoit_cov = risk_models.CovarianceShrinkage(prices_past).ledoit_wolf()"
   ]
  },
  {
   "cell_type": "markdown",
   "metadata": {},
   "source": [
    "We can also plot the calculated covariance estimations and compare them with the real future covariance matrix, in order to observe which covariance estimator performs best."
   ]
  },
  {
   "cell_type": "markdown",
   "metadata": {},
   "source": [
    "Comparing the sample covariance vs the future covariance matrix, we observe how ``sample_cov`` consistently underestimates the covariance between assets in the lower part of the covariance matrix, such as ``NFLX`` vs ``META``, ``PFL`` vs ``META``, or ``TSL`` vs most other assets. In the future covariance matrix, we can see how the real covariances are actually higher than predicted (clearer colors)."
   ]
  },
  {
   "cell_type": "code",
   "execution_count": 10,
   "metadata": {},
   "outputs": [
    {
     "data": {
      "image/png": "[encoded data removed]",
      "text/plain": [
       "<Figure size 640x480 with 2 Axes>"
      ]
     },
     "metadata": {},
     "output_type": "display_data"
    },
    {
     "data": {
      "image/png": "[encoded data removed]",
      "text/plain": [
       "<Figure size 640x480 with 2 Axes>"
      ]
     },
     "metadata": {},
     "output_type": "display_data"
    }
   ],
   "source": [
    "from pypo.visualization import po_plotting\n",
    "\n",
    "po_plotting.plot_covariance(sample_cov, plot_correlation=True)\n",
    "po_plotting.plot_covariance(future_cov, plot_correlation=True)\n",
    "plt.show()"
   ]
  },
  {
   "cell_type": "markdown",
   "metadata": {},
   "source": [
    "Executing the same comparison with other estimators for the covariance matrix, we can see how the exponentially weighted covariance matrix ``ew_cov`` seems to be a better estimator of future variance than the sample covariance matrix:"
   ]
  },
  {
   "cell_type": "code",
   "execution_count": 11,
   "metadata": {},
   "outputs": [
    {
     "data": {
      "image/png": "[encoded data removed]",
      "text/plain": [
       "<Figure size 640x480 with 2 Axes>"
      ]
     },
     "metadata": {},
     "output_type": "display_data"
    },
    {
     "data": {
      "image/png": "[encoded data removed]",
      "text/plain": [
       "<Figure size 640x480 with 2 Axes>"
      ]
     },
     "metadata": {},
     "output_type": "display_data"
    }
   ],
   "source": [
    "po_plotting.plot_covariance(ew_cov, plot_correlation=True)\n",
    "po_plotting.plot_covariance(future_cov, plot_correlation=True)\n",
    "plt.show()"
   ]
  },
  {
   "cell_type": "markdown",
   "metadata": {},
   "source": [
    "We can compare visually the performance of all the covariance estimators based on their mean absolute error (less is better):"
   ]
  },
  {
   "cell_type": "code",
   "execution_count": 12,
   "metadata": {},
   "outputs": [
    {
     "data": {
      "image/png": "[encoded data removed]",
      "text/plain": [
       "<Figure size 640x480 with 1 Axes>"
      ]
     },
     "metadata": {},
     "output_type": "display_data"
    }
   ],
   "source": [
    "import numpy as np\n",
    "\n",
    "future_variance = np.diag(future_cov)\n",
    "mean_abs_errors = []\n",
    "\n",
    "risk_methods = [\n",
    "    \"sample_cov\",\n",
    "    \"semicovariance\",\n",
    "    \"exp_cov\",\n",
    "    \"ledoit_wolf\",\n",
    "    \"ledoit_wolf_constant_variance\",\n",
    "    \"ledoit_wolf_single_factor\",\n",
    "    \"ledoit_wolf_constant_correlation\",\n",
    "    \"oracle_approximating\",\n",
    "]\n",
    "\n",
    "for method in risk_methods:\n",
    "    S = risk_models.compute_risk_matrix(prices, method=method)\n",
    "    variance = np.diag(S)\n",
    "    mean_abs_errors.append(np.sum(np.abs(variance - future_variance)) / len(variance))\n",
    "    \n",
    "xrange = range(len(mean_abs_errors))\n",
    "plt.barh(xrange, mean_abs_errors)\n",
    "plt.yticks(xrange, risk_methods)\n",
    "plt.show()"
   ]
  },
  {
   "cell_type": "markdown",
   "metadata": {},
   "source": [
    "### 1.3) Robust Models"
   ]
  },
  {
   "cell_type": "markdown",
   "metadata": {},
   "source": [
    "PyPO library also provides the option to select robust models as inputs for the portfolio optimization. These models lie in between return and risk models, as they have their own methodology and provide more robust estimates for both return and risk.  \n",
    "The main robust model currently implemented is the Black-Litterman model, which is further explained in the docs. The notebook ``2-BL-CVaR-PO.ipynb`` provides an sample case study of how to implement a Black-Litterman optimization, which in a nutshell can be coded as follows:"
   ]
  },
  {
   "cell_type": "code",
   "execution_count": 13,
   "metadata": {},
   "outputs": [
    {
     "name": "stderr",
     "output_type": "stream",
     "text": [
      "/Users/alvarosanchez/Documents/Projects/personal-projects/pypot/pypo/input_estimates/robust_models/black_litterman_rm.py:266: UserWarning: Running Black-Litterman with no prior.\n",
      "  warnings.warn(\"Running Black-Litterman with no prior.\")\n"
     ]
    }
   ],
   "source": [
    "from pypo.input_estimates.robust_models import black_litterman_rm, BlackLittermanModel\n",
    "\n",
    "viewdict = {\"AAPL\": 0.20, \"AMZN\": -0.30, \"MS\": 0, \"MSFT\": -0.2, \"TSLA\": 0.15}\n",
    "bl = BlackLittermanModel(sample_cov, absolute_views=viewdict)"
   ]
  },
  {
   "cell_type": "markdown",
   "metadata": {},
   "source": [
    "## 2) Portfolio Optimization"
   ]
  },
  {
   "cell_type": "markdown",
   "metadata": {},
   "source": [
    "Once the input estimates have been determined, we can proceed with the portfolio optimization process."
   ]
  },
  {
   "cell_type": "markdown",
   "metadata": {},
   "source": [
    "### 2.1) Portfolio Optimization Model"
   ]
  },
  {
   "cell_type": "markdown",
   "metadata": {},
   "source": [
    "The first step of the portfolio optimization is to choose the optmization model/framework. The portfolio optimization model of choice is going to determine the type of approach we want for the portfolio optimization, the different objective functions that we will be able to optimize for, and the solver used to approach the optimization problem, among other things. As we will see later on, each optimization model/framework has its particular objective functions and solvers/optimizers."
   ]
  },
  {
   "cell_type": "markdown",
   "metadata": {},
   "source": [
    "The following Portfolio Optimization Models are supported:\n",
    "- **Mean-Variance Portfolio Optimization** (MVPO) (Efficient Frontier)\n",
    "\n",
    "- **Mean-SemiVariance Portfolio Optimization** (MSVPO) (Semi-Efficient Frontier)\n",
    "\n",
    "- **Mean-CVaR (Conditional Value at Risk) Portfolio Optimization** (MCVaRPO) (Efficient CVaR Frontier)\n",
    "\n",
    "- **Mean-CDaR (Conditional Drawdown at Risk) Portfolio Optimization** (MCDaRPO) (Efficient CDaR Frontier)\n",
    "\n",
    "- **Critial Line Algorithm Portfolio Optimization** (CLAPO)  (Efficient Derivation of Efficient Frontier)\n",
    "\n",
    "- **Hierarchical Risk Parity Portfolio Optimization** (HRPPO) (Efficient Hierarchical Clustering)"
   ]
  },
  {
   "cell_type": "markdown",
   "metadata": {},
   "source": [
    "In this first example we will mostly use Mean-Variance theory, as it is the most extended model for portfolio optimization. The following code allows to initialize a mean-variance object for construction of a long-short portfolio with the inputs calculated in the previous sections (expected return and covariance matrix)."
   ]
  },
  {
   "cell_type": "code",
   "execution_count": null,
   "metadata": {},
   "outputs": [],
   "source": [
    "from pypo.portfolio_optimization import po_models\n",
    "\n",
    "mv_po = po_models.MeanVariancePO(expected_returns=mhr, cov_matrix=sample_cov, weight_bounds=(-1,1), verbose=True)"
   ]
  },
  {
   "cell_type": "markdown",
   "metadata": {},
   "source": [
    "Conversely, this is how you can initialize the different portfolio optimization models implemented in PyPO (sourced from [PyPortOpt](https://pyportfolioopt.readthedocs.io/en/latest/index.html)):"
   ]
  },
  {
   "cell_type": "code",
   "execution_count": null,
   "metadata": {},
   "outputs": [
    {
     "name": "stderr",
     "output_type": "stream",
     "text": [
      "/Users/alvarosanchez/Documents/Projects/personal-projects/pypot/pypo/portfolio_optimization/po_models/mv_po.py:160: UserWarning: Removing NaNs from returns\n",
      "  warnings.warn(\n",
      "/Users/alvarosanchez/Documents/Projects/personal-projects/pypot/pypo/portfolio_optimization/po_models/mv_po.py:160: UserWarning: Removing NaNs from returns\n",
      "  warnings.warn(\n",
      "/Users/alvarosanchez/Documents/Projects/personal-projects/pypot/pypo/portfolio_optimization/po_models/mv_po.py:160: UserWarning: Removing NaNs from returns\n",
      "  warnings.warn(\n"
     ]
    }
   ],
   "source": [
    "from pypo.portfolio_optimization import po_models\n",
    "\n",
    "msv_po = po_models.MeanSemivariancePO(expected_returns=mhr, returns=prices_past, weight_bounds=(-1,1), verbose=True)\n",
    "mcvar_po = po_models.MeanCVaRPO(expected_returns=mhr, returns=prices_past, weight_bounds=(-1,1), verbose=True)\n",
    "mcdar_po = po_models.MeanCDaRPO(expected_returns=mhr, returns=prices_past, weight_bounds=(-1,1), verbose=True)\n",
    "cla_po = po_models.CLAPO(expected_returns=mhr, cov_matrix=sample_cov, weight_bounds=(-1,1))\n",
    "hrp_po = po_models.HRPPO(returns=prices_past, cov_matrix=sample_cov)"
   ]
  },
  {
   "cell_type": "markdown",
   "metadata": {},
   "source": [
    "### 2.2) Portfolio Objective Function"
   ]
  },
  {
   "cell_type": "markdown",
   "metadata": {},
   "source": [
    "Once the mean-variance framework object is initialized, the next step is to choose an objective function to optimize for. Mean-variance allows for different types of optimization targets, depending on the point in the efficient frontier that we want for our portfolio:\n",
    "\n",
    "- **Minimum Volatility**\n",
    "    - This is the point in the efficient frontier that minimizes variance, for whatever level of return. Although it may not seem to make much sense to optimize for the Global Minimum Variance (GMV) Portfolio, research suggests that GMV portfolios can consistently outperform return-risk optimal portfolios when the expected returns estimates are not accurate (i.e. when we don't have a proper predictive model to forecast returns).\n",
    "- **Efficient Risk**\n",
    "    - This is the portfolio that maximizes return for a given target risk.\n",
    "- **Efficient Return**\n",
    "    - This is the portfolio that maximizes risk for a given target of return. This is also known as the Markowitz portfolio.\n",
    "- **Maximum Sharpe Ratio** _(only recommended if using a good model for predicting returns)_\n",
    "    - This results in a _tangency portfolio_ because on a graph of returns vs risk, this portfolio corresponds to the tangent of the efficient frontier that has a y-intercept equal to the risk-free rate. This is the default option because it finds the optimal return per unit risk.\n",
    "- **Maximum Quadratic Utility**\n",
    "    - Allows to provide your own risk-aversion level and compute the subsequent optimal portfolio."
   ]
  },
  {
   "cell_type": "markdown",
   "metadata": {},
   "source": [
    "_Note: not all the Portfolio Optimization Models support all the above objective functions._ [_See details here_](https://pyportfolioopt.readthedocs.io/en/latest/GeneralEfficientFrontier.html)."
   ]
  },
  {
   "cell_type": "markdown",
   "metadata": {},
   "source": [
    "<center>\n",
    "<img src=\"https://github.com/robertmartin8/PyPortfolioOpt/blob/master/media/efficient_frontier_white.png?raw=true\" style=\"width:60%;\"/>\n",
    "</center>"
   ]
  },
  {
   "cell_type": "markdown",
   "metadata": {},
   "source": [
    "The below code shows how to obtain the optimized portfolio weights (opw) for each of the aforementioned objectives. Note that in order to compute the weigths, we need to use a new instance of MeanVariancePO (we can only solve one problem for a given MeanVariancePO object)."
   ]
  },
  {
   "cell_type": "code",
   "execution_count": null,
   "metadata": {},
   "outputs": [],
   "source": [
    "mv_po1 = po_models.MeanVariancePO(expected_returns=mhr, cov_matrix=sample_cov, weight_bounds=(-1,1), verbose=True)\n",
    "mv_po2 = po_models.MeanVariancePO(expected_returns=mhr, cov_matrix=sample_cov, weight_bounds=(0,1), verbose=True)\n",
    "mv_po3 = po_models.MeanVariancePO(expected_returns=mhr, cov_matrix=sample_cov, weight_bounds=(-1,1), verbose=True)\n",
    "mv_po4 = po_models.MeanVariancePO(expected_returns=mhr, cov_matrix=sample_cov, weight_bounds=(-1,1), verbose=True)\n",
    "mv_po5 = po_models.MeanVariancePO(expected_returns=mhr, cov_matrix=sample_cov, weight_bounds=(-1,1), verbose=True)"
   ]
  },
  {
   "cell_type": "code",
   "execution_count": null,
   "metadata": {},
   "outputs": [
    {
     "name": "stdout",
     "output_type": "stream",
     "text": [
      "===============================================================================\n",
      "                                     CVXPY                                     \n",
      "                                     v1.5.3                                    \n",
      "===============================================================================\n",
      "(CVXPY) Nov 15 10:47:39 AM: Your problem has 14 variables, 29 constraints, and 0 parameters.\n"
     ]
    },
    {
     "name": "stdout",
     "output_type": "stream",
     "text": [
      "(CVXPY) Nov 15 10:47:39 AM: It is compliant with the following grammars: DCP, DQCP\n",
      "(CVXPY) Nov 15 10:47:39 AM: (If you need to solve this problem multiple times, but with different data, consider using parameters.)\n",
      "(CVXPY) Nov 15 10:47:39 AM: CVXPY will first compile your problem; then, it will invoke a numerical solver to obtain a solution.\n",
      "(CVXPY) Nov 15 10:47:39 AM: Your problem is compiled with the CPP canonicalization backend.\n",
      "-------------------------------------------------------------------------------\n",
      "                                  Compilation                                  \n",
      "-------------------------------------------------------------------------------\n",
      "(CVXPY) Nov 15 10:47:39 AM: Compiling problem (target solver=OSQP).\n",
      "(CVXPY) Nov 15 10:47:39 AM: Reduction chain: CvxAttr2Constr -> Qp2SymbolicQp -> QpMatrixStuffing -> OSQP\n",
      "(CVXPY) Nov 15 10:47:39 AM: Applying reduction CvxAttr2Constr\n",
      "(CVXPY) Nov 15 10:47:39 AM: Applying reduction Qp2SymbolicQp\n",
      "(CVXPY) Nov 15 10:47:39 AM: Applying reduction QpMatrixStuffing\n",
      "(CVXPY) Nov 15 10:47:39 AM: Applying reduction OSQP\n",
      "(CVXPY) Nov 15 10:47:39 AM: Finished problem compilation (took 5.271e-02 seconds).\n",
      "-------------------------------------------------------------------------------\n",
      "                                Numerical solver                               \n",
      "-------------------------------------------------------------------------------\n",
      "(CVXPY) Nov 15 10:47:39 AM: Invoking solver OSQP  to obtain a solution.\n",
      "-----------------------------------------------------------------\n",
      "           OSQP v0.6.3  -  Operator Splitting QP Solver\n",
      "              (c) Bartolomeo Stellato,  Goran Banjac\n",
      "        University of Oxford  -  Stanford University 2021\n",
      "-----------------------------------------------------------------\n",
      "problem:  variables n = 14, constraints m = 29\n",
      "          nnz(P) + nnz(A) = 147\n",
      "settings: linear system solver = qdldl,\n",
      "          eps_abs = 1.0e-05, eps_rel = 1.0e-05,\n",
      "          eps_prim_inf = 1.0e-04, eps_dual_inf = 1.0e-04,\n",
      "          rho = 1.00e-01 (adaptive),\n",
      "          sigma = 1.00e-06, alpha = 1.60, max_iter = 10000\n",
      "          check_termination: on (interval 25),\n",
      "          scaling: on, scaled_termination: off\n",
      "          warm start: on, polish: on, time_limit: off\n",
      "\n",
      "iter   objective    pri res    dua res    rho        time\n",
      "   1   0.0000e+00   1.00e+00   1.00e+02   1.00e-01   1.21e-04s\n",
      "  50   2.9856e-02   1.06e-09   1.30e-10   1.00e-01   6.57e-04s\n",
      "plsh   2.9856e-02   0.00e+00   6.94e-17   --------   1.02e-03s\n",
      "\n",
      "status:               solved\n",
      "solution polish:      successful\n",
      "number of iterations: 50\n",
      "optimal objective:    0.0299\n",
      "run time:             1.02e-03s\n",
      "optimal rho estimate: 6.96e-02\n",
      "\n",
      "-------------------------------------------------------------------------------\n",
      "                                    Summary                                    \n",
      "-------------------------------------------------------------------------------\n",
      "(CVXPY) Nov 15 10:47:39 AM: Problem status: optimal\n",
      "(CVXPY) Nov 15 10:47:39 AM: Optimal value: 2.986e-02\n",
      "(CVXPY) Nov 15 10:47:39 AM: Compilation took 5.271e-02 seconds\n",
      "(CVXPY) Nov 15 10:47:39 AM: Solver (including time spent in interface) took 5.940e-03 seconds\n",
      "===============================================================================\n",
      "                                     CVXPY                                     \n",
      "                                     v1.5.3                                    \n",
      "===============================================================================\n",
      "(CVXPY) Nov 15 10:47:39 AM: Your problem has 14 variables, 30 constraints, and 1 parameters.\n",
      "(CVXPY) Nov 15 10:47:39 AM: It is compliant with the following grammars: DCP, DQCP\n",
      "(CVXPY) Nov 15 10:47:39 AM: CVXPY will first compile your problem; then, it will invoke a numerical solver to obtain a solution.\n",
      "(CVXPY) Nov 15 10:47:39 AM: Your problem is compiled with the CPP canonicalization backend.\n",
      "-------------------------------------------------------------------------------\n",
      "                                  Compilation                                  \n",
      "-------------------------------------------------------------------------------\n",
      "(CVXPY) Nov 15 10:47:39 AM: Compiling problem (target solver=CLARABEL).\n",
      "(CVXPY) Nov 15 10:47:39 AM: Reduction chain: Dcp2Cone -> CvxAttr2Constr -> ConeMatrixStuffing -> CLARABEL\n",
      "(CVXPY) Nov 15 10:47:39 AM: Applying reduction Dcp2Cone\n",
      "(CVXPY) Nov 15 10:47:39 AM: Applying reduction CvxAttr2Constr\n",
      "(CVXPY) Nov 15 10:47:39 AM: Applying reduction ConeMatrixStuffing\n",
      "(CVXPY) Nov 15 10:47:39 AM: Applying reduction CLARABEL\n",
      "(CVXPY) Nov 15 10:47:39 AM: Finished problem compilation (took 2.714e-02 seconds).\n",
      "(CVXPY) Nov 15 10:47:39 AM: (Subsequent compilations of this problem, using the same arguments, should take less time.)\n",
      "-------------------------------------------------------------------------------\n",
      "                                Numerical solver                               \n",
      "-------------------------------------------------------------------------------\n",
      "(CVXPY) Nov 15 10:47:39 AM: Invoking solver CLARABEL  to obtain a solution.\n",
      "-------------------------------------------------------------\n",
      "           Clarabel.rs v0.9.0  -  Clever Acronym                \n",
      "\n",
      "                   (c) Paul Goulart                          \n",
      "                University of Oxford, 2022                   \n",
      "-------------------------------------------------------------\n",
      "\n",
      "problem:\n",
      "  variables     = 15\n",
      "  constraints   = 46\n",
      "  nnz(P)        = 0\n",
      "  nnz(A)        = 241\n",
      "  cones (total) = 3\n",
      "    :        Zero = 1,  numel = 1\n",
      "    : Nonnegative = 1,  numel = 29\n",
      "    : SecondOrder = 1,  numel = 16\n",
      "\n",
      "settings:\n",
      "  linear algebra: direct / qdldl, precision: 64 bit\n",
      "  max iter = 200, time limit = Inf,  max step = 0.990\n",
      "  tol_feas = 1.0e-8, tol_gap_abs = 1.0e-8, tol_gap_rel = 1.0e-8,\n",
      "  static reg : on, ϵ1 = 1.0e-8, ϵ2 = 4.9e-32\n",
      "  dynamic reg: on, ϵ = 1.0e-13, δ = 2.0e-7\n",
      "  iter refine: on, reltol = 1.0e-13, abstol = 1.0e-12,\n",
      "               max iter = 10, stop ratio = 5.0\n",
      "  equilibrate: on, min_scale = 1.0e-4, max_scale = 1.0e4\n",
      "               max iter = 10\n",
      "\n",
      "iter    pcost        dcost       gap       pres      dres      k/t        μ       step      \n",
      "---------------------------------------------------------------------------------------------\n",
      "  0  -1.6723e-01  -1.8742e+01  1.86e+01  5.81e-01  1.95e-01  1.00e+00  1.90e+00   ------   \n",
      "  1  -2.4603e-01  -2.3293e+00  2.08e+00  1.25e-01  5.09e-02  1.79e-01  4.08e-01  8.94e-01  \n",
      "  2  -2.5112e-01  -5.2052e-01  2.69e-01  1.76e-02  1.07e-02  2.20e-02  6.88e-02  8.40e-01  \n",
      "  3  -2.3631e-01  -4.8359e-01  2.47e-01  1.62e-02  6.57e-03  2.00e-02  5.88e-02  2.98e-01  \n",
      "  4  -2.2749e-01  -3.2450e-01  9.70e-02  6.33e-03  1.83e-03  7.46e-03  2.23e-02  7.01e-01  \n",
      "  5  -2.2269e-01  -3.0964e-01  8.70e-02  5.69e-03  1.08e-03  6.06e-03  1.79e-02  5.75e-01  \n",
      "  6  -2.2373e-01  -2.8980e-01  6.61e-02  4.20e-03  1.49e-03  3.06e-03  1.58e-02  3.65e-01  \n",
      "  7  -2.2925e-01  -2.6588e-01  3.66e-02  2.33e-03  6.59e-04  1.79e-03  8.39e-03  6.68e-01  \n",
      "  8  -2.2566e-01  -2.5937e-01  3.37e-02  2.16e-03  3.65e-04  1.80e-03  6.61e-03  4.67e-01  \n",
      "  9  -2.2277e-01  -2.2973e-01  6.95e-03  4.41e-04  8.23e-05  3.15e-04  1.42e-03  8.52e-01  \n",
      " 10  -2.2143e-01  -2.2298e-01  1.55e-03  9.75e-05  2.07e-05  5.68e-05  3.29e-04  8.27e-01  \n",
      " 11  -2.2166e-01  -2.2192e-01  2.59e-04  1.63e-05  3.39e-06  9.99e-06  5.47e-05  8.49e-01  \n",
      " 12  -2.2162e-01  -2.2166e-01  3.53e-05  2.24e-06  4.53e-07  1.65e-06  7.43e-06  9.65e-01  \n",
      " 13  -2.2162e-01  -2.2163e-01  3.11e-06  1.97e-07  4.00e-08  1.46e-07  6.56e-07  9.14e-01  \n",
      " 14  -2.2162e-01  -2.2162e-01  1.29e-07  8.19e-09  1.66e-09  6.22e-09  2.72e-08  9.89e-01  \n",
      " 15  -2.2162e-01  -2.2162e-01  1.87e-09  1.19e-10  2.41e-11  9.03e-11  3.95e-10  9.85e-01  \n",
      "---------------------------------------------------------------------------------------------\n",
      "Terminated with status = Solved\n",
      "solve time = 714.958µs\n",
      "-------------------------------------------------------------------------------\n",
      "                                    Summary                                    \n",
      "-------------------------------------------------------------------------------\n",
      "(CVXPY) Nov 15 10:47:39 AM: Problem status: optimal\n",
      "(CVXPY) Nov 15 10:47:39 AM: Optimal value: -2.216e-01\n",
      "(CVXPY) Nov 15 10:47:39 AM: Compilation took 2.714e-02 seconds\n",
      "(CVXPY) Nov 15 10:47:39 AM: Solver (including time spent in interface) took 5.136e-03 seconds\n",
      "===============================================================================\n",
      "                                     CVXPY                                     \n",
      "                                     v1.5.3                                    \n",
      "===============================================================================\n",
      "(CVXPY) Nov 15 10:47:39 AM: Your problem has 14 variables, 29 constraints, and 0 parameters.\n",
      "(CVXPY) Nov 15 10:47:39 AM: It is compliant with the following grammars: DCP, DQCP\n",
      "(CVXPY) Nov 15 10:47:39 AM: (If you need to solve this problem multiple times, but with different data, consider using parameters.)\n",
      "(CVXPY) Nov 15 10:47:39 AM: CVXPY will first compile your problem; then, it will invoke a numerical solver to obtain a solution.\n",
      "(CVXPY) Nov 15 10:47:39 AM: Your problem is compiled with the CPP canonicalization backend.\n",
      "-------------------------------------------------------------------------------\n",
      "                                  Compilation                                  \n",
      "-------------------------------------------------------------------------------\n",
      "(CVXPY) Nov 15 10:47:39 AM: Compiling problem (target solver=CLARABEL).\n",
      "(CVXPY) Nov 15 10:47:39 AM: Reduction chain: Dcp2Cone -> CvxAttr2Constr -> ConeMatrixStuffing -> CLARABEL\n",
      "(CVXPY) Nov 15 10:47:39 AM: Applying reduction Dcp2Cone\n",
      "(CVXPY) Nov 15 10:47:39 AM: Applying reduction CvxAttr2Constr\n",
      "(CVXPY) Nov 15 10:47:39 AM: Applying reduction ConeMatrixStuffing\n",
      "(CVXPY) Nov 15 10:47:39 AM: Applying reduction CLARABEL\n",
      "(CVXPY) Nov 15 10:47:39 AM: Finished problem compilation (took 2.090e-02 seconds).\n",
      "-------------------------------------------------------------------------------\n",
      "                                Numerical solver                               \n",
      "-------------------------------------------------------------------------------\n",
      "(CVXPY) Nov 15 10:47:39 AM: Invoking solver CLARABEL  to obtain a solution.\n",
      "-------------------------------------------------------------\n",
      "           Clarabel.rs v0.9.0  -  Clever Acronym                \n",
      "\n",
      "                   (c) Paul Goulart                          \n",
      "                University of Oxford, 2022                   \n",
      "-------------------------------------------------------------\n",
      "\n",
      "problem:\n",
      "  variables     = 14\n",
      "  constraints   = 29\n",
      "  nnz(P)        = 0\n",
      "  nnz(A)        = 42\n",
      "  cones (total) = 2\n",
      "    :        Zero = 1,  numel = 1\n",
      "    : Nonnegative = 1,  numel = 28\n",
      "\n",
      "settings:\n",
      "  linear algebra: direct / qdldl, precision: 64 bit\n",
      "  max iter = 200, time limit = Inf,  max step = 0.990\n",
      "  tol_feas = 1.0e-8, tol_gap_abs = 1.0e-8, tol_gap_rel = 1.0e-8,\n",
      "  static reg : on, ϵ1 = 1.0e-8, ϵ2 = 4.9e-32\n",
      "  dynamic reg: on, ϵ = 1.0e-13, δ = 2.0e-7\n",
      "  iter refine: on, reltol = 1.0e-13, abstol = 1.0e-12,\n",
      "               max iter = 10, stop ratio = 5.0\n",
      "  equilibrate: on, min_scale = 1.0e-4, max_scale = 1.0e4\n",
      "               max iter = 10\n",
      "\n",
      "iter    pcost        dcost       gap       pres      dres      k/t        μ       step      \n",
      "---------------------------------------------------------------------------------------------\n",
      "  0  -1.6500e-01  -3.2079e+01  3.19e+01  5.44e-02  8.85e-17  1.00e+00  1.21e+00   ------   \n",
      "  1  -3.4122e-01  -3.4557e+00  3.11e+00  5.40e-03  3.65e-16  9.50e-02  1.26e-01  8.98e-01  \n",
      "  2  -1.2860e+00  -1.7865e+00  3.89e-01  5.98e-04  2.47e-16  1.64e-02  2.03e-02  8.98e-01  \n",
      "  3  -1.5045e+00  -1.6660e+00  1.07e-01  1.68e-04  4.27e-16  5.34e-03  6.56e-03  7.12e-01  \n",
      "  4  -1.5532e+00  -1.5923e+00  2.52e-02  3.97e-05  1.05e-16  1.31e-03  1.59e-03  7.97e-01  \n",
      "  5  -1.5720e+00  -1.5823e+00  6.56e-03  1.03e-05  1.32e-15  3.61e-04  4.20e-04  9.08e-01  \n",
      "  6  -1.5763e+00  -1.5764e+00  7.66e-05  1.20e-07  3.00e-17  4.23e-06  4.91e-06  9.88e-01  \n",
      "  7  -1.5763e+00  -1.5763e+00  7.66e-07  1.20e-09  1.76e-17  4.23e-08  4.91e-08  9.90e-01  \n",
      "  8  -1.5763e+00  -1.5763e+00  7.66e-09  1.20e-11  1.02e-14  4.23e-10  4.91e-10  9.90e-01  \n",
      "---------------------------------------------------------------------------------------------\n",
      "Terminated with status = Solved\n",
      "solve time = 144.372µs\n",
      "-------------------------------------------------------------------------------\n",
      "                                    Summary                                    \n",
      "-------------------------------------------------------------------------------\n",
      "(CVXPY) Nov 15 10:47:39 AM: Problem status: optimal\n",
      "(CVXPY) Nov 15 10:47:39 AM: Optimal value: -1.576e+00\n",
      "(CVXPY) Nov 15 10:47:39 AM: Compilation took 2.090e-02 seconds\n",
      "(CVXPY) Nov 15 10:47:39 AM: Solver (including time spent in interface) took 1.704e-03 seconds\n",
      "===============================================================================\n",
      "                                     CVXPY                                     \n",
      "                                     v1.5.3                                    \n",
      "===============================================================================\n",
      "(CVXPY) Nov 15 10:47:39 AM: Your problem has 14 variables, 30 constraints, and 1 parameters.\n",
      "(CVXPY) Nov 15 10:47:39 AM: It is compliant with the following grammars: DCP, DQCP\n",
      "(CVXPY) Nov 15 10:47:39 AM: CVXPY will first compile your problem; then, it will invoke a numerical solver to obtain a solution.\n",
      "(CVXPY) Nov 15 10:47:39 AM: Your problem is compiled with the CPP canonicalization backend.\n",
      "-------------------------------------------------------------------------------\n",
      "                                  Compilation                                  \n",
      "-------------------------------------------------------------------------------\n",
      "(CVXPY) Nov 15 10:47:39 AM: Compiling problem (target solver=OSQP).\n",
      "(CVXPY) Nov 15 10:47:39 AM: Reduction chain: CvxAttr2Constr -> Qp2SymbolicQp -> QpMatrixStuffing -> OSQP\n",
      "(CVXPY) Nov 15 10:47:39 AM: Applying reduction CvxAttr2Constr\n",
      "(CVXPY) Nov 15 10:47:39 AM: Applying reduction Qp2SymbolicQp\n",
      "(CVXPY) Nov 15 10:47:39 AM: Applying reduction QpMatrixStuffing\n",
      "(CVXPY) Nov 15 10:47:39 AM: Applying reduction OSQP\n",
      "(CVXPY) Nov 15 10:47:39 AM: Finished problem compilation (took 2.180e-02 seconds).\n",
      "(CVXPY) Nov 15 10:47:39 AM: (Subsequent compilations of this problem, using the same arguments, should take less time.)\n",
      "-------------------------------------------------------------------------------\n",
      "                                Numerical solver                               \n",
      "-------------------------------------------------------------------------------\n",
      "(CVXPY) Nov 15 10:47:39 AM: Invoking solver OSQP  to obtain a solution.\n",
      "-----------------------------------------------------------------\n",
      "           OSQP v0.6.3  -  Operator Splitting QP Solver\n",
      "              (c) Bartolomeo Stellato,  Goran Banjac\n",
      "        University of Oxford  -  Stanford University 2021\n",
      "-----------------------------------------------------------------\n",
      "problem:  variables n = 14, constraints m = 30\n",
      "          nnz(P) + nnz(A) = 161\n",
      "settings: linear system solver = qdldl,\n",
      "          eps_abs = 1.0e-05, eps_rel = 1.0e-05,\n",
      "          eps_prim_inf = 1.0e-04, eps_dual_inf = 1.0e-04,\n",
      "          rho = 1.00e-01 (adaptive),\n",
      "          sigma = 1.00e-06, alpha = 1.60, max_iter = 10000\n",
      "          check_termination: on (interval 25),\n",
      "          scaling: on, scaled_termination: off\n",
      "          warm start: on, polish: on, time_limit: off\n",
      "\n",
      "iter   objective    pri res    dua res    rho        time\n",
      "   1   0.0000e+00   1.00e+00   1.00e+02   1.00e-01   1.32e-04s\n",
      "  50   2.9856e-02   8.14e-10   4.57e-10   1.00e-01   1.89e-04s\n",
      "plsh   2.9856e-02   0.00e+00   6.94e-17   --------   2.34e-04s\n",
      "\n",
      "status:               solved\n",
      "solution polish:      successful\n",
      "number of iterations: 50\n",
      "optimal objective:    0.0299\n",
      "run time:             2.34e-04s\n",
      "optimal rho estimate: 3.26e-02\n",
      "\n",
      "-------------------------------------------------------------------------------\n",
      "                                    Summary                                    \n",
      "-------------------------------------------------------------------------------\n",
      "(CVXPY) Nov 15 10:47:39 AM: Problem status: optimal\n",
      "(CVXPY) Nov 15 10:47:39 AM: Optimal value: 2.986e-02\n",
      "(CVXPY) Nov 15 10:47:39 AM: Compilation took 2.180e-02 seconds\n",
      "(CVXPY) Nov 15 10:47:39 AM: Solver (including time spent in interface) took 4.961e-03 seconds\n",
      "===============================================================================\n",
      "                                     CVXPY                                     \n",
      "                                     v1.5.3                                    \n",
      "===============================================================================\n",
      "(CVXPY) Nov 15 10:47:39 AM: Your problem has 15 variables, 31 constraints, and 0 parameters.\n",
      "(CVXPY) Nov 15 10:47:39 AM: It is compliant with the following grammars: DCP, DQCP\n",
      "(CVXPY) Nov 15 10:47:39 AM: (If you need to solve this problem multiple times, but with different data, consider using parameters.)\n",
      "(CVXPY) Nov 15 10:47:39 AM: CVXPY will first compile your problem; then, it will invoke a numerical solver to obtain a solution.\n",
      "(CVXPY) Nov 15 10:47:39 AM: Your problem is compiled with the CPP canonicalization backend.\n",
      "-------------------------------------------------------------------------------\n",
      "                                  Compilation                                  \n",
      "-------------------------------------------------------------------------------\n",
      "(CVXPY) Nov 15 10:47:39 AM: Compiling problem (target solver=OSQP).\n",
      "(CVXPY) Nov 15 10:47:39 AM: Reduction chain: CvxAttr2Constr -> Qp2SymbolicQp -> QpMatrixStuffing -> OSQP\n",
      "(CVXPY) Nov 15 10:47:39 AM: Applying reduction CvxAttr2Constr\n",
      "(CVXPY) Nov 15 10:47:39 AM: Applying reduction Qp2SymbolicQp\n",
      "(CVXPY) Nov 15 10:47:39 AM: Applying reduction QpMatrixStuffing\n",
      "(CVXPY) Nov 15 10:47:39 AM: Applying reduction OSQP\n",
      "(CVXPY) Nov 15 10:47:39 AM: Finished problem compilation (took 2.536e-02 seconds).\n",
      "-------------------------------------------------------------------------------\n",
      "                                Numerical solver                               \n",
      "-------------------------------------------------------------------------------\n",
      "(CVXPY) Nov 15 10:47:39 AM: Invoking solver OSQP  to obtain a solution.\n",
      "-----------------------------------------------------------------\n",
      "           OSQP v0.6.3  -  Operator Splitting QP Solver\n",
      "              (c) Bartolomeo Stellato,  Goran Banjac\n",
      "        University of Oxford  -  Stanford University 2021\n",
      "-----------------------------------------------------------------\n",
      "problem:  variables n = 15, constraints m = 31\n",
      "          nnz(P) + nnz(A) = 191\n",
      "settings: linear system solver = qdldl,\n",
      "          eps_abs = 1.0e-05, eps_rel = 1.0e-05,\n",
      "          eps_prim_inf = 1.0e-04, eps_dual_inf = 1.0e-04,\n",
      "          rho = 1.00e-01 (adaptive),\n",
      "          sigma = 1.00e-06, alpha = 1.60, max_iter = 10000\n",
      "          check_termination: on (interval 25),\n",
      "          scaling: on, scaled_termination: off\n",
      "          warm start: on, polish: on, time_limit: off\n",
      "\n",
      "iter   objective    pri res    dua res    rho        time\n",
      "   1   0.0000e+00   1.00e+00   2.35e+02   1.00e-01   1.00e-04s\n",
      "  50   5.2399e-01   6.99e-09   1.47e-09   3.88e-03   2.49e-04s\n",
      "plsh   5.2399e-01   1.89e-16   5.00e-16   --------   6.34e-04s\n",
      "\n",
      "status:               solved\n",
      "solution polish:      successful\n",
      "number of iterations: 50\n",
      "optimal objective:    0.5240\n",
      "run time:             6.34e-04s\n",
      "optimal rho estimate: 3.15e-03\n",
      "\n",
      "-------------------------------------------------------------------------------\n",
      "                                    Summary                                    \n",
      "-------------------------------------------------------------------------------\n",
      "(CVXPY) Nov 15 10:47:39 AM: Problem status: optimal\n",
      "(CVXPY) Nov 15 10:47:39 AM: Optimal value: 5.240e-01\n",
      "(CVXPY) Nov 15 10:47:39 AM: Compilation took 2.536e-02 seconds\n",
      "(CVXPY) Nov 15 10:47:39 AM: Solver (including time spent in interface) took 2.573e-03 seconds\n",
      "===============================================================================\n",
      "                                     CVXPY                                     \n",
      "                                     v1.5.3                                    \n",
      "===============================================================================\n",
      "(CVXPY) Nov 15 10:47:39 AM: Your problem has 14 variables, 29 constraints, and 1 parameters.\n",
      "(CVXPY) Nov 15 10:47:39 AM: It is compliant with the following grammars: DCP, DQCP\n",
      "(CVXPY) Nov 15 10:47:39 AM: CVXPY will first compile your problem; then, it will invoke a numerical solver to obtain a solution.\n",
      "(CVXPY) Nov 15 10:47:39 AM: Your problem is compiled with the CPP canonicalization backend.\n",
      "-------------------------------------------------------------------------------\n",
      "                                  Compilation                                  \n",
      "-------------------------------------------------------------------------------\n",
      "(CVXPY) Nov 15 10:47:39 AM: Compiling problem (target solver=OSQP).\n",
      "(CVXPY) Nov 15 10:47:39 AM: Reduction chain: CvxAttr2Constr -> Qp2SymbolicQp -> QpMatrixStuffing -> OSQP\n",
      "(CVXPY) Nov 15 10:47:39 AM: Applying reduction CvxAttr2Constr\n",
      "(CVXPY) Nov 15 10:47:39 AM: Applying reduction Qp2SymbolicQp\n",
      "(CVXPY) Nov 15 10:47:39 AM: Applying reduction QpMatrixStuffing\n",
      "(CVXPY) Nov 15 10:47:39 AM: Applying reduction OSQP\n",
      "(CVXPY) Nov 15 10:47:39 AM: Finished problem compilation (took 2.345e-02 seconds).\n",
      "(CVXPY) Nov 15 10:47:39 AM: (Subsequent compilations of this problem, using the same arguments, should take less time.)\n",
      "-------------------------------------------------------------------------------\n",
      "                                Numerical solver                               \n",
      "-------------------------------------------------------------------------------\n",
      "(CVXPY) Nov 15 10:47:39 AM: Invoking solver OSQP  to obtain a solution.\n",
      "-----------------------------------------------------------------\n",
      "           OSQP v0.6.3  -  Operator Splitting QP Solver\n",
      "              (c) Bartolomeo Stellato,  Goran Banjac\n",
      "        University of Oxford  -  Stanford University 2021\n",
      "-----------------------------------------------------------------\n",
      "problem:  variables n = 14, constraints m = 29\n",
      "          nnz(P) + nnz(A) = 147\n",
      "settings: linear system solver = qdldl,\n",
      "          eps_abs = 1.0e-05, eps_rel = 1.0e-05,\n",
      "          eps_prim_inf = 1.0e-04, eps_dual_inf = 1.0e-04,\n",
      "          rho = 1.00e-01 (adaptive),\n",
      "          sigma = 1.00e-06, alpha = 1.60, max_iter = 10000\n",
      "          check_termination: on (interval 25),\n",
      "          scaling: on, scaled_termination: off\n",
      "          warm start: on, polish: on, time_limit: off\n",
      "\n",
      "iter   objective    pri res    dua res    rho        time\n",
      "   1  -6.0881e-01   9.94e-01   4.44e+01   1.00e-01   1.23e-04s\n",
      "  50  -7.6727e-01   4.34e-08   5.25e-10   1.00e-01   6.42e-04s\n",
      "plsh  -7.6727e-01   0.00e+00   6.17e-17   --------   1.12e-03s\n",
      "\n",
      "status:               solved\n",
      "solution polish:      successful\n",
      "number of iterations: 50\n",
      "optimal objective:    -0.7673\n",
      "run time:             1.12e-03s\n",
      "optimal rho estimate: 6.06e-01\n",
      "\n",
      "-------------------------------------------------------------------------------\n",
      "                                    Summary                                    \n",
      "-------------------------------------------------------------------------------\n",
      "(CVXPY) Nov 15 10:47:39 AM: Problem status: optimal\n",
      "(CVXPY) Nov 15 10:47:39 AM: Optimal value: -7.673e-01\n",
      "(CVXPY) Nov 15 10:47:39 AM: Compilation took 2.345e-02 seconds\n",
      "(CVXPY) Nov 15 10:47:39 AM: Solver (including time spent in interface) took 6.486e-03 seconds\n"
     ]
    }
   ],
   "source": [
    "mv_opw = mv_po1.min_volatility() # Finds GMV portfolio\n",
    "erisk_opw = mv_po2.efficient_risk(target_volatility=0.20) # Maximizes return for target risk\n",
    "eret_opw = mv_po3.efficient_return(target_return=0.1) # Minimizes risk for target return\n",
    "ms_opw = mv_po4.max_sharpe() # Maximizes return/risk ratio (finds tangency portfolio)\n",
    "mu_opw = mv_po5.max_quadratic_utility(risk_aversion=1) # Maximizes personal investor utility function\n"
   ]
  },
  {
   "cell_type": "markdown",
   "metadata": {},
   "source": [
    "### 2.3) Portfolio (Custom) Optimization Objectives"
   ]
  },
  {
   "cell_type": "markdown",
   "metadata": {},
   "source": [
    "The previously introduced portfolio objective functions are straight-forward to compute, and produce a weight allocation when calling their respective methods. However, sometimes we may want to add extra optimization objectives that are not defined in the previous 5 objective functions.\n",
    "\n",
    "It is possible to add extra objectives using the methodology described below. Note that there are 2 types of optimization objectives, convex and non-convex. While convex objectives fit nicely under a convex optimization solver like the one (described in section 2.6), non-convex objectives may be treated with care as they may produce incompatibilitys with the solvers implemented in this library.\n",
    "\n",
    "- **Convex Objectives:**\n",
    "    - L2 regularisation (minimising this reduces nonzero weights)\n",
    "    - Transaction cost model\n",
    "    - Custom convex objectives (must be expressed with ``cvxpy`` [atomic functions](https://www.cvxpy.org/tutorial/functions/index.html))\n",
    "    \n",
    "- **Non-Convex Objectives:**\n",
    "    - See example in the original docs of the PyPortOpt library [here](https://github.com/robertmartin8/PyPortfolioOpt/blob/master/cookbook/3-Advanced-Mean-Variance-Optimisation.ipynb)"
   ]
  },
  {
   "cell_type": "markdown",
   "metadata": {},
   "source": [
    "#### Example of L2 Regularization"
   ]
  },
  {
   "cell_type": "markdown",
   "metadata": {},
   "source": [
    "For instance, let's imagine that we have performed a the mean-variance portfolio optimization ``mv_po2`` described in the previous section, and we have obtained the following portfolio optimal weights that maximize return for a target variance of 20%:"
   ]
  },
  {
   "cell_type": "code",
   "execution_count": null,
   "metadata": {},
   "outputs": [
    {
     "data": {
      "text/plain": [
       "OrderedDict([('AAPL', np.float64(0.0880821087540093)),\n",
       "             ('AMZN', np.float64(1.0088981e-09)),\n",
       "             ('C', np.float64(1.73412e-10)),\n",
       "             ('GOOG', np.float64(0.1530765942079676)),\n",
       "             ('GS', np.float64(9.51168e-10)),\n",
       "             ('JPM', np.float64(9.202726e-10)),\n",
       "             ('META', np.float64(0.1673418028466406)),\n",
       "             ('MS', np.float64(1.764496e-10)),\n",
       "             ('MSFT', np.float64(8.5899906e-09)),\n",
       "             ('NFLX', np.float64(0.0364087012155675)),\n",
       "             ('PFE', np.float64(0.0733846268236002)),\n",
       "             ('TSLA', np.float64(0.12169842309745)),\n",
       "             ('UNH', np.float64(0.1970396459212819)),\n",
       "             ('XOM', np.float64(0.162968085313292))])"
      ]
     },
     "execution_count": 106,
     "metadata": {},
     "output_type": "execute_result"
    }
   ],
   "source": [
    "erisk_opw"
   ]
  },
  {
   "cell_type": "markdown",
   "metadata": {},
   "source": [
    "While this portfolio should meet our objectives, we may be concerned about the lack of diversification (there are up to 6 stocks which have 0 weights: ``AMZN``, ``C``,``GS``,``JPM``,``MS``,``MSFT``). We can enforce a higher level of diversification with L2 regularization (i.e. adding a penalty on the number of quasi-zero weights):"
   ]
  },
  {
   "cell_type": "code",
   "execution_count": null,
   "metadata": {},
   "outputs": [
    {
     "name": "stdout",
     "output_type": "stream",
     "text": [
      "===============================================================================\n",
      "                                     CVXPY                                     \n",
      "                                     v1.5.3                                    \n",
      "===============================================================================\n",
      "(CVXPY) Nov 15 11:00:52 AM: Your problem has 14 variables, 30 constraints, and 1 parameters.\n",
      "(CVXPY) Nov 15 11:00:52 AM: It is compliant with the following grammars: DCP, DQCP\n",
      "(CVXPY) Nov 15 11:00:52 AM: CVXPY will first compile your problem; then, it will invoke a numerical solver to obtain a solution.\n",
      "(CVXPY) Nov 15 11:00:52 AM: Your problem is compiled with the CPP canonicalization backend.\n",
      "-------------------------------------------------------------------------------\n",
      "                                  Compilation                                  \n",
      "-------------------------------------------------------------------------------\n",
      "(CVXPY) Nov 15 11:00:52 AM: Compiling problem (target solver=CLARABEL).\n",
      "(CVXPY) Nov 15 11:00:52 AM: Reduction chain: Dcp2Cone -> CvxAttr2Constr -> ConeMatrixStuffing -> CLARABEL\n",
      "(CVXPY) Nov 15 11:00:52 AM: Applying reduction Dcp2Cone\n",
      "(CVXPY) Nov 15 11:00:52 AM: Applying reduction CvxAttr2Constr\n",
      "(CVXPY) Nov 15 11:00:52 AM: Applying reduction ConeMatrixStuffing\n",
      "(CVXPY) Nov 15 11:00:52 AM: Applying reduction CLARABEL\n",
      "(CVXPY) Nov 15 11:00:52 AM: Finished problem compilation (took 3.725e-02 seconds).\n",
      "(CVXPY) Nov 15 11:00:52 AM: (Subsequent compilations of this problem, using the same arguments, should take less time.)\n",
      "-------------------------------------------------------------------------------\n",
      "                                Numerical solver                               \n",
      "-------------------------------------------------------------------------------\n",
      "(CVXPY) Nov 15 11:00:52 AM: Invoking solver CLARABEL  to obtain a solution.\n",
      "-------------------------------------------------------------\n",
      "           Clarabel.rs v0.9.0  -  Clever Acronym                \n",
      "\n",
      "                   (c) Paul Goulart                          \n",
      "                University of Oxford, 2022                   \n",
      "-------------------------------------------------------------\n",
      "\n",
      "problem:\n",
      "  variables     = 15\n",
      "  constraints   = 46\n",
      "  nnz(P)        = 14\n",
      "  nnz(A)        = 241\n",
      "  cones (total) = 3\n",
      "    :        Zero = 1,  numel = 1\n",
      "    : Nonnegative = 1,  numel = 29\n",
      "    : SecondOrder = 1,  numel = 16\n",
      "\n",
      "settings:\n",
      "  linear algebra: direct / qdldl, precision: 64 bit\n",
      "  max iter = 200, time limit = Inf,  max step = 0.990\n",
      "  tol_feas = 1.0e-8, tol_gap_abs = 1.0e-8, tol_gap_rel = 1.0e-8,\n",
      "  static reg : on, ϵ1 = 1.0e-8, ϵ2 = 4.9e-32\n",
      "  dynamic reg: on, ϵ = 1.0e-13, δ = 2.0e-7\n",
      "  iter refine: on, reltol = 1.0e-13, abstol = 1.0e-12,\n",
      "               max iter = 10, stop ratio = 5.0\n",
      "  equilibrate: on, min_scale = 1.0e-4, max_scale = 1.0e4\n",
      "               max iter = 10\n",
      "\n",
      "iter    pcost        dcost       gap       pres      dres      k/t        μ       step      \n",
      "---------------------------------------------------------------------------------------------\n",
      "  0  -2.0875e-01  -3.0327e+01  3.01e+01  5.87e-01  2.35e-01  1.00e+00  7.94e+00   ------   \n",
      "  1  -2.0582e-01  -2.5883e+00  2.38e+00  1.01e-01  5.95e-02  7.39e-01  1.51e+00  9.90e-01  \n",
      "  2  -2.0247e-01  -4.7253e-01  2.70e-01  1.21e-02  1.56e-02  7.11e-02  2.33e-01  8.59e-01  \n",
      "  3  -1.9107e-01  -4.1628e-01  2.25e-01  9.94e-03  6.00e-03  5.54e-02  1.76e-01  4.21e-01  \n",
      "  4  -1.9540e-01  -2.5871e-01  6.33e-02  2.67e-03  1.32e-03  1.45e-02  4.82e-02  7.60e-01  \n",
      "  5  -1.8747e-01  -2.3990e-01  5.24e-02  2.09e-03  1.07e-03  8.52e-03  3.95e-02  5.27e-01  \n",
      "  6  -1.9291e-01  -2.0304e-01  1.01e-02  3.14e-04  1.53e-04  1.19e-03  7.02e-03  9.22e-01  \n",
      "  7  -1.9403e-01  -1.9446e-01  4.31e-04  1.22e-05  5.96e-06  4.96e-05  2.94e-04  9.61e-01  \n",
      "  8  -1.9409e-01  -1.9410e-01  7.96e-06  1.90e-07  9.22e-08  8.45e-07  5.26e-06  9.85e-01  \n",
      "  9  -1.9410e-01  -1.9410e-01  1.52e-07  1.94e-09  9.44e-10  1.15e-08  9.26e-08  9.90e-01  \n",
      " 10  -1.9410e-01  -1.9410e-01  5.66e-09  1.67e-10  1.33e-11  2.64e-10  3.18e-09  9.87e-01  \n",
      "---------------------------------------------------------------------------------------------\n",
      "Terminated with status = Solved\n",
      "solve time = 489.981µs\n",
      "-------------------------------------------------------------------------------\n",
      "                                    Summary                                    \n",
      "-------------------------------------------------------------------------------\n",
      "(CVXPY) Nov 15 11:00:52 AM: Problem status: optimal\n",
      "(CVXPY) Nov 15 11:00:52 AM: Optimal value: -1.941e-01\n",
      "(CVXPY) Nov 15 11:00:52 AM: Compilation took 3.725e-02 seconds\n",
      "(CVXPY) Nov 15 11:00:52 AM: Solver (including time spent in interface) took 1.989e-03 seconds\n"
     ]
    },
    {
     "data": {
      "text/plain": [
       "OrderedDict([('AAPL', np.float64(0.0935255457538243)),\n",
       "             ('AMZN', np.float64(2.0948743e-09)),\n",
       "             ('C', np.float64(1.543017e-10)),\n",
       "             ('GOOG', np.float64(0.1435205181241284)),\n",
       "             ('GS', np.float64(2.076641e-09)),\n",
       "             ('JPM', np.float64(1.4016321e-09)),\n",
       "             ('META', np.float64(0.1563921278824029)),\n",
       "             ('MS', np.float64(1.473157e-10)),\n",
       "             ('MSFT', np.float64(0.0318837112916811)),\n",
       "             ('NFLX', np.float64(0.0466996119373911)),\n",
       "             ('PFE', np.float64(0.0922563723357902)),\n",
       "             ('TSLA', np.float64(0.1249911114301388)),\n",
       "             ('UNH', np.float64(0.1744528474742458)),\n",
       "             ('XOM', np.float64(0.1362781478956332))])"
      ]
     },
     "execution_count": 109,
     "metadata": {},
     "output_type": "execute_result"
    }
   ],
   "source": [
    "from pypo.portfolio_optimization.po_objective_functions import objective_functions\n",
    "# We need to create a new MeanVariancePO object first\n",
    "mv_po2b = po_models.MeanVariancePO(expected_returns=mhr, cov_matrix=sample_cov, weight_bounds=(0,1), verbose=True)\n",
    "mv_po2b.add_objective(objective_functions.L2_reg, gamma=0.1)\n",
    "erisk_opw2 = mv_po2b.efficient_risk(target_volatility=0.20) # Maximizes return for target risk\n",
    "erisk_opw2"
   ]
  },
  {
   "cell_type": "markdown",
   "metadata": {},
   "source": [
    "We can see how after regularization, ``MSFT`` has been allocated a non-zero weight.\n",
    "We can play with the ``gamma`` factor to adjust the number of zero weights that we want in our portfolio:"
   ]
  },
  {
   "cell_type": "code",
   "execution_count": null,
   "metadata": {},
   "outputs": [
    {
     "name": "stdout",
     "output_type": "stream",
     "text": [
      "===============================================================================\n",
      "                                     CVXPY                                     \n",
      "                                     v1.5.3                                    \n",
      "===============================================================================\n",
      "(CVXPY) Nov 15 11:03:34 AM: Your problem has 14 variables, 30 constraints, and 1 parameters.\n",
      "(CVXPY) Nov 15 11:03:34 AM: It is compliant with the following grammars: DCP, DQCP\n",
      "(CVXPY) Nov 15 11:03:34 AM: CVXPY will first compile your problem; then, it will invoke a numerical solver to obtain a solution.\n",
      "(CVXPY) Nov 15 11:03:34 AM: Your problem is compiled with the CPP canonicalization backend.\n",
      "-------------------------------------------------------------------------------\n",
      "                                  Compilation                                  \n",
      "-------------------------------------------------------------------------------\n",
      "(CVXPY) Nov 15 11:03:34 AM: Compiling problem (target solver=CLARABEL).\n",
      "(CVXPY) Nov 15 11:03:34 AM: Reduction chain: Dcp2Cone -> CvxAttr2Constr -> ConeMatrixStuffing -> CLARABEL\n",
      "(CVXPY) Nov 15 11:03:34 AM: Applying reduction Dcp2Cone\n",
      "(CVXPY) Nov 15 11:03:34 AM: Applying reduction CvxAttr2Constr\n",
      "(CVXPY) Nov 15 11:03:34 AM: Applying reduction ConeMatrixStuffing\n",
      "(CVXPY) Nov 15 11:03:34 AM: Applying reduction CLARABEL\n",
      "(CVXPY) Nov 15 11:03:34 AM: Finished problem compilation (took 4.570e-02 seconds).\n",
      "(CVXPY) Nov 15 11:03:34 AM: (Subsequent compilations of this problem, using the same arguments, should take less time.)\n",
      "-------------------------------------------------------------------------------\n",
      "                                Numerical solver                               \n",
      "-------------------------------------------------------------------------------\n",
      "(CVXPY) Nov 15 11:03:34 AM: Invoking solver CLARABEL  to obtain a solution.\n",
      "-------------------------------------------------------------\n",
      "           Clarabel.rs v0.9.0  -  Clever Acronym                \n",
      "\n",
      "                   (c) Paul Goulart                          \n",
      "                University of Oxford, 2022                   \n",
      "-------------------------------------------------------------\n",
      "\n",
      "problem:\n",
      "  variables     = 15\n",
      "  constraints   = 46\n",
      "  nnz(P)        = 14\n",
      "  nnz(A)        = 241\n",
      "  cones (total) = 3\n",
      "    :        Zero = 1,  numel = 1\n",
      "    : Nonnegative = 1,  numel = 29\n",
      "    : SecondOrder = 1,  numel = 16\n",
      "\n",
      "settings:\n",
      "  linear algebra: direct / qdldl, precision: 64 bit\n",
      "  max iter = 200, time limit = Inf,  max step = 0.990\n",
      "  tol_feas = 1.0e-8, tol_gap_abs = 1.0e-8, tol_gap_rel = 1.0e-8,\n",
      "  static reg : on, ϵ1 = 1.0e-8, ϵ2 = 4.9e-32\n",
      "  dynamic reg: on, ϵ = 1.0e-13, δ = 2.0e-7\n",
      "  iter refine: on, reltol = 1.0e-13, abstol = 1.0e-12,\n",
      "               max iter = 10, stop ratio = 5.0\n",
      "  equilibrate: on, min_scale = 1.0e-4, max_scale = 1.0e4\n",
      "               max iter = 10\n",
      "\n",
      "iter    pcost        dcost       gap       pres      dres      k/t        μ       step      \n",
      "---------------------------------------------------------------------------------------------\n",
      "  0  -7.8550e-02  -9.5352e+01  9.53e+01  4.26e-01  9.50e-01  1.00e+00  1.62e+01   ------   \n",
      "  1  -1.0676e-01  -5.4649e+00  5.36e+00  4.03e-02  1.38e-01  9.18e-01  1.80e+00  9.90e-01  \n",
      "  2  -1.0924e-01  -8.9676e-01  7.88e-01  6.15e-03  3.16e-02  1.57e-01  3.46e-01  8.22e-01  \n",
      "  3  -1.0054e-01  -6.3639e-01  5.36e-01  4.07e-03  9.05e-03  9.51e-02  2.18e-01  5.58e-01  \n",
      "  4  -9.7296e-02  -1.6124e-01  6.39e-02  4.23e-04  1.09e-03  8.44e-03  2.60e-02  9.04e-01  \n",
      "  5  -1.0035e-01  -1.2451e-01  2.42e-02  1.46e-04  4.54e-04  1.94e-03  9.30e-03  9.83e-01  \n",
      "  6  -1.0242e-01  -1.0420e-01  1.77e-03  8.68e-06  2.79e-05  1.31e-04  6.62e-04  9.48e-01  \n",
      "  7  -1.0255e-01  -1.0261e-01  5.84e-05  1.78e-07  5.77e-07  3.09e-06  2.10e-05  9.90e-01  \n",
      "  8  -1.0257e-01  -1.0257e-01  1.78e-06  3.22e-09  1.04e-08  7.10e-08  6.18e-07  9.82e-01  \n",
      "  9  -1.0257e-01  -1.0257e-01  8.79e-08  4.02e-11  1.30e-10  1.90e-09  2.89e-08  9.90e-01  \n",
      " 10  -1.0257e-01  -1.0257e-01  4.83e-09  1.69e-10  1.33e-12  5.68e-11  1.52e-09  9.90e-01  \n",
      "---------------------------------------------------------------------------------------------\n",
      "Terminated with status = Solved\n",
      "solve time = 518.216µs\n",
      "-------------------------------------------------------------------------------\n",
      "                                    Summary                                    \n",
      "-------------------------------------------------------------------------------\n",
      "(CVXPY) Nov 15 11:03:34 AM: Problem status: optimal\n",
      "(CVXPY) Nov 15 11:03:34 AM: Optimal value: -1.026e-01\n",
      "(CVXPY) Nov 15 11:03:34 AM: Compilation took 4.570e-02 seconds\n",
      "(CVXPY) Nov 15 11:03:34 AM: Solver (including time spent in interface) took 1.707e-03 seconds\n"
     ]
    },
    {
     "data": {
      "text/plain": [
       "OrderedDict([('AAPL', np.float64(0.0870948524662957)),\n",
       "             ('AMZN', np.float64(0.0175341154652774)),\n",
       "             ('C', np.float64(2.111078e-10)),\n",
       "             ('GOOG', np.float64(0.114776838862146)),\n",
       "             ('GS', np.float64(0.0293845150929148)),\n",
       "             ('JPM', np.float64(0.0259957575344174)),\n",
       "             ('META', np.float64(0.1310226641791422)),\n",
       "             ('MS', np.float64(1.979833e-10)),\n",
       "             ('MSFT', np.float64(0.0689515608821474)),\n",
       "             ('NFLX', np.float64(0.0569839718606788)),\n",
       "             ('PFE', np.float64(0.1055507568743195)),\n",
       "             ('TSLA', np.float64(0.1115202815650925)),\n",
       "             ('UNH', np.float64(0.1332606546629454)),\n",
       "             ('XOM', np.float64(0.1179240301455318))])"
      ]
     },
     "execution_count": 110,
     "metadata": {},
     "output_type": "execute_result"
    }
   ],
   "source": [
    "from pypo.portfolio_optimization.po_objective_functions import objective_functions\n",
    "# We need to create a new MeanVariancePO object first\n",
    "mv_po2b = po_models.MeanVariancePO(expected_returns=mhr, cov_matrix=sample_cov, weight_bounds=(0,1), verbose=True)\n",
    "mv_po2b.add_objective(objective_functions.L2_reg, gamma=1)\n",
    "erisk_opw2 = mv_po2b.efficient_risk(target_volatility=0.20) # Maximizes return for target risk\n",
    "erisk_opw2"
   ]
  },
  {
   "cell_type": "markdown",
   "metadata": {},
   "source": [
    "For further examples on how to add custom objectives to the optimization, visit [the cookbook](https://github.com/robertmartin8/PyPortfolioOpt/blob/master/cookbook/2-Mean-Variance-Optimisation.ipynb) provided by the original docs of the PyPortOpt library."
   ]
  },
  {
   "cell_type": "markdown",
   "metadata": {},
   "source": [
    "### 2.4) Portfolio Optimization Constraints"
   ]
  },
  {
   "cell_type": "markdown",
   "metadata": {},
   "source": [
    "Constraints and objectives are treated similarly from an optimization point of view. Therefore, the methodology to add constraints to a portfolio optimization is very similar to the process of adding objectives described above. The main portfolio optimization constraints which can be implemented are:\n",
    " \n",
    " - **Market Neutrality**\n",
    "\n",
    " - **Long/Short Portfolio**\n",
    " \n",
    " - **Weight Bounds** (limit the position size of securities)\n",
    " \n",
    " - **Sector & Security Constraints**\n",
    " \n",
    " - **Score Constraints**\n",
    "\n",
    " - **Nº of Asset Constraints** (Convexity Constraints)\n",
    "\n",
    " - **Tracking Error Constraints**"
   ]
  },
  {
   "cell_type": "markdown",
   "metadata": {},
   "source": [
    "#### Market Neutrality"
   ]
  },
  {
   "cell_type": "markdown",
   "metadata": {},
   "source": [
    "When defining certain objective functions, it is possible to specify the option ``market_neutral=True`` to form a market-neutral portfolio (i.e weights sum to zero). This is not possible for the max Sharpe portfolio and the min volatility portfolio because in those cases because they are not invariant with respect to leverage. Market neutrality requires negative weights:"
   ]
  },
  {
   "cell_type": "code",
   "execution_count": null,
   "metadata": {},
   "outputs": [
    {
     "data": {
      "text/plain": [
       "OrderedDict([('AAPL', np.float64(0.7293008092708207)),\n",
       "             ('AMZN', np.float64(-0.1627648368325332)),\n",
       "             ('C', np.float64(-1.0)),\n",
       "             ('GOOG', np.float64(1.0)),\n",
       "             ('GS', np.float64(-0.2772522791607433)),\n",
       "             ('JPM', np.float64(0.446932427897695)),\n",
       "             ('META', np.float64(0.1700845215533746)),\n",
       "             ('MS', np.float64(-0.1371972276347609)),\n",
       "             ('MSFT', np.float64(-1.0)),\n",
       "             ('NFLX', np.float64(0.4332355776742808)),\n",
       "             ('PFE', np.float64(-1.0)),\n",
       "             ('TSLA', np.float64(1.0)),\n",
       "             ('UNH', np.float64(0.7976610072318663)),\n",
       "             ('XOM', np.float64(-1.0))])"
      ]
     },
     "execution_count": 113,
     "metadata": {},
     "output_type": "execute_result"
    }
   ],
   "source": [
    "market_neutral_po1 = po_models.MeanVariancePO(mhr, sample_cov, weight_bounds=(-1,1))\n",
    "market_neutral_po2 = po_models.MeanVariancePO(mhr, sample_cov, weight_bounds=(-1,1))\n",
    "market_neutral_po3 = po_models.MeanVariancePO(mhr, sample_cov, weight_bounds=(-1,1))\n",
    "\n",
    "market_neutral_po1.efficient_risk(target_volatility=0.2, market_neutral=True)\n",
    "market_neutral_po2.efficient_return(target_return=0.2, market_neutral=True)\n",
    "market_neutral_po3.max_quadratic_utility(risk_aversion=1, market_neutral=True)"
   ]
  },
  {
   "cell_type": "markdown",
   "metadata": {},
   "source": [
    "#### Long/Short Portfolio"
   ]
  },
  {
   "cell_type": "markdown",
   "metadata": {},
   "source": [
    "We can choose to create long-only or long-short portfolios, by specifying the desired ``weight_bounds``when instanciating the ``MeanVarianceO``object (or the portfolio optimization model of choice). Introducing ``weight_bounds=(-1,1)`` –or no bounds whatsoever: ``weight_bounds=(None,None)``– enables the creation of long-short portfolios:"
   ]
  },
  {
   "cell_type": "code",
   "execution_count": null,
   "metadata": {},
   "outputs": [],
   "source": [
    "long_only_po = po_models.MeanVariancePO(mhr, sample_cov, weight_bounds=(0,1))\n",
    "long_short_po = po_models.MeanVariancePO(mhr, sample_cov, weight_bounds=(-1,1))\n",
    "long_short_po = po_models.MeanVariancePO(mhr, sample_cov, weight_bounds=(None,None))"
   ]
  },
  {
   "cell_type": "markdown",
   "metadata": {},
   "source": [
    "#### Weight Bounds"
   ]
  },
  {
   "cell_type": "markdown",
   "metadata": {},
   "source": [
    "Imagine that you don't want any security to account for more than 15% of the total portfolio. This can be easily implemented with the parameter ``weight_bounds``:"
   ]
  },
  {
   "cell_type": "code",
   "execution_count": null,
   "metadata": {},
   "outputs": [],
   "source": [
    "limited_size_po = po_models.MeanVariancePO(mhr, sample_cov, weight_bounds=(0,0.15))"
   ]
  },
  {
   "cell_type": "markdown",
   "metadata": {},
   "source": [
    "#### Sector and Securities Constraints"
   ]
  },
  {
   "cell_type": "markdown",
   "metadata": {},
   "source": [
    "Many times it is the case that you don't want to invest more than a certain amount of your portfolio in certain sectors or specific securities."
   ]
  },
  {
   "cell_type": "markdown",
   "metadata": {},
   "source": [
    "Sector constraints can be implemented as follows, using 3 inputs: a ``security_sector_map``, and your ``sector_lower_bounds`` and ``sector_upper_bounds``:"
   ]
  },
  {
   "cell_type": "code",
   "execution_count": null,
   "metadata": {},
   "outputs": [],
   "source": [
    "security_sector_map = {\n",
    "    \"AMZN\": \"Consumer Discretionary\",\n",
    "    \"C\": \"Tech\",\n",
    "    \"GOOG\": \"Tech\",\n",
    "    \"GS\": \"Financial Services\",\n",
    "    \"JPM\": \"Financial Services\",\n",
    "    \"Meta\": \"Tech\",\n",
    "    \"MS\": \"Financial Services\",\n",
    "    \"MSFT\": \"Tech\",\n",
    "    \"NFLX\": \"Communication Services\",\n",
    "    \"PFE\": \"Healthcare\",\n",
    "    \"TSLA\": \"Auto\",\n",
    "    \"UNH\": \"Healthcare\",\n",
    "    \"XOM\": \"Energy\"\n",
    "}\n",
    "\n",
    "sector_lower_bounds = {\n",
    "    \"Financial Services\": 0.03, # at least 3% to Financial Services\n",
    "    \"Tech\": 0.05 # at least 5% to Tech\n",
    "    # For all other sectors, it will be assumed there is no lower bound\n",
    "}\n",
    "\n",
    "sector_upper_bounds = {\n",
    "    \"Tech\": 0.2,\n",
    "    \"Energy\": 0.1,\n",
    "    \"Auto\":0.15\n",
    "}"
   ]
  },
  {
   "cell_type": "markdown",
   "metadata": {},
   "source": [
    "Constraints on specific securities can also be added following two steps: i) adding the security ticker to the internal index of the library, and ii) defining the specific bound. The following example combines both sector and security constraints:"
   ]
  },
  {
   "cell_type": "code",
   "execution_count": null,
   "metadata": {},
   "outputs": [
    {
     "data": {
      "text/plain": [
       "OrderedDict([('AAPL', np.float64(0.1344084488591732)),\n",
       "             ('AMZN', np.float64(0.07)),\n",
       "             ('C', np.float64(0.0)),\n",
       "             ('GOOG', np.float64(0.2)),\n",
       "             ('GS', np.float64(0.0046415148219269)),\n",
       "             ('JPM', np.float64(0.0253584851780731)),\n",
       "             ('META', np.float64(0.05)),\n",
       "             ('MS', np.float64(0.0)),\n",
       "             ('MSFT', np.float64(0.0)),\n",
       "             ('NFLX', np.float64(0.1017765767956572)),\n",
       "             ('PFE', np.float64(0.0)),\n",
       "             ('TSLA', np.float64(0.15)),\n",
       "             ('UNH', np.float64(0.2638149743451697)),\n",
       "             ('XOM', np.float64(0.0))])"
      ]
     },
     "execution_count": 35,
     "metadata": {},
     "output_type": "execute_result"
    }
   ],
   "source": [
    "constrained_po = po_models.MeanVariancePO(mhr, sample_cov, weight_bounds=(0,1))\n",
    "\n",
    "# Adding sector constraints previously defined:\n",
    "constrained_po.add_sector_constraints(security_sector_map, sector_lower_bounds, sector_upper_bounds)\n",
    "\n",
    "amzn_index = constrained_po.tickers.index(\"AMZN\")\n",
    "constrained_po.add_constraint(lambda w: w[amzn_index] == 0.07) # Assigns exactly 10% of the portfolio to Amazon\n",
    "\n",
    "tsla_index = constrained_po.tickers.index(\"TSLA\")\n",
    "constrained_po.add_constraint(lambda w: w[tsla_index] >= 0.01) # Assigns more than 5% of the portfolio to Tesla\n",
    "\n",
    "meta_index = constrained_po.tickers.index(\"META\")\n",
    "constrained_po.add_constraint(lambda w: w[meta_index] <= 0.05) # Assigns less than 3% of the portfolio to META\n",
    "\n",
    "\n",
    "opw_cpo = constrained_po.max_sharpe()\n",
    "opw_cpo"
   ]
  },
  {
   "cell_type": "code",
   "execution_count": null,
   "metadata": {},
   "outputs": [
    {
     "data": {
      "text/plain": [
       "<Axes: >"
      ]
     },
     "execution_count": 55,
     "metadata": {},
     "output_type": "execute_result"
    },
    {
     "data": {
      "image/png": "[encoded data removed]",
      "text/plain": [
       "<Figure size 700x700 with 1 Axes>"
      ]
     },
     "metadata": {},
     "output_type": "display_data"
    }
   ],
   "source": [
    "colors = ['#2085ec', '#72b4eb', '#0a417a', '#8464a0', '#cea9bc', '#44247c', '#9aaddc']\n",
    "\n",
    "pd.Series(opw_cpo).plot.pie(figsize=(7,7), colors=colors, autopct='%1.1f%%', pctdistance=0.85)"
   ]
  },
  {
   "cell_type": "markdown",
   "metadata": {},
   "source": [
    "#### Score Constraints"
   ]
  },
  {
   "cell_type": "markdown",
   "metadata": {},
   "source": [
    "Imagine you have a \"score\" for each asset—this could be an ESG metric or a custom risk/return measure. Setting linear constraints is straightforward; for example, if you want the portfolio's ESG score to exceed a certain threshold ``x``, you can create a vector of scores and impose a constraint on the dot product of these scores with the portfolio weights. After that, you can proceed to optimize your objective."
   ]
  },
  {
   "cell_type": "code",
   "execution_count": null,
   "metadata": {},
   "outputs": [
    {
     "data": {
      "text/plain": [
       "OrderedDict([('AAPL', np.float64(0.043110058368738)),\n",
       "             ('AMZN', np.float64(0.0)),\n",
       "             ('C', np.float64(0.0)),\n",
       "             ('GOOG', np.float64(0.0008607599273448)),\n",
       "             ('GS', np.float64(0.0048537664391726)),\n",
       "             ('JPM', np.float64(0.0)),\n",
       "             ('META', np.float64(0.2104300643544425)),\n",
       "             ('MS', np.float64(0.0)),\n",
       "             ('MSFT', np.float64(0.0293947848410581)),\n",
       "             ('NFLX', np.float64(0.0013954893932988)),\n",
       "             ('PFE', np.float64(0.1934319557863418)),\n",
       "             ('TSLA', np.float64(0.040343866608974)),\n",
       "             ('UNH', np.float64(0.2248624114590064)),\n",
       "             ('XOM', np.float64(0.2513168428216229))])"
      ]
     },
     "execution_count": 77,
     "metadata": {},
     "output_type": "execute_result"
    }
   ],
   "source": [
    "esg_scores = [0.3, 0.1, 0.5, 0.1, 0.4, 0.1, 0.9, 0.20, 0.1, 0.4, 0.1, 0.5, 0.9, 0.2]\n",
    "portfolio_min_score = 0.5\n",
    "\n",
    "scores_const_po = po_models.MeanVariancePO(mhr, sample_cov)\n",
    "scores_const_po.add_constraint(lambda w: esg_scores @ w >= portfolio_min_score)\n",
    "scores_const_po.min_volatility()"
   ]
  },
  {
   "cell_type": "markdown",
   "metadata": {},
   "source": [
    "#### Nº of Asset Constraints"
   ]
  },
  {
   "cell_type": "markdown",
   "metadata": {},
   "source": [
    "Cardinality constraints present a challenge due to their non-convex nature, complicating implementation. \n",
    "Nonetheless, we can approach this as a mixed-integer program, which can be solved if you have access to an appropriate solver. For smaller problems with fewer than 1,000 variables and constraints, a good option is the community version of CPLEX. For an example of how to implement Nº of Asset Constraints, check [PyPortOpt docs](https://pyportfolioopt.readthedocs.io/en/latest/FAQ.html#constraining-the-number-of-assets)."
   ]
  },
  {
   "cell_type": "markdown",
   "metadata": {},
   "source": [
    "#### Tracking Error Constraints"
   ]
  },
  {
   "cell_type": "markdown",
   "metadata": {},
   "source": [
    "Tracking error can either be used as an objective (as described in General Efficient Frontier) or as a constraint. For an example of how to implement Tracking Error Constraints, check [PyPortOpt docs](https://pyportfolioopt.readthedocs.io/en/latest/FAQ.html#tracking-error)."
   ]
  },
  {
   "cell_type": "markdown",
   "metadata": {},
   "source": [
    "### 2.5) Portfolio Optimization Period"
   ]
  },
  {
   "cell_type": "markdown",
   "metadata": {},
   "source": [
    "One of the main limitations of the present PyPO library (based on PyPortfolioOpt open-source library) is that the optimization is single-period, meaning that based on the input parameters the output optimal portfolio is only valid for a static period of time. Of course, due to the dynamic nature of financial markets it would be preferable to have a dynamic optimization in order to reflect the latest information available in the optimized portfolio and take optimal rebalancing decisions."
   ]
  },
  {
   "cell_type": "markdown",
   "metadata": {},
   "source": [
    "Future development plans for PyPO include extending the optimization functionalities to address the portfolio optimization problem dynamically. Two main approaches can be found in literature that address PO dynamically, as a Multi-Period Portfolio Optimization (MPPO): \n",
    "- The first approach considers a discretetime PO, where the expected utility of the investor terminal wealth is maximized over a multi-period investment horizon, and portfolio can be rebalanced only at discrete points in time (e.g. for a 1-year PSP, adjusting portfolio weights at the beginning of every month). \n",
    "- The second approach is a continuous-time optimization, where asset weights can be reallocated at any time within the investment horizon. \n",
    "\n",
    "[Zhang et. al.](https://link.springer.com/article/10.1007/s10700-017-9266-z) provide a detailed review on the formulation and advantages of dynamic PO techniques."
   ]
  },
  {
   "cell_type": "markdown",
   "metadata": {},
   "source": [
    "### 2.6) Portfolio Optimization Solver (Optimizer)"
   ]
  },
  {
   "cell_type": "markdown",
   "metadata": {},
   "source": [
    "The solver implemented to address the optimization problem in the previous examples has been implemented under the hood of the ``MeanVariancePO`` class, which inherits its methods from the ``BaseConvexOptimizer`` class. In the context of Mean-Variance theory, as the optimization problem is typically convex (unless non-convex constraints or objectives are introduced), it can be solved via quadratic programming with the [cvxpy](https://www.cvxpy.org/) python library for convex optimization."
   ]
  },
  {
   "cell_type": "markdown",
   "metadata": {},
   "source": [
    "While Mean-Variance optimization framework can be addressed with convex optimization, other portfolio optimization models which are completely different in character may use different optimization schemes. An overall summary is presented below for quick reference, including the main portfolio optimization models and the optimization solver they use in this library. For full implementation details visit [PyPortfolioOpt docs](https://pyportfolioopt.readthedocs.io/en/latest/OtherOptimizers.html)."
   ]
  },
  {
   "cell_type": "markdown",
   "metadata": {},
   "source": [
    "| Portfolio Optimization Model                    | Module               | Main Class            | Optimization Solver        | Optimization Solver Details       |\n",
    "|-------------------------------------------------|----------------------|-----------------------|----------------------------|-----------------------------------|\n",
    "| Mean-Variance Portfolio Optimization            | mv_po.py             | ``MeanVariancePO``    | ``BaseConvexOptimizer``    | MVPO is addressed with convex optimization via [cvxpy](https://www.cvxpy.org/)|\n",
    "| Mean-SemiVariance Portfolio Optimization        | msv_po.py            | ``MeanSemivariancePO``| ``BaseConvexOptimizer``    | MSVPO can be re-written as convex problem ([full details here](https://pyportfolioopt.readthedocs.io/en/latest/GeneralEfficientFrontier.html#efficient-semivariance))|\n",
    "| Mean-CVaR Portfolio Optimization                | mcvar_po.py          | ``MeanCVaRPO``        | ``BaseConvexOptimizer``    | MCVaRPO can be reduced to linear program ([full details here](https://pyportfolioopt.readthedocs.io/en/latest/GeneralEfficientFrontier.html#efficient-cvar))|\n",
    "| Mean-CDaR Portfolio Optimization                | mcdar_po.py          | ``MeanCDaRPO``        | ``BaseConvexOptimizer``    | MCDaRPO can be reduced to linear program ([full details here](https://pyportfolioopt.readthedocs.io/en/latest/GeneralEfficientFrontier.html#efficientcdar))|\n",
    "| Critical Line Algorithm Portfolio Optimization  | cla_po.py            | ``CLAPO``             | ``BaseOptimizer``          | CLAPO uses [CLA convex optimization solver](https://pyportfolioopt.readthedocs.io/en/latest/OtherOptimizers.html#the-critical-line-algorithm), specifically designed for PO |\n",
    "| Hierarchical Risk Parity Portfolio Optimization | hrp_po.py            | ``HRPPO``             | ``BaseOptimizer``          | HRPPO implements hierarchical clustering optimization ([more details here](https://pyportfolioopt.readthedocs.io/en/latest/OtherOptimizers.html#hierarchical-risk-parity-hrp))|"
   ]
  },
  {
   "cell_type": "markdown",
   "metadata": {},
   "source": [
    "## 3) Portfolio Performance"
   ]
  },
  {
   "cell_type": "markdown",
   "metadata": {},
   "source": [
    "### 3.1) See Portfolio Tidy Weights"
   ]
  },
  {
   "cell_type": "markdown",
   "metadata": {},
   "source": [
    "You probably have realised that portfolio weights used in this sample guide are quite ugly (with the use the default numpy formatting, and a lot of decimal figures). There is an option to express the weights in a more visual, tidy way with the ``.clean_weights()`` method."
   ]
  },
  {
   "cell_type": "code",
   "execution_count": null,
   "metadata": {},
   "outputs": [
    {
     "data": {
      "text/plain": [
       "OrderedDict([('AAPL', np.float64(0.0343931974466719)),\n",
       "             ('AMZN', np.float64(0.0)),\n",
       "             ('C', np.float64(0.0)),\n",
       "             ('GOOG', np.float64(0.0696809288910848)),\n",
       "             ('GS', np.float64(0.0)),\n",
       "             ('JPM', np.float64(0.0)),\n",
       "             ('META', np.float64(0.1360333222402438)),\n",
       "             ('MS', np.float64(0.0)),\n",
       "             ('MSFT', np.float64(0.0731776247308733)),\n",
       "             ('NFLX', np.float64(0.0018861533172046)),\n",
       "             ('PFE', np.float64(0.272459136132731)),\n",
       "             ('TSLA', np.float64(0.0343304684708003)),\n",
       "             ('UNH', np.float64(0.1047591376281346)),\n",
       "             ('XOM', np.float64(0.2732800311422558))])"
      ]
     },
     "execution_count": 92,
     "metadata": {},
     "output_type": "execute_result"
    }
   ],
   "source": [
    "mv_po = po_models.MeanVariancePO(mhr, sample_cov, weight_bounds=(0,1))\n",
    "\n",
    "optimal_portfolio_weights = mv_po.min_volatility()\n",
    "optimal_portfolio_weights"
   ]
  },
  {
   "cell_type": "code",
   "execution_count": null,
   "metadata": {},
   "outputs": [
    {
     "data": {
      "text/plain": [
       "OrderedDict([('AAPL', np.float64(0.03439)),\n",
       "             ('AMZN', np.float64(0.0)),\n",
       "             ('C', np.float64(0.0)),\n",
       "             ('GOOG', np.float64(0.06968)),\n",
       "             ('GS', np.float64(0.0)),\n",
       "             ('JPM', np.float64(0.0)),\n",
       "             ('META', np.float64(0.13603)),\n",
       "             ('MS', np.float64(0.0)),\n",
       "             ('MSFT', np.float64(0.07318)),\n",
       "             ('NFLX', np.float64(0.00189)),\n",
       "             ('PFE', np.float64(0.27246)),\n",
       "             ('TSLA', np.float64(0.03433)),\n",
       "             ('UNH', np.float64(0.10476)),\n",
       "             ('XOM', np.float64(0.27328))])"
      ]
     },
     "execution_count": 97,
     "metadata": {},
     "output_type": "execute_result"
    }
   ],
   "source": [
    "mv_po = po_models.MeanVariancePO(mhr, sample_cov, weight_bounds=(0,1))\n",
    "\n",
    "mv_po.min_volatility()\n",
    "optimal_portfolio_clean_weights = mv_po.clean_weights()\n",
    "optimal_portfolio_clean_weights"
   ]
  },
  {
   "cell_type": "markdown",
   "metadata": {},
   "source": [
    "### 3.2) Portfolio Optimization Performance"
   ]
  },
  {
   "cell_type": "markdown",
   "metadata": {},
   "source": [
    "To compute the portfolio performance (expected annual return, volatility and Sharpe Ratio) simply call the method ``.portfolio_performance()`` on the portfolio model object after having calculated the optimization objectives of choice:"
   ]
  },
  {
   "cell_type": "code",
   "execution_count": 14,
   "metadata": {},
   "outputs": [
    {
     "name": "stdout",
     "output_type": "stream",
     "text": [
      "Expected annual return: 13.2%\n",
      "Annual volatility: 18.2%\n",
      "Sharpe Ratio: 0.62\n"
     ]
    },
    {
     "data": {
      "text/plain": [
       "(np.float64(0.1322306286443796),\n",
       " np.float64(0.18164815403849766),\n",
       " np.float64(0.6178462381764361))"
      ]
     },
     "execution_count": 14,
     "metadata": {},
     "output_type": "execute_result"
    }
   ],
   "source": [
    "from pypo.portfolio_performance import portfolio_performance\n",
    "\n",
    "mv_po = po_models.MeanVariancePO(mhr, sample_cov, weight_bounds=(0,1))\n",
    "opw = mv_po.min_volatility()\n",
    "mv_po.portfolio_performance(verbose=True)"
   ]
  },
  {
   "cell_type": "markdown",
   "metadata": {},
   "source": [
    "### 3.3) Portfolio Discrete Allocation"
   ]
  },
  {
   "cell_type": "markdown",
   "metadata": {},
   "source": [
    "Once we have the optimal portfolio weights, it is probably useful to express it in execution terms (how much quantity of each stock to buy at the current market price). The function ``discrete_allocation`` helps us with this purpose:"
   ]
  },
  {
   "cell_type": "code",
   "execution_count": null,
   "metadata": {},
   "outputs": [
    {
     "name": "stdout",
     "output_type": "stream",
     "text": [
      "Discrete allocation performed with $13.46 leftover\n"
     ]
    },
    {
     "data": {
      "text/plain": [
       "{'AAPL': 3.0,\n",
       " 'GOOG': 8.0,\n",
       " 'META': 5.0,\n",
       " 'MSFT': 3.0,\n",
       " 'PFE': 218.0,\n",
       " 'TSLA': 2.0,\n",
       " 'UNH': 4.0,\n",
       " 'XOM': 46.0}"
      ]
     },
     "execution_count": 102,
     "metadata": {},
     "output_type": "execute_result"
    }
   ],
   "source": [
    "from pypo.utils import DiscreteAllocation\n",
    "\n",
    "latest_prices = prices.iloc[-1]  # prices as of the day you are allocating\n",
    "da = DiscreteAllocation(optimal_portfolio_weights, latest_prices, total_portfolio_value=20000, short_ratio=0.3)\n",
    "alloc, leftover = da.lp_portfolio()\n",
    "print(f\"Discrete allocation performed with ${leftover:.2f} leftover\")\n",
    "{key: float(value) for key, value in alloc.items()}"
   ]
  }
 ],
 "metadata": {
  "kernelspec": {
   "display_name": ".venv",
   "language": "python",
   "name": "python3"
  },
  "language_info": {
   "codemirror_mode": {
    "name": "ipython",
    "version": 3
   },
   "file_extension": ".py",
   "mimetype": "text/x-python",
   "name": "python",
   "nbconvert_exporter": "python",
   "pygments_lexer": "ipython3",
   "version": "3.12.7"
  }
 },
 "nbformat": 4,
 "nbformat_minor": 2
}
